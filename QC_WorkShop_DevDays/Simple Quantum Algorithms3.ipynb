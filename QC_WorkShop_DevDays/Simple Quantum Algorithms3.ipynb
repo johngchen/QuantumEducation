{
 "cells": [
  {
   "cell_type": "markdown",
   "metadata": {},
   "source": [
    "# Simple Quantum Algorithms (and Key Concepts) <font color=\"red\">THREE</font>\n",
    "\n",
    "> ## <font color=\"red\">For</font> <font color=\"blue\">Dev Days</font>\n",
    "\n",
    "\n",
    "- #### Hands-on Experiential Learning <font color=\"red\">for the Software Engineer</font>"
   ]
  },
  {
   "cell_type": "markdown",
   "metadata": {},
   "source": [
    "![qc-banner](img/simple-quantum-algorithms.png \"qc-banner\")\n",
    "\n",
    "<BR>\n",
    "\n"
   ]
  },
  {
   "cell_type": "markdown",
   "metadata": {},
   "source": [
    "![multi-qubit-entanglement-13rd](img/multi-qubit-entanglement-13rd.png \"multi-qubit-entanglement-13rd\")\n",
    "\n",
    "<BR>\n",
    "\n"
   ]
  },
  {
   "cell_type": "code",
   "execution_count": null,
   "metadata": {},
   "outputs": [],
   "source": []
  },
  {
   "cell_type": "markdown",
   "metadata": {},
   "source": [
    "## What you will be exposed to - High level: \n",
    "\n",
    "\n",
    "- Software engineers in the Quantum Computing space need to know their way around quantum algorithms, particularly how they are implemented in a classical / quantum setting, the circuit architecture that undergirds the algorithms, and how that can be implemented in a variety of simulators (QUIRK, Qiskit, QCEngine - and others) \n",
    "- Given the above, there are a host of technical concepts that need to be **<font color=\"red\">understood experientially</font>** - we'll intentionally employ a vendor / framework agnostic approach to focus on the delivery of concept understanding and intuition procurement as the main value-add.\n",
    "\n",
    "> ### High Level Agenda (<font color=\"red\">*major sections*</font>): - quantum algorithms for the software engineer.\n",
    "\n",
    "0. <font color=\"blue\">*Amplitude (\"Magnitude\")Amplification*</font>\n",
    ">> 0. <font color=\"red\">Exercise</font> : Amplitude (\"Magnitude\")  Amplification **(QCEngine)**\n",
    ">> 0. <font color=\"red\">Exercise</font> : Iterative Amplitude (\"Magnitude\")  Amplification **(QCEngine)**\n",
    "0. <font color=\"blue\">*Quantum Fourier Transform   (\"QFT\")*</font>\n",
    ">> 0. <font color=\"red\">Exercise</font> : Quantum Fourier Transform (\"QFT\") - **QCEngine**\n"
   ]
  },
  {
   "cell_type": "code",
   "execution_count": null,
   "metadata": {},
   "outputs": [],
   "source": []
  },
  {
   "cell_type": "markdown",
   "metadata": {},
   "source": [
    "## <font color=\"red\">Developmental Detour</font>: -  <font color=\"blue\">Amplitude (<font color=\"black\">\"Magnitude\"</font>) Amplification</font>\n",
    "\n",
    "### <font color=\"blue\">Why this is important</font>: \n",
    "- *Amplitude Amplification* privides a process to transform **phase** information into **magnitude** information that can be read out when taking a final measurement.\n",
    "\n",
    "\n",
    "> - **<font color=\"blue\">Definition</font>:**: Amplitude Amplification is a tool that converts inaccessible (*hidden*) **phase** differences inside a QPU Curcuit into readable **magnitude** differences (*and vice Versa*).\n",
    "\n",
    "-  The Amplitude Amplification procedure stretches out (**amplifies**) the amplitude of the **marked item**, which **shrinks** the other items' amplitude, so that measuring the final state will return the right item with **near-certainty**.\n",
    "<BR>\n",
    "    \n",
    "    \n",
    "**<font color=\"black\">PROBLEM</font>:** - suppose we have a 4 qubit register that contains one of three quantum states (but we don't know which one as it's hidden in the phases of the circuit (*Key phases highlighted*).\n",
    "\n",
    "\n",
    "\n",
    "![amplitude-amplification-example](img/amplitude-amplification-example.png \"amplitude-amplification-example\")\n",
    "\n",
    "<BR>\n",
    "    \n",
    "    \n",
    "**<font color=\"black\">SOLUTION</font>:** - A single quantum algorithmic subroutine could reveal the hidden phase information by transforming it into magnitude information (*Key phases highlighted*).\n",
    "\n",
    "\n",
    "![amplitude-amplification-example-result](img/amplitude-amplification-example-result.png \"amplitude-amplification-example-result\")\n",
    "\n",
    "\n",
    "**<font color=\"black\">PROBLEM</font>:** - The resulting magnitude isn't as high as preferred to heavily influence the circuit toward a partucular value if it were to be measured.\n",
    "\n",
    "\n",
    "**<font color=\"black\">SOLUTION</font>:** - Apply the same transform process multiple times to increase the probability.\n",
    "\n",
    "\n",
    "![amplitude-amplification-multiple-applications](img/amplitude-amplification-multiple-applications.png \"amplitude-amplification-multiple-applications\")\n"
   ]
  },
  {
   "cell_type": "code",
   "execution_count": null,
   "metadata": {},
   "outputs": [],
   "source": []
  },
  {
   "cell_type": "markdown",
   "metadata": {},
   "source": [
    "## <font color=\"red\">Developmental Detour</font>: -  <font color=\"blue\">Quantum Fourier Transform (<font color=\"black\">\"QFT\"</font>)</font>\n",
    "\n",
    "\n",
    "> **Video**: https://www.youtube.com/watch?v=9jBiRPQ9Bkw&list=PLsedzcQz4wyXIxgF9zAv_G8_3SrZVjiye\n",
    "\n",
    "### <font color=\"blue\">Why this is important</font>: \n",
    "- *Quantum Fourier Transform (QFT)* privides a process (primitive) that allows access to hidden **patterns** and **information** stored in **relative phases** and **magnitudes** of the circuit.\n",
    "\n",
    "\n",
    "**<font color=\"black\">PROBLEM</font>:** - suppose we have a 4 qubit register that contains one of three quantum states (but we don't know which one as it's hidden in **both** the the **phases** and **magnitudes** of the circuit (*note those highlighted*).\n",
    "\n",
    "\n",
    "\n",
    "![QFT-states-hidden](img/QFT-states-hidden.png \"QFT-states-hidden\")\n",
    "\n",
    "<BR>\n",
    "    \n",
    "    \n",
    "**<font color=\"black\">SOLUTION</font>:** - A single quantum algorithmic subroutine could reveal the hidden phase information by transforming it into magnitude information (*note those highlighted*).\n",
    "\n",
    "\n",
    "![QFT-states-results](img/QFT-states-results.png \"QFT-states-results\")\n",
    "\n"
   ]
  },
  {
   "cell_type": "code",
   "execution_count": null,
   "metadata": {},
   "outputs": [],
   "source": []
  },
  {
   "cell_type": "markdown",
   "metadata": {},
   "source": [
    "# <font color=\"blue\">Hands-on Exercise(s)</font>: "
   ]
  },
  {
   "cell_type": "markdown",
   "metadata": {},
   "source": [
    "### <font color=\"blue\">Problem</font>  <font color=\"red\">ONE</font>"
   ]
  },
  {
   "cell_type": "markdown",
   "metadata": {},
   "source": [
    "## <font color=\"red\">Exercise</font> :  Amplitude (\"Magnitude\") Amplification (<font color=\"blue\">QCEngine</font>)\n",
    "\n",
    "\n",
    "\n",
    "- Experiment with the QCEngine Implementation to see how the Amplitude Amplification (Diagram below)  behaves (for intuitions sake).\n",
    "- **Cut and paste** the simple Amplitude Amplification code implementation into the QCEngine and run it - observe how the qubit magnitude(s) (via the circle plots) behave by clicking through the resulting program circuit.\n",
    "- The below circuit is what is implemented in the code.\n",
    "- What happens when you **double** up on the \"Flip + Mirror\" Operations?\n",
    "\n",
    "<BR>\n",
    "\n",
    "![amplitude-amplification](img/amplitude-amplification.png \"amplitude-amplification\")"
   ]
  },
  {
   "cell_type": "markdown",
   "metadata": {},
   "source": [
    "### Amplitide (\"Magnitude\") Amplification"
   ]
  },
  {
   "cell_type": "raw",
   "metadata": {},
   "source": [
    "// The Amplitide (\"Magnitude\") Amplification Experiment\n",
    "\n",
    "// Colorize Phase Shifts \n",
    "qc_options.color_by_phase=true\n",
    "\n",
    "// Experiment Setup\n",
    "var num_qubits = 4;\n",
    "qc.reset(num_qubits);\n",
    "var reg = qint.new(num_qubits, 'reg')\n",
    "\n",
    "// Initialize register w/Zero's\n",
    "reg.write(0);\n",
    "\n",
    "\n",
    "// Set up Register Superposition\n",
    "//\n",
    "qc.label('Superposition');\n",
    "qc.nop();\n",
    "reg.hadamard();\n",
    "qc.nop();\n",
    "qc.label();\n",
    "\n",
    "qc.nop();\n",
    "\n",
    "// Flip Operation\n",
    "//\n",
    "qc.label('Flip');\n",
    "qc.nop();\n",
    "reg.not(4|8);\n",
    "reg.cphase(180);\n",
    "reg.not(4|8);\n",
    "qc.nop();\n",
    "qc.label();\n",
    "\n",
    "qc.nop();\n",
    "\n",
    "// Mirror Operation\n",
    "//\n",
    "qc.label('Mirror');\n",
    "qc.nop();\n",
    "reg.Grover(); // This is the MIRROR Operation Gate\n",
    "qc.nop();\n",
    "qc.label();\n",
    "\n"
   ]
  },
  {
   "cell_type": "markdown",
   "metadata": {},
   "source": [
    "> ### <font color=\"red\">Full Screen Mode</font>: ( Amplitude (\"Magnitude\") Amplification )\n",
    "- https://oreilly-qc.github.io?p=6-1\n",
    "\n",
    "\n",
    "- **Inline Mode is below**."
   ]
  },
  {
   "cell_type": "code",
   "execution_count": 1,
   "metadata": {
    "scrolled": false
   },
   "outputs": [
    {
     "data": {
      "text/html": [
       "\n",
       "        <iframe\n",
       "            width=\"1200\"\n",
       "            height=\"600\"\n",
       "            src=\"https://oreilly-qc.github.io?p=6-1\"\n",
       "            frameborder=\"0\"\n",
       "            allowfullscreen\n",
       "        ></iframe>\n",
       "        "
      ],
      "text/plain": [
       "<IPython.lib.display.IFrame at 0x209cf682a20>"
      ]
     },
     "execution_count": 1,
     "metadata": {},
     "output_type": "execute_result"
    }
   ],
   "source": [
    "# QUIRK (Quantum Curcuit Simulator) \n",
    "from IPython.display import IFrame\n",
    "IFrame(src='https://oreilly-qc.github.io?p=6-1', width=1200, height=600)"
   ]
  },
  {
   "cell_type": "code",
   "execution_count": null,
   "metadata": {},
   "outputs": [],
   "source": []
  },
  {
   "cell_type": "markdown",
   "metadata": {},
   "source": [
    "### <font color=\"blue\">Problem</font>  <font color=\"red\">TWO</font>"
   ]
  },
  {
   "cell_type": "markdown",
   "metadata": {},
   "source": [
    "### <font color=\"red\">Exercise</font> :  Iterative Amplitude (\"Magnitude\") Amplification (<font color=\"blue\">QCEngine</font>)\n",
    "\n",
    "- Experiment with the QCEngine Implementation below to see how the various phase logic gates behave (for intuitions sake).\n",
    "- There are four Amplitude Amplification gates executed, the first few increases the amplitude to a desired state but observe that after a point diminishing returns begins to take effect. Toggle through the circuit to gain intuition as to the AA Gates behavior.\n",
    "\n",
    "\n",
    "> Try adding a **5th** iteration by altering the variable **number_of_iterations = 5** - what effect does that have?\n",
    "- What happens when too many are added?\n",
    "\n"
   ]
  },
  {
   "cell_type": "raw",
   "metadata": {},
   "source": [
    "// Iterative Amplitude (\"Magnitude\") Amplification \n",
    "\n",
    "// Colorize Phase Shifts \n",
    "qc_options.color_by_phase=true\n",
    "\n",
    "\n",
    "var number_to_flip = 3;\n",
    "var number_of_iterations = 4;\n",
    "var num_qubits = 4;\n",
    "qc.reset(num_qubits);\n",
    "var reg = qint.new(num_qubits, 'reg')\n",
    "\n",
    "reg.write(0);\n",
    "qc.label('prep');\n",
    "reg.hadamard();\n",
    "for (var i = 0; i < number_of_iterations; ++i)\n",
    "{\n",
    "    qc.label('Amplitude Amplification');\n",
    "\n",
    "    // Flip the marked value\n",
    "    reg.not(~number_to_flip);\n",
    "    reg.cphase(180);\n",
    "    reg.not(~number_to_flip);\n",
    "    reg.Grover();\n",
    "\n",
    "    // Peek at the probability\n",
    "    var prob = reg.peekProbability(number_to_flip);\n",
    "    qc.print('Iter '+i+': probability = '+prob+'\\n');\n",
    "\n",
    "    // just space it out visually\n",
    "    qc.label('');\n",
    "    qc.nop();\n",
    "}\n",
    "\n"
   ]
  },
  {
   "cell_type": "markdown",
   "metadata": {},
   "source": [
    "> ### <font color=\"red\">Full Screen Mode</font>: ( Amplitude (\"Magnitude\") Amplification Iterative)\n",
    "- https://oreilly-qc.github.io?p=6-2\n",
    "\n",
    "\n",
    "- **Inline Mode is below**."
   ]
  },
  {
   "cell_type": "code",
   "execution_count": 2,
   "metadata": {
    "scrolled": false
   },
   "outputs": [
    {
     "data": {
      "text/html": [
       "\n",
       "        <iframe\n",
       "            width=\"1200\"\n",
       "            height=\"600\"\n",
       "            src=\"https://oreilly-qc.github.io?p=6-2\"\n",
       "            frameborder=\"0\"\n",
       "            allowfullscreen\n",
       "        ></iframe>\n",
       "        "
      ],
      "text/plain": [
       "<IPython.lib.display.IFrame at 0x209cf6a2320>"
      ]
     },
     "execution_count": 2,
     "metadata": {},
     "output_type": "execute_result"
    }
   ],
   "source": [
    "# QUIRK (Quantum Curcuit Simulator) \n",
    "from IPython.display import IFrame\n",
    "IFrame(src='https://oreilly-qc.github.io?p=6-2', width=1200, height=600)"
   ]
  },
  {
   "cell_type": "code",
   "execution_count": null,
   "metadata": {},
   "outputs": [],
   "source": []
  },
  {
   "cell_type": "markdown",
   "metadata": {},
   "source": [
    "### <font color=\"blue\">Problem</font>  <font color=\"red\">THREE</font>"
   ]
  },
  {
   "cell_type": "markdown",
   "metadata": {},
   "source": [
    "### <font color=\"red\">Exercise</font> :  <font color=\"blue\">Quantum Fourier Transform (<font color=\"black\">\"QFT\"</font>) - QCEngine</font>\n",
    "\n",
    "- Experiment with the QCEngine Implementation below to see how the QFT process behaves (**for intuitions sake**) \n",
    "> - #### Make sure to use all three signals <font color=\"red\">(A, B and C)</font> and examine the behavior of the circuit after each change.\n",
    "- Observe the results of this circuit (below) in the running of the circuit (below) in the code sample.\n",
    "- Notice (after the \"prepare\" Phase of the circuit) that the **180 degree phase gate** executed on the **0X1 Qubit** (Qubit **ONE**) - only performs a phase flip on those qubits with a **ONE value** in the *binary table* below (highlighted) via the circle plots phase shifts.\n",
    "\n",
    "<BR>\n",
    "\n",
    "![QFT-A_ExampleResult](img/QFT-A_ExampleResult.png \"QFT-A_ExampleResult\")\n",
    "\n",
    "<BR>\n",
    "\n",
    "![QFT-circuit](img/QFT-circuit.png \"QFT-circuit\")\n",
    "\n",
    "<BR>\n",
    "\n",
    "![binary-table_0-15-NEW](img/binary-table_0-15-NEW.png \"binary-table_0-15-NEW\")\n",
    "\n",
    "<BR>\n",
    "\n",
    "- **Note** the error on #9, it should also be highlighted."
   ]
  },
  {
   "cell_type": "raw",
   "metadata": {},
   "source": [
    "// Quantum Fourier Transform (\"QFT\")\n",
    "\n",
    "// Colorize Phase Shifts \n",
    "qc_options.color_by_phase=true\n",
    "\n",
    "qc_options.color_by_phase = true;\n",
    "qc_options.book_render = true;\n",
    "\n",
    "var num_qubits = 4;\n",
    "qc.reset(num_qubits);\n",
    "var signal = qint.new(num_qubits, 'signal')\n",
    "var which_signal = 'A';\n",
    "\n",
    "// prepare the signal\n",
    "qc.label('prepare');\n",
    "signal.write(0);\n",
    "signal.hadamard();\n",
    "if (which_signal == 'A') {\n",
    "    signal.phase(180, 1);\n",
    "} else if (which_signal == 'B') {\n",
    "    signal.phase(90, 1);\n",
    "    signal.phase(180, 2);\n",
    "} else if (which_signal == 'C') {\n",
    "    signal.phase(45, 1);\n",
    "    signal.phase(90, 2);\n",
    "    signal.phase(180, 4);\n",
    "}\n",
    "qc.label();\n",
    "qc.nop();\n",
    "\n",
    "qc.label('QFT');\n",
    "signal.QFT();\n",
    "qc.label();\n",
    "qc.nop();\n"
   ]
  },
  {
   "cell_type": "markdown",
   "metadata": {},
   "source": [
    "> ### <font color=\"red\">Full Screen Mode</font>: ( Quantum Fourier Transform (\"QFT\") )\n",
    "- https://oreilly-qc.github.io?p=7-1\n",
    "\n",
    "\n",
    "- **Inline Mode is below**."
   ]
  },
  {
   "cell_type": "code",
   "execution_count": 4,
   "metadata": {
    "scrolled": false
   },
   "outputs": [
    {
     "data": {
      "text/html": [
       "\n",
       "        <iframe\n",
       "            width=\"1200\"\n",
       "            height=\"900\"\n",
       "            src=\"https://oreilly-qc.github.io?p=7-1\"\n",
       "            frameborder=\"0\"\n",
       "            allowfullscreen\n",
       "        ></iframe>\n",
       "        "
      ],
      "text/plain": [
       "<IPython.lib.display.IFrame at 0x209cf6a2390>"
      ]
     },
     "execution_count": 4,
     "metadata": {},
     "output_type": "execute_result"
    }
   ],
   "source": [
    "from IPython.display import IFrame\n",
    "IFrame(src='https://oreilly-qc.github.io?p=7-1', width=1200, height=900)"
   ]
  },
  {
   "cell_type": "markdown",
   "metadata": {},
   "source": [
    "![the-end](img/the-end.png \"the-end\")"
   ]
  }
 ],
 "metadata": {
  "kernelspec": {
   "display_name": "qcousins",
   "language": "python",
   "name": "qcousins"
  },
  "language_info": {
   "codemirror_mode": {
    "name": "ipython",
    "version": 3
   },
   "file_extension": ".py",
   "mimetype": "text/x-python",
   "name": "python",
   "nbconvert_exporter": "python",
   "pygments_lexer": "ipython3",
   "version": "3.7.1"
  }
 },
 "nbformat": 4,
 "nbformat_minor": 2
}
