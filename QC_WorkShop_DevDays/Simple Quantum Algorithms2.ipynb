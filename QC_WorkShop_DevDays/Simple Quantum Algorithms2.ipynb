{
 "cells": [
  {
   "cell_type": "markdown",
   "metadata": {},
   "source": [
    "# Simple Quantum Algorithms (and Key Concepts) <font color=\"red\">TWO</font>\n",
    "\n",
    "> ## <font color=\"red\">For</font> <font color=\"blue\">Dev Days</font>\n",
    "\n",
    "\n",
    "- #### Hands-on Experiential Learning <font color=\"red\">for the Software Engineer</font>"
   ]
  },
  {
   "cell_type": "markdown",
   "metadata": {},
   "source": [
    "![qc-banner](img/simple-quantum-algorithms.png \"qc-banner\")\n",
    "\n"
   ]
  },
  {
   "cell_type": "markdown",
   "metadata": {},
   "source": [
    "![multi-qubit-entanglement-13rd](img/multi-qubit-entanglement-13rd.png \"multi-qubit-entanglement-13rd\")\n",
    "\n",
    "<BR>\n",
    "\n"
   ]
  },
  {
   "cell_type": "code",
   "execution_count": null,
   "metadata": {},
   "outputs": [],
   "source": []
  },
  {
   "cell_type": "markdown",
   "metadata": {},
   "source": [
    "## What you will be exposed to - High level: \n",
    "\n",
    "\n",
    "- Software engineers in the Quantum Computing space need to know their way around quantum algorithms, particularly how they are implemented in a classical / quantum setting, the circuit architecture that undergirds the algorithms, and how that can be implemented in a variety of simulators (QUIRK, Qiskit, QCEngine - and others) \n",
    "- Given the above, there are a host of technical concepts that need to be **<font color=\"red\">understood experientially</font>** - we'll intentionally employ a vendor / framework agnostic approach to focus on the delivery of concept understanding and intuition procurement as the main value-add.\n",
    "\n",
    "> ### High Level Agenda (<font color=\"red\">*major sections*</font>): - quantum algorithms for the software engineer.\n",
    "\n",
    "0. <font color=\"blue\">*CPhase (and its Representations)*</font>\n",
    ">> 0. <font color=\"red\">Exercise</font> : CPhase Implementation **(QCEngine)**\n",
    ">> 0. <font color=\"red\">Exercise</font> : CPhase Implementation **(QUIRK)**\n",
    "0. <font color=\"blue\">*Phase Kickback*</font>\n",
    ">> 0. <font color=\"red\">Exercise</font> : Phase Kickback Trick **(QCEngine)**\n",
    ">> 0. <font color=\"red\">Exercise</font> : Phase Kickback Trick **(QUIRK)**\n",
    "0. <font color=\"blue\">*Phase Logic*</font>\n",
    ">> 0. <font color=\"red\">Exercise</font> : Phase Logic **(QCEngine)**\n",
    ">> 0. <font color=\"red\">Exercise</font> : Phase Logic **(QUIRK)**\n"
   ]
  },
  {
   "cell_type": "code",
   "execution_count": null,
   "metadata": {},
   "outputs": [],
   "source": []
  },
  {
   "cell_type": "markdown",
   "metadata": {},
   "source": [
    "## <font color=\"red\">Developmental Detour</font>: -  <font color=\"blue\">CPhase (and its Representations)</font> [CZ Gate]\n",
    "- A **Two** Qubit Operation\n",
    "- Like CNOT in selective Control and Execution.\n",
    "\n",
    "    \n",
    "> ### Representations:    \n",
    "![cphase-representations](img/cphase-representations.png \"\")\n",
    "\n",
    "\n",
    "<BR>\n",
    "\n",
    "> ### Behavior:\n",
    "![CPhaseBehavior](img/CPhaseBehavior.png \"\")\n",
    "\n",
    "\n",
    "<BR>\n",
    "<img style=\"float: center;\" src=\"img/binary-table-0-7_excel.png\">\n",
    "\n",
    "\n",
    "> **NOTE**: \n",
    "- CPHASE **only acts** when it's control bit is **ONE** \n",
    "- It only affects target qubit states have a value of **ONE |1>**.\n",
    "- The CZ Gate is reversible.\n",
    "<BR>\n",
    "    \n",
    "    \n",
    "### <font color=\"blue\">Why this is important</font>:    \n",
    "    \n",
    "- ### CPhase employs a kind of **<font color=\"red\">\"entanglement-generating\"</font>** conditional logic that has a **<font color=\"blue\">\"symmetry\"</font>** between it's **inputs** such that it is **<font color=\"red\">irrelevant</font>** which qubit is considered the  **<font color=\"blue\">target</font>** and which qubit is considered the  **<font color=\"blue\">control</font>**. \n",
    "  \n",
    "  \n",
    "- #### This is vital to understanding the topic(s) of **Phase Kickback\"** and **Phase Logic**.\n",
    "  "
   ]
  },
  {
   "cell_type": "markdown",
   "metadata": {},
   "source": [
    "### <font color=\"red\">Exercise</font> :  CPhase Implementation (<font color=\"blue\">QCEngine</font>)\n",
    "\n",
    "- Cut-N-Paste the below code into the QCEngine and run it.\n",
    "- Examine the output area to gain intuition about the two representations of the CPHASE gate by clicking in the output areas and observing the behavior of the circle plots (pay attention to the phase angles)\n",
    "- Note that the 90dg phase rotation on qubit 2 does nothing. **Why?**\n",
    "- However the 90dg phase rotation works in qubits (1, 3).\n",
    "\n"
   ]
  },
  {
   "cell_type": "raw",
   "metadata": {},
   "source": [
    "// ######## QCEngine Stock CPhase Gate\n",
    "\n",
    "qc.reset(3);\n",
    "\n",
    "// Create two registers\n",
    "var qreg = qint.new(3, 'Register 1');\n",
    "\n",
    "// Write the binary Number 5 (101) to the register\n",
    "qreg.write(5);\n",
    "\n",
    "// Create the CPhase Gate\n",
    "qc.label(\"Stock CPHASE\")\n",
    "qc.nop();\n",
    "// CPHASE Gate\n",
    "qreg.cphase(180, 1, 4);\n",
    "qc.nop();\n",
    "qc.label();\n",
    "\n",
    "// Apply a standard Phase Rotation to ANY arbitrary Qubit \n",
    "// Change the number to either 1, 2 or 4 to move the standard phase gate\n",
    "qc.nop();\n",
    "qreg.phase(90, 1);\n",
    "qc.nop();\n",
    "\n",
    "\n"
   ]
  },
  {
   "cell_type": "raw",
   "metadata": {},
   "source": [
    "// ######## QCEngine CPhase Alternatate Representation\n",
    "\n",
    "qc.reset(3);\n",
    "\n",
    "// Create two registers\n",
    "var qreg = qint.new(3, 'Register 1');\n",
    "\n",
    "// Write the binary Number 5 (101) to the register\n",
    "qreg.write(5);\n",
    "\n",
    "\n",
    "// Create the CPhase H-CNOT Representation\n",
    "qc.label(\"CPHASE H-CNOT Gate\")\n",
    "qc.nop();\n",
    "// CPhase H-CNOT Gate Representation\n",
    "qreg.had(4);\n",
    "qreg.cnot(4,1);\n",
    "qreg.had(4);\n",
    "qc.nop();\n",
    "qc.label();\n",
    "\n",
    "// Apply a standard Phase Rotation to ANY arbitrary Qubit \n",
    "// Change the number to either 1, 2 or 4 to move the standard phase gate\n",
    "qc.nop();\n",
    "qreg.phase(90, 1);\n",
    "qc.nop();"
   ]
  },
  {
   "cell_type": "markdown",
   "metadata": {},
   "source": [
    "> ### <font color=\"red\">Full Screen Mode</font>: ( CPhase (and its Representations) [CZ Gate] )\n",
    "- https://oreilly-qc.github.io?p=3-3\n",
    "\n",
    "\n",
    "- **Inline Mode is below**."
   ]
  },
  {
   "cell_type": "code",
   "execution_count": 1,
   "metadata": {},
   "outputs": [
    {
     "data": {
      "text/html": [
       "\n",
       "        <iframe\n",
       "            width=\"900\"\n",
       "            height=\"600\"\n",
       "            src=\"https://oreilly-qc.github.io?p=3-3\"\n",
       "            frameborder=\"0\"\n",
       "            allowfullscreen\n",
       "        ></iframe>\n",
       "        "
      ],
      "text/plain": [
       "<IPython.lib.display.IFrame at 0x1e0655f3ba8>"
      ]
     },
     "execution_count": 1,
     "metadata": {},
     "output_type": "execute_result"
    }
   ],
   "source": [
    "# QUIRK (Quantum Curcuit Simulator) \n",
    "from IPython.display import IFrame\n",
    "IFrame(src='https://oreilly-qc.github.io?p=3-3', width=900, height=600)"
   ]
  },
  {
   "cell_type": "markdown",
   "metadata": {},
   "source": [
    "# <font color=\"red\">Developmental Detour</font>: -  <font color=\"blue\">Phase Kickback</font>\n",
    "\n",
    "> - **Definition**: When the **phases** of one register are **conditioned** upon the **values** of another register, then any phase changes executed on the one register **also affects the other registers phases** and are **cumulative** - aka, they get **\"kicked back\"** to the other register and **\"add up\"**.\n",
    "\n",
    "    \n",
    "![phase-kickback-diagram](img/phase-kickback-diagram.png \"\")\n",
    "\n",
    "<BR>\n",
    "\n",
    "<img style=\"float: center;\" src=\"img/binary-table-0-7_excel.png\">"
   ]
  },
  {
   "cell_type": "markdown",
   "metadata": {},
   "source": [
    "### <font color=\"red\">Exercise</font> :  Phase Kickback Trick (<font color=\"blue\">QCEngine</font>)\n",
    "\n",
    "- Experiment with the Program Circuit Output Display (clicking on the various points on the circuit) to see how the circle diagrams behave (for intuitions sake).\n",
    "- The **Phase Degrees** should be aprox: (**0, +45, +90, +135**) for decimal numbers (**4, 5, 6 7**).\n",
    "\n",
    "\n",
    "<BR>\n",
    "    \n",
    "![phase-kickback-trick-circle-charts](img/phase-kickback-trick-circle-charts.png \"phase-kickback-trick-circle-charts\")    \n",
    "    \n",
    "The **Relative Phase** (aka. Rotation)\n",
    "- <font color=\"red\">**Important**</font>: Phase operations <font color=\"red\">**only**</font> rotate the circle associated with the **|1>** state and will have <font color=\"red\">**no**</font> effect on the **|0>** state.\n",
    "![circle-plot-phase-rotations](img/circle-plot-phase-rotation.png \"\")\n",
    "\n"
   ]
  },
  {
   "cell_type": "markdown",
   "metadata": {},
   "source": [
    "### Post <font color=\"red\">Superposition</font> of Reg #1:\n",
    "![cPhaseKickBack-0dg](img/PhaseKickBack-0dg.png \"\")"
   ]
  },
  {
   "cell_type": "markdown",
   "metadata": {},
   "source": [
    "### Post <font color=\"red\">45dg</font> Phase Rotation of Reg #2:\n",
    "![cPhaseKickBack-90dg](img/PhaseKickBack-90dg.png \"\")"
   ]
  },
  {
   "cell_type": "markdown",
   "metadata": {},
   "source": [
    "### Post <font color=\"red\">90dg</font> Phase Rotation of Reg #2:\n",
    "![cPhaseKickBack-135dg](img/PhaseKickBack-135dg.png \"\")"
   ]
  },
  {
   "cell_type": "markdown",
   "metadata": {},
   "source": [
    "### For sake of contrast, perform simple 45dg phase rotations on qubit 3"
   ]
  },
  {
   "cell_type": "raw",
   "metadata": {},
   "source": [
    "// Simple 45dg phase rotations on qubit 3\n",
    "\n",
    "qc.reset(3);\n",
    "// Create two registers\n",
    "var reg1 = qint.new(2, 'Register 1');\n",
    "var reg2 = qint.new(1, 'Register 2');\n",
    "\n",
    "// Initialize the registers\n",
    "reg1.write(0);\n",
    "reg2.write(1);\n",
    "\n",
    "// Uncomment to Experiment w/Superposition\n",
    "// Entire Register Impacted\n",
    "// reg1.had();\n",
    "\n",
    "//  Standard Phase (Z) Rotations\n",
    "qc.label(\"3 x 45dg phase = 135dg total\")\n",
    "qc.nop();\n",
    "\n",
    "// Execute 3 45dg phase rotations for 135dg total on qubit 3 (Binary 4)\n",
    "qc.phase(45, 0x4);\n",
    "qc.phase(45, 0x4);\n",
    "qc.phase(45, 0x4);\n",
    "qc.nop();\n",
    "qc.label();\n"
   ]
  },
  {
   "cell_type": "markdown",
   "metadata": {},
   "source": [
    "### Enhanced Stock Phase Kickback Example\n",
    "- Note the progression from 0=>45=>90=>135 Degrees"
   ]
  },
  {
   "cell_type": "raw",
   "metadata": {},
   "source": [
    "// Enhanced Stock Phase Kickback Example\n",
    "\n",
    "qc.reset(3);\n",
    "// Create two registers\n",
    "var reg1 = qint.new(2, 'Register 1');\n",
    "var reg2 = qint.new(1, 'Register 2');\n",
    "reg1.write(0);\n",
    "reg2.write(1);\n",
    "\n",
    "qc.label(\"Phase Kickback\")\n",
    "qc.nop();\n",
    "// Place the first register in superposition\n",
    "reg1.had();\n",
    "qc.nop();\n",
    "\n",
    "// Perform phase rotations on second register,\n",
    "//conditioned on qubits from the first\n",
    "\n",
    "// 45dg Phase Rotation : 4x1\n",
    "qc.phase(45, 0x4, 0x1);\n",
    "qc.nop();\n",
    "\n",
    "// 90dg Phase Rotation: 4x2\n",
    "qc.phase(90, 0x4, 0x2);\n",
    "qc.nop();\n",
    "\n",
    "qc.label();"
   ]
  },
  {
   "cell_type": "markdown",
   "metadata": {},
   "source": [
    "> ### <font color=\"red\">Full Screen Mode</font>: ( CPhase (and its Representations) [CZ Gate] )\n",
    "- https://oreilly-qc.github.io?p=3-3\n",
    "\n",
    "\n",
    "- **Inline Mode is below**."
   ]
  },
  {
   "cell_type": "code",
   "execution_count": 3,
   "metadata": {
    "scrolled": false
   },
   "outputs": [
    {
     "data": {
      "text/html": [
       "\n",
       "        <iframe\n",
       "            width=\"1200\"\n",
       "            height=\"600\"\n",
       "            src=\"https://oreilly-qc.github.io?p=3-3\"\n",
       "            frameborder=\"0\"\n",
       "            allowfullscreen\n",
       "        ></iframe>\n",
       "        "
      ],
      "text/plain": [
       "<IPython.lib.display.IFrame at 0x1e06561b400>"
      ]
     },
     "execution_count": 3,
     "metadata": {},
     "output_type": "execute_result"
    }
   ],
   "source": [
    "# QUIRK (Quantum Curcuit Simulator) \n",
    "from IPython.display import IFrame\n",
    "IFrame(src='https://oreilly-qc.github.io?p=3-3', width=1200, height=600)"
   ]
  },
  {
   "cell_type": "markdown",
   "metadata": {},
   "source": [
    "## <font color=\"red\">Exercise</font> :  Phase Kickback Trick (<font color=\"blue\">QUIRK</font>)\n",
    "- Experiment with the QUIRK Implementation to see how the phase circle diagrams behave (for intuitions sake).\n",
    "- The **Phase Degrees** should be aprox: (**0, +45, +90, +135**) for decimal numbers (**4, 5, 6 7**).\n",
    "- **Note** the changes in the Phase Formula for QUIRK vs QCEngine (Roughly 2X).\n",
    "\n",
    "<BR>\n",
    "    \n",
    "![phase-kickback-trick-QUIRK](img/phase-kickback-trick-QUIRK2.png \"\")\n",
    "\n",
    "<BR>\n",
    "    \n",
    "\n",
    "> ### REFERENCE: QUIRK C-Phases:\n",
    "![QUIRK-C-Phases](img/QUIRK-C-Phases1.png \"\")\n"
   ]
  },
  {
   "cell_type": "markdown",
   "metadata": {},
   "source": [
    "![cPhaseKickBack-135dg](img/PhaseKickBack-135dg.png \"\")"
   ]
  },
  {
   "cell_type": "markdown",
   "metadata": {},
   "source": [
    "### Recreate the circuit with QUIRK\n",
    "- Any Intuition around the Phase Rotations of QUIRK?"
   ]
  },
  {
   "cell_type": "code",
   "execution_count": 4,
   "metadata": {
    "scrolled": false
   },
   "outputs": [
    {
     "data": {
      "text/html": [
       "\n",
       "        <iframe\n",
       "            width=\"900\"\n",
       "            height=\"600\"\n",
       "            src=\"https://algassert.com/quirk#circuit={%22cols%22:[[%22%E2%80%A6%22,1,%22X%22],[%22H%22,%22H%22],[%22%E2%80%A2%22,1,{%22id%22:%22Rzft%22,%22arg%22:%22pi/2%22}],[1,%22%E2%80%A2%22,{%22id%22:%22Rzft%22,%22arg%22:%22pi%22}],[%22Amps3%22]]}\"\n",
       "            frameborder=\"0\"\n",
       "            allowfullscreen\n",
       "        ></iframe>\n",
       "        "
      ],
      "text/plain": [
       "<IPython.lib.display.IFrame at 0x1e06561b2b0>"
      ]
     },
     "execution_count": 4,
     "metadata": {},
     "output_type": "execute_result"
    }
   ],
   "source": [
    "# QUIRK (Quantum Curcuit Simulator) \n",
    "from IPython.display import IFrame\n",
    "IFrame(src='https://algassert.com/quirk#circuit={%22cols%22:[[%22%E2%80%A6%22,1,%22X%22],[%22H%22,%22H%22],[%22%E2%80%A2%22,1,{%22id%22:%22Rzft%22,%22arg%22:%22pi/2%22}],[1,%22%E2%80%A2%22,{%22id%22:%22Rzft%22,%22arg%22:%22pi%22}],[%22Amps3%22]]}', width=900, height=600)"
   ]
  },
  {
   "cell_type": "code",
   "execution_count": null,
   "metadata": {},
   "outputs": [],
   "source": []
  },
  {
   "cell_type": "markdown",
   "metadata": {},
   "source": [
    "## <font color=\"red\">Developmental Detour</font> : -  <font color=\"blue\">Phase Logic</font>\n",
    "\n",
    "### <font color=\"blue\">Why this is important</font>: \n",
    "- #### *Phase Logic* undergirds many sophisticated (and powerful) manipulations used in the construction of Quantum Algorithms.\n",
    "- Phase Logic **<font color=\"red\">encodes</font>** information into relative phases by **writing the logical value of the qubit into its phases**.\n",
    "- NOTE: Phase Logic **requires** *magnitude-value* inputs and outputs **phases**.\n",
    "\n",
    "> - **<font color=\"blue\">Definition</font>:**: Phase Logic implements a given logic operation by **flipping the relative phases** of *values* in a register for which the *operation* would return a **ONE** value.\n",
    "\n",
    "\n",
    "![PhaseLogic-Explanation](img/PhaseLogic-Explanation.png \"\")\n",
    "\n",
    "\n",
    "<BR>\n",
    "\n",
    "### <font color=\"blue\">Phase Logic OperatorsFor Clarity Sake</font>\n",
    "\n",
    "![phase-logic-tips](img/phase-logic-tips.png \"\")\n",
    "    \n",
    "\n",
    "<BR>\n",
    "    \n",
    "### <font color=\"blue\">Phase Logic Operators</font>\n",
    "    \n",
    "![phase-logic-gate-results](img/phase-logic-gate-results.png \"\")\n",
    "\n",
    "<BR>\n",
    "\n",
    "### <font color=\"blue\">Phase Logic Circuit Gates</font>\n",
    "![phase-logic-gates](img/phase-logic-gates.png \"\")\n",
    "    \n",
    "\n",
    "\n"
   ]
  },
  {
   "cell_type": "markdown",
   "metadata": {},
   "source": [
    "### <font color=\"blue\">Phase Logic is <font color=\"red\">different</font> than Quantum Digital Logic</font>\n",
    "\n",
    "![digital-logic-gates-cnots](img/digital-logic-gates-cnots.png \"\")\n",
    "\n",
    "<BR>\n",
    "\n"
   ]
  },
  {
   "cell_type": "code",
   "execution_count": null,
   "metadata": {},
   "outputs": [],
   "source": []
  },
  {
   "cell_type": "markdown",
   "metadata": {},
   "source": [
    "# <font color=\"blue\">Hands-on Exercise(s)</font>: "
   ]
  },
  {
   "cell_type": "markdown",
   "metadata": {},
   "source": [
    "### <font color=\"red\">Exercise</font> :  Phase Logic (<font color=\"blue\">QCEngine</font>)\n",
    "\n",
    "- Experiment with the QCEngine Implementation to see how the various phase logic gates behave (for intuitions sake).\n",
    "- **Cut and paste** the **six** unique Phase Logic code implementations into the QCEngine and run them to observe how the phase manipulations behave - compare them to the chart above for verification purposes.\n",
    "\n",
    "    \n",
    "### <font color=\"blue\">Phase Logic Operators</font>\n",
    "    \n",
    "![phase-logic-gate-results](img/phase-logic-gate-results.png \"\")\n",
    "\n",
    "<BR>"
   ]
  },
  {
   "cell_type": "markdown",
   "metadata": {},
   "source": [
    "### Phase <font color=\"red\">NOT</font> Gate :- (Single Qubit Operation)"
   ]
  },
  {
   "cell_type": "raw",
   "metadata": {},
   "source": [
    "// The Phase-NOT-Gate\n",
    "\n",
    "// Colorize Phase Shifts \n",
    "qc_options.color_by_phase=true\n",
    "\n",
    "// Setup:\n",
    "//\n",
    "var num_qubits = 1;\n",
    "qc.reset(num_qubits);\n",
    "var a = qint.new(1, 'a');\n",
    "a.write(0);\n",
    "\n",
    "// Set up Superposition\n",
    "//\n",
    "qc.label('Superposition');\n",
    "qc.nop();\n",
    "a.had();\n",
    "qc.nop();\n",
    "qc.label();\n",
    "\n",
    "\n",
    "qc.nop();\n",
    "\n",
    "// Create the Phase NOT Gate\n",
    "//\n",
    "qc.label('Phase NOT');\n",
    "qc.nop();\n",
    "a.not();\n",
    "a.phase(180);\n",
    "a.not();\n",
    "qc.nop();"
   ]
  },
  {
   "cell_type": "markdown",
   "metadata": {},
   "source": [
    "### Phase <font color=\"red\">OR</font> Gate"
   ]
  },
  {
   "cell_type": "raw",
   "metadata": {},
   "source": [
    "// The Phase-OR-Gate\n",
    "\n",
    "// Colorize Phase Shifts \n",
    "qc_options.color_by_phase=true\n",
    "\n",
    "// Setup:\n",
    "//\n",
    "var num_qubits = 2;\n",
    "qc.reset(num_qubits);\n",
    "var a = qint.new(1, 'a');\n",
    "var b = qint.new(1, 'b');\n",
    "\n",
    "a.write(0);\n",
    "b.write(0);\n",
    "\n",
    "// Set up Superposition\n",
    "//\n",
    "qc.label('Superposition');\n",
    "qc.nop();\n",
    "a.had();\n",
    "b.had();\n",
    "qc.nop();\n",
    "qc.label();\n",
    "\n",
    "qc.nop();\n",
    "\n",
    "// Create the Phase OR Gate\n",
    "//\n",
    "qc.label('Phase OR');\n",
    "qc.nop();\n",
    "a.phase(180);\n",
    "\n",
    "// Same gate effectively\n",
    "//a.cz(b);\n",
    "qc.cphase(180);\n",
    "\n",
    "b.phase(180);\n",
    "qc.nop();\n",
    "qc.label();\n"
   ]
  },
  {
   "cell_type": "markdown",
   "metadata": {},
   "source": [
    "### Phase <font color=\"red\">NOR</font> Gate"
   ]
  },
  {
   "cell_type": "raw",
   "metadata": {},
   "source": [
    "// The Phase-NOR-Gate\n",
    "\n",
    "// Colorize Phase Shifts \n",
    "qc_options.color_by_phase=true\n",
    "\n",
    "// Setup:\n",
    "//\n",
    "var num_qubits = 2;\n",
    "qc.reset(num_qubits);\n",
    "var a = qint.new(1, 'a');\n",
    "var b = qint.new(1, 'b');\n",
    "\n",
    "a.write(0);\n",
    "b.write(0);\n",
    "\n",
    "// Set up Superposition\n",
    "//\n",
    "qc.label('Superposition');\n",
    "qc.nop();\n",
    "a.had();\n",
    "b.had();\n",
    "qc.nop();\n",
    "qc.label();\n",
    "\n",
    "qc.nop();\n",
    "\n",
    "// Create the Phase NOR Gate\n",
    "//\n",
    "qc.label('Phase NOR');\n",
    "qc.nop();\n",
    "a.not();\n",
    "b.not();\n",
    "\n",
    "// Same gate effectively\n",
    "//a.cz(b);\n",
    "qc.cphase(180);\n",
    "\n",
    "a.not();\n",
    "b.not();\n",
    "qc.nop();\n",
    "qc.label();\n"
   ]
  },
  {
   "cell_type": "markdown",
   "metadata": {},
   "source": [
    "### Phase <font color=\"red\">AND</font> Gate"
   ]
  },
  {
   "cell_type": "raw",
   "metadata": {},
   "source": [
    "// The Phase-AND-Gate\n",
    "\n",
    "// Colorize Phase Shifts \n",
    "qc_options.color_by_phase=true\n",
    "\n",
    "// Setup:\n",
    "//\n",
    "var num_qubits = 2;\n",
    "qc.reset(num_qubits);\n",
    "var a = qint.new(1, 'a');\n",
    "var b = qint.new(1, 'b');\n",
    "\n",
    "a.write(0);\n",
    "b.write(0);\n",
    "\n",
    "// Set up Superposition\n",
    "//\n",
    "qc.label('Superposition');\n",
    "qc.nop();\n",
    "a.had();\n",
    "b.had();\n",
    "qc.nop();\n",
    "qc.label();\n",
    "\n",
    "qc.nop();\n",
    "\n",
    "// Create the Phase AND Gate\n",
    "//\n",
    "qc.label('Phase AND');\n",
    "qc.nop();\n",
    "\n",
    "// Same gates effectively\n",
    "//a.cz(b);\n",
    "qc.cphase(180);\n",
    "\n",
    "qc.nop();\n",
    "qc.label();\n"
   ]
  },
  {
   "cell_type": "markdown",
   "metadata": {},
   "source": [
    "### Phase <font color=\"red\">NAND</font> Gate"
   ]
  },
  {
   "cell_type": "raw",
   "metadata": {},
   "source": [
    "// The Phase-NAND-Gate\n",
    "\n",
    "// Colorize Phase Shifts \n",
    "qc_options.color_by_phase=true\n",
    "\n",
    "// Setup:\n",
    "//\n",
    "var num_qubits = 2;\n",
    "qc.reset(num_qubits);\n",
    "var a = qint.new(1, 'a');\n",
    "var b = qint.new(1, 'b');\n",
    "\n",
    "a.write(0);\n",
    "b.write(0);\n",
    "\n",
    "// Set up Superposition\n",
    "//\n",
    "qc.label('Superposition');\n",
    "qc.nop();\n",
    "a.had();\n",
    "b.had();\n",
    "qc.nop();\n",
    "qc.label();\n",
    "\n",
    "qc.nop();\n",
    "\n",
    "// Create the Phase NAND Gate\n",
    "//\n",
    "qc.label('Phase NAND');\n",
    "qc.nop();\n",
    "a.not();\n",
    "b.not();\n",
    "a.phase(180);\n",
    "\n",
    "// Same gate effectively\n",
    "//a.cz(b);\n",
    "qc.cphase(180);\n",
    "\n",
    "b.phase(180);\n",
    "a.not();\n",
    "b.not();\n",
    "qc.nop();\n",
    "qc.label();\n"
   ]
  },
  {
   "cell_type": "markdown",
   "metadata": {},
   "source": [
    "### Phase <font color=\"red\">XOR</font> Gate"
   ]
  },
  {
   "cell_type": "raw",
   "metadata": {},
   "source": [
    "// The Phase-XOR-Gate\n",
    "\n",
    "// Colorize Phase Shifts \n",
    "qc_options.color_by_phase=true\n",
    "\n",
    "// Setup:\n",
    "//\n",
    "var num_qubits = 3;\n",
    "qc.reset(num_qubits);\n",
    "var a = qint.new(1, 'a');\n",
    "var b = qint.new(1, 'b');\n",
    "var c = qint.new(1, 'c');\n",
    "\n",
    "a.write(0);\n",
    "b.write(0);\n",
    "c.write(0);\n",
    "\n",
    "// Set up Superposition\n",
    "//\n",
    "qc.label('Superposition');\n",
    "qc.nop();\n",
    "a.had();\n",
    "b.had();\n",
    "// c.had();\n",
    "qc.nop();\n",
    "qc.label();\n",
    "\n",
    "qc.nop();\n",
    "\n",
    "// Pre-Processing\n",
    "qc.label('Pre-Proc');\n",
    "qc.nop();\n",
    "c.not();\n",
    "c.had();\n",
    "qc.nop();\n",
    "qc.label();\n",
    "\n",
    "qc.nop();\n",
    "\n",
    "// Create the Phase XOR Gate\n",
    "//\n",
    "qc.label('Phase XOR');\n",
    "qc.nop();\n",
    "c.cnot(a)\n",
    "c.cnot(b)\n",
    "qc.nop();\n",
    "qc.label();\n",
    "\n",
    "qc.nop();\n",
    "\n",
    "// Post-Processing\n",
    "qc.label('Post-Proc');\n",
    "qc.nop();\n",
    "c.had();\n",
    "c.not();\n",
    "qc.nop();\n",
    "qc.label();\n",
    "\n"
   ]
  },
  {
   "cell_type": "markdown",
   "metadata": {},
   "source": [
    "> ### <font color=\"red\">Full Screen Mode</font>: ( Phase Logic )\n",
    "- https://oreilly-qc.github.io?p=10-1\n",
    "\n",
    "\n",
    "- **Inline Mode is below**."
   ]
  },
  {
   "cell_type": "code",
   "execution_count": 5,
   "metadata": {
    "scrolled": false
   },
   "outputs": [
    {
     "data": {
      "text/html": [
       "\n",
       "        <iframe\n",
       "            width=\"900\"\n",
       "            height=\"600\"\n",
       "            src=\"https://oreilly-qc.github.io?p=10-1\"\n",
       "            frameborder=\"0\"\n",
       "            allowfullscreen\n",
       "        ></iframe>\n",
       "        "
      ],
      "text/plain": [
       "<IPython.lib.display.IFrame at 0x1e06561b358>"
      ]
     },
     "execution_count": 5,
     "metadata": {},
     "output_type": "execute_result"
    }
   ],
   "source": [
    "# QUIRK (Quantum Curcuit Simulator) \n",
    "from IPython.display import IFrame\n",
    "IFrame(src='https://oreilly-qc.github.io?p=10-1', width=900, height=600)"
   ]
  },
  {
   "cell_type": "markdown",
   "metadata": {},
   "source": [
    "![the-end](img/the-end.png \"the-end\")"
   ]
  }
 ],
 "metadata": {
  "kernelspec": {
   "display_name": "qcousins",
   "language": "python",
   "name": "qcousins"
  },
  "language_info": {
   "codemirror_mode": {
    "name": "ipython",
    "version": 3
   },
   "file_extension": ".py",
   "mimetype": "text/x-python",
   "name": "python",
   "nbconvert_exporter": "python",
   "pygments_lexer": "ipython3",
   "version": "3.7.1"
  }
 },
 "nbformat": 4,
 "nbformat_minor": 2
}
