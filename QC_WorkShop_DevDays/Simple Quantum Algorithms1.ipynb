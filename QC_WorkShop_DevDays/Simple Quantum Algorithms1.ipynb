{
 "cells": [
  {
   "cell_type": "markdown",
   "metadata": {},
   "source": [
    "# Simple Quantum Algorithms (and Key Concepts) <font color=\"red\">ONE</font>\n",
    "\n",
    "> ## <font color=\"red\">For</font> <font color=\"blue\">Dev Days</font>\n",
    "\n",
    "\n",
    "- #### Hands-on Experiential Learning <font color=\"red\">for the Software Engineer</font>"
   ]
  },
  {
   "cell_type": "markdown",
   "metadata": {},
   "source": [
    "![qc-banner](img/simple-quantum-algorithms.png \"qc-banner\")\n",
    "\n",
    "<BR>\n"
   ]
  },
  {
   "cell_type": "markdown",
   "metadata": {},
   "source": [
    "![multi-qubit-entanglement-13rd](img/multi-qubit-entanglement-13rd.png \"multi-qubit-entanglement-13rd\")\n",
    "\n",
    "<BR>\n"
   ]
  },
  {
   "cell_type": "code",
   "execution_count": null,
   "metadata": {},
   "outputs": [],
   "source": []
  },
  {
   "cell_type": "markdown",
   "metadata": {},
   "source": [
    "## What you will be exposed to - High level: \n",
    "\n",
    "\n",
    "- Software engineers in the Quantum Computing space need to know their way around quantum algorithms, particularly how they are implemented in a classical / quantum setting, the circuit architecture that undergirds the algorithms, and how that can be implemented in a variety of simulators (QUIRK, Qiskit, QCEngine - and others) \n",
    "- Given the above, there are a host of technical concepts that need to be **<font color=\"red\">understood experientially</font>** - we'll intentionally employ a vendor / framework agnostic approach to focus on the delivery of concept understanding and intuition procurement as the main value-add.\n",
    "\n",
    "> ### High Level Agenda (<font color=\"red\">*major sections*</font>): - quantum algorithms for the software engineer.\n",
    "1. <font color=\"blue\">*Quantum-Classical Relationship*</font>\n",
    "2. <font color=\"blue\">*Perfect Coin Algorithm*</font>\n",
    ">> 0. <font color=\"red\">Exercise</font> : Explore the Perfect Coin Algorithm using **Qiskit**\n",
    "3. <font color=\"blue\">*The Deutsch Algorithm*</font>\n",
    ">> 0. <font color=\"red\">Exercise</font> : Explore the Deutsch's algorithm - Classical Approach using **PYTHON**\n",
    ">> 0. <font color=\"red\">Exercise</font> : Explore the Deutsch's algorithm - with oracle having **Constant** function\n",
    ">> 0. <font color=\"red\">Exercise</font> : Explore the Deutsch's algorithm - with oracle having **Balanced** function\n",
    ">> 0. <font color=\"red\">Exercise</font> : Explore the Deutsch's algorithm - **QCEngine**\n",
    "\n"
   ]
  },
  {
   "cell_type": "markdown",
   "metadata": {},
   "source": [
    "## Background Videos: \n",
    "\n",
    "Quantum Computing Concepts - **Quantum Hardware**\n",
    "\n",
    "- https://www.youtube.com/watch?v=BbozLeSxcZ4&list=PLHSIfioizVW2uC27IFkHlSc-NgvZjBliZ&index=9\n",
    "\n",
    "\n",
    "Quantum Computing Concepts - **Quantum Algorithms**\n",
    "- https://www.youtube.com/watch?v=8anVNc0r_8o&list=PL50XnIfJxPDWDyea8EbbLe8GHfXkWU7W_&index=8&t=0s"
   ]
  },
  {
   "cell_type": "markdown",
   "metadata": {},
   "source": [
    "## <font color=\"red\">Developmental Detour</font> : Explore the <font color=\"blue\">Quantum-Classical Relationship</font> \n",
    "\n",
    "<BR>\n",
    "\n",
    "![architecture-quantum-gate](img/architecture-quantum-gate.png \"architecture-quantum-gate\")\n",
    "\n",
    "<BR>\n",
    "\n",
    "> #### The Classical - Quantum : function call relationship\n",
    "\n",
    "![architecture-classical-quantum](img/architecture-classical-quantum.png \"architecture-classical-quantum\")"
   ]
  },
  {
   "cell_type": "markdown",
   "metadata": {},
   "source": [
    "### <font color=\"red\">REMINDER</font>:- <font color=\"blue\">The Anatomy of the QISKIT Quantum Simulator </font>\n",
    "\n",
    "<BR>\n",
    "\n",
    "![Qiskit-Process](img/Qiskit-Process1.png \"Qiskit-Process\")"
   ]
  },
  {
   "cell_type": "code",
   "execution_count": null,
   "metadata": {},
   "outputs": [],
   "source": []
  },
  {
   "cell_type": "markdown",
   "metadata": {},
   "source": [
    "#  <font color=\"blue\">Perfect Coin Algorithm</font> - the warmup !\n",
    "\n",
    "![quantum-coin-flip](img/quantum-coin-flip.png \"quantum-coin-flip\")\n",
    "\n",
    "> ### Why does this work?\n",
    "- Because at the Quantum Level, a **simple Hadamard gate** is a truely unpredictible 50/50 chance operation - whereas with a digital random number generator, it is possible (if you knew the long sequence) to predict the next number in the sequence."
   ]
  },
  {
   "cell_type": "markdown",
   "metadata": {},
   "source": [
    "### <font color=\"red\">Exercise</font> : Explore the Perfect Coin Algorithm using Qiskit.\n",
    "- Run and re-run the algorithm and observe it's behavior and structure."
   ]
  },
  {
   "cell_type": "code",
   "execution_count": 4,
   "metadata": {},
   "outputs": [],
   "source": [
    "from qiskit import QuantumCircuit, QuantumRegister, ClassicalRegister, execute, Aer, IBMQ, BasicAer\n",
    "import math\n",
    "import matplotlib.pyplot as P\n",
    "import matplotlib.pyplot as plt\n",
    "from Our_Qiskit_Functions import *\n",
    "import cmath\n",
    "\n",
    "## Uncomment the next line to see diagrams when running in a notebook\n",
    "%matplotlib inline\n",
    "\n",
    "\n",
    "#\n",
    "# Quantum Coin Flip Function\n",
    "#\n",
    "\n",
    "def Quantum_Coin_Flip(flips):\n",
    "    # Simulate a perfect coin, measuring heads or tails, using a qubit\n",
    "    q = QuantumRegister(1)\n",
    "    c = ClassicalRegister(1)\n",
    "    perfect_coin = QuantumCircuit(q,c)\n",
    "    \n",
    "    \n",
    "    # H gate assures perfectly 50/50 randomness \n",
    "    #\n",
    "    perfect_coin.h(q[0])\n",
    "    perfect_coin.measure(q,c)\n",
    "    \n",
    "    \n",
    "    M = execute(perfect_coin, M_simulator, shots=flips).result().get_counts(perfect_coin)\n",
    "    \n",
    "    heads = M['0']\n",
    "    tails = M['1']\n",
    "    \n",
    "    return heads, tails    \n",
    "    \n",
    "#\n",
    "# Helper Function to determine Winner\n",
    "#\n",
    "\n",
    "def determine_winner(Heads, Tails):\n",
    "    if (Heads > Tails):\n",
    "        print(\"Heads Wins!\")\n",
    "    if (Heads < Tails):\n",
    "        print(\"Tails Wins!\")\n",
    "    if (Heads == Tails):\n",
    "        print(\"Tie - no Winner!\")\n",
    "\n",
    "    print(\"\\n\")\n",
    "    print(\"Final Score: Heads: \", Heads, \" Tails: \", Tails)\n",
    "    "
   ]
  },
  {
   "cell_type": "markdown",
   "metadata": {},
   "source": [
    "#### Re-Run this segment to get random coin flips."
   ]
  },
  {
   "cell_type": "code",
   "execution_count": 8,
   "metadata": {},
   "outputs": [
    {
     "name": "stdout",
     "output_type": "stream",
     "text": [
      "Tie - no Winner!\n",
      "\n",
      "\n",
      "Final Score: Heads:  50  Tails:  50\n"
     ]
    }
   ],
   "source": [
    "# Call the Quantum Coin Flip Function\n",
    "#\n",
    "Heads, Tails = Quantum_Coin_Flip(100)\n",
    "\n",
    "\n",
    "# Determine Winner and Display\n",
    "#\n",
    "determine_winner(Heads, Tails)\n",
    "    "
   ]
  },
  {
   "cell_type": "code",
   "execution_count": null,
   "metadata": {},
   "outputs": [],
   "source": []
  },
  {
   "cell_type": "markdown",
   "metadata": {},
   "source": [
    "# <font color=\"blue\">The Deutsch Algorithm</font>"
   ]
  },
  {
   "cell_type": "markdown",
   "metadata": {},
   "source": [
    "![Deutsch-Circuit_Banner](img/Deutsch-Circuit_Banner.png \"Deutsch-Circuit_Banner\")\n",
    "\n",
    "<BR>\n",
    "    \n",
    "![Deutsch-PhaseKickBack](img/Deutsch-PhaseKickBack.png \"Deutsch-PhaseKickBack\") \n",
    "    \n",
    "<BR>\n",
    "    \n",
    "![DeutschAlgorithm-Q_vs_C](img/DeutschAlgorithm-Q_vs_C.png \"DeutschAlgorithm-Q_vs_C\")\n",
    "\n",
    "\n",
    "> **VIDEO**: https://www.youtube.com/watch?v=a7Ed7FiBwfw&list=PLsedzcQz4wyXEco2GzCoXT8MPJUrQbBx8"
   ]
  },
  {
   "cell_type": "markdown",
   "metadata": {},
   "source": [
    "Suppose we are given a 'black box function' $f$.  By this we mean that we are given some function $f$, which we can use, but we don't know its effect.  Specifically, $f$ acts on a bit of information, either $0$ or $1$, and returns an output, also either $0$ or $1$.  Thus, when we feed $f$ the inputs $0$ and $1$, the function will be describable by two out of the four following possibilities:\n",
    "\n",
    "$$ f(0) \\rightarrow 0 \\hspace{.5cm} f(0) \\rightarrow 1 $$\n",
    "\n",
    "$$ f(1) \\rightarrow 0 \\hspace{.5cm} f(1) \\rightarrow 1 $$\n",
    "\n",
    "Based on these possibilities, we can say that $f$ is guarenteed to be either a 'balanced' or 'constant' function. A balanced function means that $f$'s outputs will be half $0$'s and half $1$'s, ex: $\\hspace{.15cm} f(0) \\rightarrow 1 \\hspace{.35cm} f(1) \\rightarrow 0 $.  A constant function means that the output will be either all $0$'s or all $1$'s, ex: $\\hspace{.15cm} f(0) \\rightarrow 1 \\hspace{.35cm} f(1) \\rightarrow 1 $.  So then, given this mysterious $f$, what is the minimum number of uses by which we can determine whether it is a balanced or constant function?"
   ]
  },
  {
   "cell_type": "markdown",
   "metadata": {},
   "source": [
    "### Problem: \n",
    "\n",
    "> The hidden function **Bf()**  returns either a **Constant** (everything returned is the SAME: all 1's or all 0's), or a **Balanced** (SAME amount of 1's and 0's returned).\n",
    "- Design a solution that can determine (with absolute certainty) that the function **Bf()** is either **Constant** or **Balanced** in the **<font color=\"red\">fewest queries of the oracle as possible</font>**."
   ]
  },
  {
   "cell_type": "markdown",
   "metadata": {},
   "source": [
    "## **<font color=\"blue\">Classical Approach</font>** - The Deutsch Algorithm\n",
    "- https://en.wikipedia.org/wiki/Deutsch%E2%80%93Jozsa_algorithm\n",
    "- *Although of little practical use*, it is one of the **first examples of a quantum algorithm that is exponentially faster than any possible deterministic classical algorithm** and is the inspiration for Simon's Algorithm, which is, in turn, the inspiration for Shor's Algorithm.\n",
    "\n",
    "\n",
    "![Deutsch-Algorithm-Classical](img/Deutsch-Algorithm-Classical.png \"Deutsch-Algorithm-Classical\")\n",
    "\n",
    "<BR>\n",
    "\n",
    "> This code randomly generates **one** of the **<font color=\"red\" size=\"4\">four</font>** possible black box functions, tests it with **<font color=\"red\">two</font>** inputs **f(0)** and **f(1)**, and concludes whether the function **Bf(·)**  is **balanced** or **constant** <font color=\"red\">based on the results</font>. \n",
    "\n",
    "\n",
    "![Deutsch-Query-Classic](img/Deutsch-Query-Classic1.png \"\")"
   ]
  },
  {
   "cell_type": "markdown",
   "metadata": {},
   "source": [
    "### <font color=\"red\">Exercise</font> : Explore the Deutsch's algorithm - <font color=\"blue\">Classical</font> Approach (using PYTHON)."
   ]
  },
  {
   "cell_type": "code",
   "execution_count": 9,
   "metadata": {},
   "outputs": [],
   "source": [
    "#\n",
    "# The Classical Function\n",
    "#\n",
    "\n",
    "import math as m\n",
    "import scipy as sci\n",
    "import numpy as np\n",
    "\n",
    "\n",
    "def blackbox_f():\n",
    "    # Returns on of four possible f functions\n",
    "    \n",
    "    def F1(x):\n",
    "        return 0\n",
    "    \n",
    "    def F2(x):\n",
    "        return 1\n",
    "    \n",
    "    def F3(x):\n",
    "        return x%2\n",
    "    \n",
    "    def F4(x):\n",
    "        return (x+1)%2\n",
    "    \n",
    "    functions = [F1, F2, F3, F4]\n",
    "    \n",
    "    # Random number generator provides a different function\n",
    "    #\n",
    "    f = functions[ int(m.floor( 4*np.random.rand() ) ) ]\n",
    "    \n",
    "    return f\n",
    "\n",
    "\n",
    "def classical_determine_hidden_function_(F0, F1):\n",
    "    \n",
    "    # Display F with two inputs\n",
    "    #\n",
    "    print(\"f(0): \", F0 ) \n",
    "    print(\"f(1): \", F1 ) \n",
    "    \n",
    "    # Then make the conclusion\n",
    "    #\n",
    "    if ( F0 == F1 ):\n",
    "        print(\"Conclusion: F is CONSTANT\")\n",
    "    else:\n",
    "        print(\"Conclusion: F is BALANCED\")"
   ]
  },
  {
   "cell_type": "markdown",
   "metadata": {},
   "source": [
    "### **<font color=\"red\">NOTE</font>**: - Two <font color=\"blue\">Classical</font> calls required\n",
    "- The classical approach required **<font color=\"red\">two</font>** calls to the function to determine it's nature (**constant or balanced**)\n",
    "- **F(0), F(1)**"
   ]
  },
  {
   "cell_type": "code",
   "execution_count": 13,
   "metadata": {},
   "outputs": [
    {
     "name": "stdout",
     "output_type": "stream",
     "text": [
      "f(0):  1\n",
      "f(1):  0\n",
      "Conclusion: F is BALANCED\n"
     ]
    }
   ],
   "source": [
    "# Get the Classical BlackBox Function\n",
    "# f = [F1, F2, F3, F4] as defined above.\n",
    "#\n",
    "\n",
    "F = blackbox_f()\n",
    "\n",
    "\n",
    "# Determine the Functions Nature (two calls F(0) and f(1) )\n",
    "#\n",
    "classical_determine_hidden_function_(F(0), F(1))\n",
    "    \n"
   ]
  },
  {
   "cell_type": "markdown",
   "metadata": {},
   "source": [
    "# <font color=\"blue\">Quantum Approach</font> - The Deutsch Algorithm\n",
    "\n",
    "\n",
    "<BR>\n",
    "\n",
    "> ### A useful property of this black-box operator is called **<font color=\"red\">phase kickback</font>**\n",
    "- When given a particular type of input to this operator, the hidden function **Bf(·)** appears in the **phase** of the output\n",
    "- *This concept is covered later in detail*\n",
    "\n"
   ]
  },
  {
   "cell_type": "markdown",
   "metadata": {},
   "source": [
    "![Deutsch-Query-Quantum](img/Deutsch-Query-Quantum.png \"Deutsch-Query-Quantum\")\n",
    "\n",
    "\n",
    "> ### **<font color=\"Blue\">Quantum Solution</font>**   \n",
    "- Using a quantum computer, we can solve this problem with 100% confidence after only **<font color=\"red\">one</font>** call to the function  **f(x)** \n",
    "- provided we have the function  **<font color=\"red\" size=\"5\">f()</font>**  implemented as a  **<font color=\"red\">quantum oracle</font>**."
   ]
  },
  {
   "cell_type": "markdown",
   "metadata": {},
   "source": [
    "> ### **<font color=\"Blue\">Why does the Quantum approach work</font>**? A QUIRK<font color=\"red\">ey</font> Explanation.\n",
    "- Why does it only take **ONE** invocation of the algorithm instead of two?\n",
    "- #### In a nutshell, \"Superposition and Phase Kickback\".\n",
    ">> https://www.youtube.com/watch?v=WLcNrikK2vw\n",
    "\n",
    "\n",
    "### <font color=\"blue\">The Example Setup</font> : ( a slight deviation from the original Deutsch Algorithm )\n",
    "- No Phase Kickback in this version\n",
    "- For **<font color=\"red\">Constant</font>** Oracle Functions use the **ID Gate** or the **NOT gate** to return **Constant** output.\n",
    "- For **<font color=\"red\">Balanced</font>** Oracle Functions use the **CNOT (and inverse CNOT) gates** to return **Balanced** output. \n",
    "\n",
    "> When the hidden Boolean function **(Oracle)** is **<font color=\"red\">Constant</font>**, the circuit returns a measurement result of **<font color=\"red\">(0 1)</font>**.\n",
    "- Ignore the Phase.\n",
    "\n",
    "\n",
    "\n",
    "> When the hidden Boolean function **(Oracle)** is **<font color=\"red\">Balanced</font>**, the circuit returns a measurement result of **<font color=\"red\">(1 1)</font>**.\n",
    "- Ignore the Phase.\n",
    "\n"
   ]
  },
  {
   "cell_type": "markdown",
   "metadata": {},
   "source": [
    "## <font color=\"blue\">QisKit Circuits</font>\n",
    "\n",
    "### Deutsch <font color=\"red\">Constant Oracle</font> Circuit\n",
    "\n",
    "![Deutsch-Constant_circuit](img/Deutsch-Constant_circuit.png \"Deutsch-Constant_circuit\")\n",
    "\n",
    "<BR>\n",
    "    \n",
    "### Deutsch <font color=\"red\">Balanced Oracle</font> Circuit\n",
    "\n",
    "![Deutsch-Balanced_curcuit](img/Deutsch-Balanced_curcuit.png \"Deutsch-Balanced_curcuit\")"
   ]
  },
  {
   "cell_type": "markdown",
   "metadata": {},
   "source": [
    "## <font color=\"blue\">QUIRK Circuits</font>\n",
    "\n",
    "![Deutsch-OneQuery2](img/Deutsch-OneQuery3.png \"\")"
   ]
  },
  {
   "cell_type": "markdown",
   "metadata": {},
   "source": [
    "### <font color=\"red\">Exercise</font> : Using the <font color=\"blue\">QUIRK</font> to explore (a slight <font color=\"red\">deviation</font> of) the <font color=\"blue\">Deutsch Algorithm</font>\n",
    "- Experiment with the **<font color=\"red\">Constant</font>** Oracle Function using the **ID Gate** or the **NOT gate** to return **Constant** output.\n",
    "- Experiment with the **<font color=\"red\">Balanced</font>** Oracle Function using the **CNOT (and inverse CNOT) gates** to return **Balanced** output. \n",
    "\n",
    "\n",
    "\n",
    "\n",
    "> #### Look for:\n",
    "- Balanced (1,1)\n",
    "- Constant (0,1)\n",
    "\n",
    "\n",
    "> ### <font color=\"red\">Full Screen Mode</font>: (The Deutsch Algorithm)\n",
    "- https://algassert.com/quirk#circuit={%22cols%22:[[1,%22X%22],[%22Chance%22,%22Chance%22],[%22H%22,%22H%22],[%22Amps2%22],[],[%22%E2%80%A6%22,%22%E2%80%A6%22],[%22%E2%97%A6%22,%22X%22],[%22%E2%80%A6%22,%22%E2%80%A6%22],[%22Amps2%22],[],[%22H%22,%22H%22],[%22Measure%22,%22Measure%22],[%22Amps1%22]]}\n",
    "\n",
    "\n",
    "\n",
    "- **Inline Mode is below**.\n"
   ]
  },
  {
   "cell_type": "code",
   "execution_count": 1,
   "metadata": {},
   "outputs": [
    {
     "data": {
      "text/html": [
       "\n",
       "        <iframe\n",
       "            width=\"900\"\n",
       "            height=\"600\"\n",
       "            src=\"https://algassert.com/quirk#circuit={%22cols%22:[[1,%22X%22],[%22Chance%22,%22Chance%22],[%22H%22,%22H%22],[%22Amps2%22],[],[%22%E2%80%A6%22,%22%E2%80%A6%22],[%22%E2%97%A6%22,%22X%22],[%22%E2%80%A6%22,%22%E2%80%A6%22],[%22Amps2%22],[],[%22H%22,%22H%22],[%22Measure%22,%22Measure%22],[%22Amps1%22]]}\"\n",
       "            frameborder=\"0\"\n",
       "            allowfullscreen\n",
       "        ></iframe>\n",
       "        "
      ],
      "text/plain": [
       "<IPython.lib.display.IFrame at 0x21b81f93b38>"
      ]
     },
     "execution_count": 1,
     "metadata": {},
     "output_type": "execute_result"
    }
   ],
   "source": [
    "# QUIRK (Quantum Curcuit Simulator) : \n",
    "from IPython.display import IFrame\n",
    "IFrame(src='https://algassert.com/quirk#circuit={%22cols%22:[[1,%22X%22],[%22Chance%22,%22Chance%22],[%22H%22,%22H%22],[%22Amps2%22],[],[%22%E2%80%A6%22,%22%E2%80%A6%22],[%22%E2%97%A6%22,%22X%22],[%22%E2%80%A6%22,%22%E2%80%A6%22],[%22Amps2%22],[],[%22H%22,%22H%22],[%22Measure%22,%22Measure%22],[%22Amps1%22]]}', width=900, height=600)"
   ]
  },
  {
   "cell_type": "code",
   "execution_count": null,
   "metadata": {},
   "outputs": [],
   "source": []
  },
  {
   "cell_type": "markdown",
   "metadata": {},
   "source": [
    "# <font color=\"blue\">Hands-on Exercise(s)</font>: "
   ]
  },
  {
   "cell_type": "markdown",
   "metadata": {},
   "source": [
    "## <font color=\"red\">Exercise</font> :  Explore the Deutsch's Algorithm - <font color=\"blue\">QCEngine</font>\n",
    "\n",
    "\n",
    "### Deutsch <font color=\"red\">Balanced Oracle</font> Circuit (<font color=\"blue\">ONE</font>)\n",
    "\n",
    "![DeutschCircuit-QCEngine_B](img/DeutschCircuit-QCEngine_B.png \"\")\n",
    "\n",
    "\n",
    "<BR><BR>\n",
    "    \n",
    "### Deutsch <font color=\"red\">Constant Oracle</font> Circuit (<font color=\"blue\">ZERO</font>)\n",
    "\n",
    "![DeutschCircuit-QCEngine_B](img/DeutschCircuit-QCEngine_C.png \"\")\n",
    "\n",
    "\n",
    "<BR><BR>\n",
    "\n",
    "### Deutsch's Algorithm - QCEngine (Similar to previous circuits)\n",
    "- Cut-N-Paste to examine\n",
    "- Toggle between Constant and Balanced\n",
    "- Notice the measurement value (0,1)\n",
    "- **Point**: It only takes one pass through the circuit (not two)"
   ]
  },
  {
   "cell_type": "raw",
   "metadata": {},
   "source": [
    "// Deutsch's Algorithm - QCEngine (Similar to previous circuits)\n",
    "\n",
    "\n",
    "qc.reset(2);         // allocate 2 qubits qubits to the QPU\n",
    "qc.write(0);         // write the value zero to the circuit\n",
    "\n",
    "// qc.had(0x1);\n",
    "//qc.read();\n",
    "\n",
    "// Use Colors by Phase\n",
    "qc_options.color_by_phase=true\n",
    "\n",
    "// Construct The Input Deutsch Circuit\n",
    "//\n",
    "qc.label('Input');\n",
    "qc.nop();\n",
    "qc.not(0x2);\n",
    "\n",
    "qc.nop();\n",
    "qc.label();\n",
    "\n",
    "qc.nop();\n",
    "\n",
    "// Construct First Half of Deutsch Circuit\n",
    "//\n",
    "qc.label('1st 1/2 Circuit');\n",
    "qc.nop();\n",
    "qc.had(0x1);\n",
    "qc.had(0x2);\n",
    "qc.nop();\n",
    "qc.label();\n",
    "\n",
    "qc.nop();\n",
    "\n",
    "// Debug\n",
    "//qc.read()\n",
    "\n",
    "qc.label('Oracle');\n",
    "qc.nop();\n",
    "\n",
    "// Construct the Oracle\n",
    "// Set the Oracle to (b = balanced, c = continuous) - This is what you change.\n",
    "oracle = \"b\"\n",
    "\n",
    "// if balanced - construct this Oracle\n",
    "if (oracle == \"b\")\n",
    "    qc.cnot(0x2, 0x1);\n",
    "    \n",
    "// if constant - - construct this different Oracle    \n",
    "if (oracle == \"c\")\n",
    "    qc.not(0x2);\n",
    "\n",
    "qc.nop();\n",
    "qc.label();\n",
    "\n",
    "qc.nop();\n",
    "// Debug\n",
    "// qc.read()\n",
    "\n",
    "// Construct Second Half of Deutsch Circuit\n",
    "//\n",
    "qc.label('2nd 1/2 Circuit');\n",
    "qc.nop();\n",
    "qc.had(0x1);\n",
    "qc.had(0x2);\n",
    "qc.nop();\n",
    "qc.label();\n",
    "\n",
    "qc.nop();\n",
    "\n",
    "// Determine the Oracle (Constant, Balanced)\n",
    "//\n",
    "qc.label('Hidden FN');\n",
    "qc.nop();\n",
    "// Read Operation\n",
    "qc.read(0x1)\n",
    "qc.nop();\n",
    "qc.label();\n",
    "\n"
   ]
  },
  {
   "cell_type": "markdown",
   "metadata": {},
   "source": [
    "> ### <font color=\"red\">Full Screen Mode</font>: (The Deutsch's Algorithm )\n",
    "- https://oreilly-qc.github.io?p=14-DJ\n",
    "\n",
    "\n",
    "- **Inline Mode is below**."
   ]
  },
  {
   "cell_type": "code",
   "execution_count": 7,
   "metadata": {
    "scrolled": false
   },
   "outputs": [
    {
     "data": {
      "text/html": [
       "\n",
       "        <iframe\n",
       "            width=\"900\"\n",
       "            height=\"900\"\n",
       "            src=\"https://oreilly-qc.github.io?p=14-DJ\"\n",
       "            frameborder=\"0\"\n",
       "            allowfullscreen\n",
       "        ></iframe>\n",
       "        "
      ],
      "text/plain": [
       "<IPython.lib.display.IFrame at 0x21b81fbc748>"
      ]
     },
     "execution_count": 7,
     "metadata": {},
     "output_type": "execute_result"
    }
   ],
   "source": [
    "from IPython.display import IFrame\n",
    "IFrame(src='https://oreilly-qc.github.io?p=14-DJ', width=900, height=900)"
   ]
  },
  {
   "cell_type": "markdown",
   "metadata": {},
   "source": [
    "![the-end](img/the-end.png \"the-end\")"
   ]
  }
 ],
 "metadata": {
  "kernelspec": {
   "display_name": "qcousins",
   "language": "python",
   "name": "qcousins"
  },
  "language_info": {
   "codemirror_mode": {
    "name": "ipython",
    "version": 3
   },
   "file_extension": ".py",
   "mimetype": "text/x-python",
   "name": "python",
   "nbconvert_exporter": "python",
   "pygments_lexer": "ipython3",
   "version": "3.7.1"
  }
 },
 "nbformat": 4,
 "nbformat_minor": 2
}
