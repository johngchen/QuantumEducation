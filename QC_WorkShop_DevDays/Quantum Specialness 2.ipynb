{
 "cells": [
  {
   "cell_type": "markdown",
   "metadata": {},
   "source": [
    "# Quantum Computing Workshop Series \n",
    "\n",
    "> ## <font color=\"red\">For</font> <font color=\"blue\">Dev Days</font>\n",
    "- #### Hands-on Experiential Learning <font color=\"red\">for the Software Engineer</font>"
   ]
  },
  {
   "cell_type": "markdown",
   "metadata": {},
   "source": [
    "## What makes Quantum Computing Special?\n",
    "\n",
    "> ## <font color=\"red\">TWO</font>:  <font color=\"blue\">Search</font>\n",
    "\n",
    "<BR>\n",
    "\n",
    "![quantum_specialness-banner](img/quantum_specialness-banner-P.png \"\")\n",
    "\n",
    "<BR>\n",
    "\n",
    "## Nothing like these in the classical (aka. binary) world !\n"
   ]
  },
  {
   "cell_type": "markdown",
   "metadata": {},
   "source": [
    "<BR>\n",
    "    \n",
    "# <font color=\"red\">Example</font>:   TWO\n"
   ]
  },
  {
   "cell_type": "markdown",
   "metadata": {},
   "source": [
    "\n",
    "# \"Quantum Advantage\" : <font color=\"blue\">Search Speedup -  <font color=\"red\"> &omicron;( &radic; N)</font> Steps</font>"
   ]
  },
  {
   "cell_type": "markdown",
   "metadata": {},
   "source": [
    "#  Grovers <font color=\"blue\">Search Algorithm</font> \n",
    "\n",
    "> **Definition**: Grovers algorithm solves the problem of searching unstructured database efficiently by leveraging the **<font color=\"red\">Amplitude Amplification Technique</font>**.\n",
    "-  The Amplitude Amplification procedure stretches out (amplifies) the amplitude of the marked item, which shrinks the other items' amplitude, so that measuring the final state will return the right item with near-certainty.\n",
    "    \n",
    "    \n",
    "> **Video**: https://www.youtube.com/watch?v=etM9i8D0pjA&list=PLsedzcQz4wyWIypONlxLwsQ2Nv5pGBFnr\n",
    "\n",
    "\n",
    "\n",
    "## What is the use?\n",
    "- #### An example of such a problem is finding a specific card in a shuffled deck of N cards. \n",
    "> Classically this can only be done by searching the deck of cards one by one, in which case you wil need NN steps. Grovers Quantum Algorithm provides a quadratic  speed-up of finding the card in question <font color=\"red\"> &omicron;( &radic; N)</font>, whereas the best classical algorithm requires <font color=\"red\"> &omicron;(N) </font>.\n",
    "\n",
    "- Exhaustively searching through the database represents the **classical approach**, which requires on average $\\frac{N}{2}$ evaluations, which is of the order $\\textit{O}$($N$).  By instead using the Grover Algorithm, we can complete this search (with a high success probability) using only $\\textit{O}$($\\sqrt{N}$) evaluations.\n",
    "\n",
    "![GroversSearch_deck-cards](img/GroversSearch_deck-cards.png \"\")\n",
    "\n",
    "<BR>\n",
    "    \n",
    "    \n",
    "## What about computational speed?    \n",
    "- Algorithms are measured (and categorized) by their ability to execute within time (or space) constraints.    \n",
    "    \n",
    "    \n",
    "![Big_O_Chart](img/Big_O_Chart.png \"\")\n",
    "\n",
    "<BR>\n",
    "    \n",
    "      \n",
    "> ####  <font color=\"blue\">**O(1)**</font> -  algorithm will always execute in the <font color=\"red\">same time </font>** (or space) regardless of the size of the input data set.\n",
    "> #### <font color=\"blue\">**O(N)**</font> - algorithm whose performance will <font color=\"red\">grow linearly </font> and in direct proportion to the size of the input data set. \n",
    "> #### <font color=\"blue\">**O(N2)**</font> - algorithm whose performance is directly proportional to the <font color=\"red\">square of the size of the input </font> data set.\n",
    "> #### <font color=\"blue\">**O(2N)**</font> - algorithm whose <font color=\"red\">growth doubles </font> with each additon to the input data set.\n",
    "> #### <font color=\"blue\">**LOG**</font> - algorithms growth curve <font color=\"red\">peaks at the beginning and slowly flattens</font> out as the size of the data sets increase\n",
    "\n",
    "<BR>\n",
    "\n",
    "### Description: <font color=\"blue\">Unstructured Search</font>\n",
    "\n",
    "![Grover-List_Diagram](img/Grover-List_Diagram.png \"\")\n",
    "\n",
    "- Suppose you are given a **large list** of  **<font color=\"red\">N</font>**  items. Among these items there is **one item** with a unique property that **we wish to locate** - we will call this one the winner  **<font color=\"red\">W</font>**.\n",
    "\n",
    "\n",
    "\n",
    "> To find the marked item using classical computation, one would have to check *on average*  **N/2**  of these boxes, and in the *worst case*, all  **N**  of them. \n",
    "\n",
    "> On a quantum computer, however, we can find the marked item in roughly  <font color=\"red\"> &omicron;( &radic; N)</font> steps with Grover's amplitude amplification technique. \n",
    "\n",
    "> Additionally, the algorithm **<font color=\"blue\">does not use the list's internal structure</font>**, which makes it **generic**; and is why it immediately provides a quadratic quantum speed-up for **many classical problems**.\n",
    "\n",
    "\n"
   ]
  },
  {
   "cell_type": "markdown",
   "metadata": {},
   "source": [
    "### <font color=\"red\">How does this work</font>?\n",
    "- The **Amplitudes** of <font color=\"red\">**interest**</font> are <font color=\"red\">**increased**</font>, while the amplitudes <font color=\"red\">**not of concern**</font> are <font color=\"red\">**shrunken**</font> - over an optimal number of iterations a state is reached where where a measurement on the system will find our marked state with a high probability of success.\n",
    "\n",
    "![title](img/Les54_Grover_3.png)\n",
    "\n",
    "<BR>\n",
    "    \n",
    "![title](img/Les54_Grover_4.png)\n",
    "    \n",
    "    "
   ]
  },
  {
   "cell_type": "code",
   "execution_count": null,
   "metadata": {},
   "outputs": [],
   "source": []
  },
  {
   "cell_type": "markdown",
   "metadata": {},
   "source": [
    "# <font color=\"blue\">Hands-on Exercise(s)</font>: "
   ]
  },
  {
   "cell_type": "markdown",
   "metadata": {},
   "source": [
    "## <font color=\"red\">Exercise</font>: Grovers Quantum Search <font color=\"red\">(5 Qubits)</font> using <font color=\"blue\">QUIRK</font>.\n",
    "- **Examine** the QUIRK Curcuit below and pay special attention to the **decimal <font color=\"red\">#27</font>, (binary: <font color=\"red\">11011</font>)** in the chance probability display widget - notice how its **magnitude gets more and more pronounced** after each iteration of the oracle aand application of the amplitude amplification technique. \n",
    "\n",
    "\n",
    "- Also notice the **dimminishing magnitudes of ALL the other candidates**.\n",
    "\n",
    "<BR>    \n",
    "    \n",
    "> ### <font color=\"red\">Full Screen Mode</font>: (Grovers Quantum Search)\n",
    "- https://algassert.com/quirk#circuit={%22cols%22:[[%22X%22,%22X%22,%22X%22,%22X%22,%22X%22],[%22H%22,%22H%22,%22H%22,%22H%22,%22H%22],[%22Chance5%22],[%22~vn6c%22],[%22%E2%8A%96%22,%22%E2%8A%96%22,%22%E2%8A%96%22,%22%E2%8A%96%22,%22X%22],[%22Chance5%22],[%22~vn6c%22],[%22%E2%8A%96%22,%22%E2%8A%96%22,%22%E2%8A%96%22,%22%E2%8A%96%22,%22X%22],[%22Chance5%22],[%22~vn6c%22],[%22%E2%8A%96%22,%22%E2%8A%96%22,%22%E2%8A%96%22,%22%E2%8A%96%22,%22X%22],[%22Chance5%22],[%22~vn6c%22],[%22%E2%8A%96%22,%22%E2%8A%96%22,%22%E2%8A%96%22,%22%E2%8A%96%22,%22X%22],[%22Chance5%22]],%22gates%22:[{%22id%22:%22~vn6c%22,%22name%22:%22Oracle%22,%22circuit%22:{%22cols%22:[[%22Z%22,%22%E2%80%A2%22,%22%E2%97%A6%22,%22%E2%80%A2%22,%22%E2%80%A2%22]]}}]}\n",
    "\n",
    "\n",
    "\n",
    "- **Inline Mode is below**."
   ]
  },
  {
   "cell_type": "code",
   "execution_count": 8,
   "metadata": {},
   "outputs": [
    {
     "data": {
      "text/html": [
       "\n",
       "        <iframe\n",
       "            width=\"900\"\n",
       "            height=\"600\"\n",
       "            src=\"https://algassert.com/quirk#circuit={%22cols%22:[[%22X%22,%22X%22,%22X%22,%22X%22,%22X%22],[%22H%22,%22H%22,%22H%22,%22H%22,%22H%22],[%22Chance5%22],[%22~vn6c%22],[%22%E2%8A%96%22,%22%E2%8A%96%22,%22%E2%8A%96%22,%22%E2%8A%96%22,%22X%22],[%22Chance5%22],[%22~vn6c%22],[%22%E2%8A%96%22,%22%E2%8A%96%22,%22%E2%8A%96%22,%22%E2%8A%96%22,%22X%22],[%22Chance5%22],[%22~vn6c%22],[%22%E2%8A%96%22,%22%E2%8A%96%22,%22%E2%8A%96%22,%22%E2%8A%96%22,%22X%22],[%22Chance5%22],[%22~vn6c%22],[%22%E2%8A%96%22,%22%E2%8A%96%22,%22%E2%8A%96%22,%22%E2%8A%96%22,%22X%22],[%22Chance5%22]],%22gates%22:[{%22id%22:%22~vn6c%22,%22name%22:%22Oracle%22,%22circuit%22:{%22cols%22:[[%22Z%22,%22%E2%80%A2%22,%22%E2%97%A6%22,%22%E2%80%A2%22,%22%E2%80%A2%22]]}}]}\"\n",
       "            frameborder=\"0\"\n",
       "            allowfullscreen\n",
       "        ></iframe>\n",
       "        "
      ],
      "text/plain": [
       "<IPython.lib.display.IFrame at 0x18e62d6d6a0>"
      ]
     },
     "execution_count": 8,
     "metadata": {},
     "output_type": "execute_result"
    }
   ],
   "source": [
    "# QUIRK (Quantum Curcuit Simulator) \n",
    "from IPython.display import IFrame\n",
    "IFrame(src='https://algassert.com/quirk#circuit={%22cols%22:[[%22X%22,%22X%22,%22X%22,%22X%22,%22X%22],[%22H%22,%22H%22,%22H%22,%22H%22,%22H%22],[%22Chance5%22],[%22~vn6c%22],[%22%E2%8A%96%22,%22%E2%8A%96%22,%22%E2%8A%96%22,%22%E2%8A%96%22,%22X%22],[%22Chance5%22],[%22~vn6c%22],[%22%E2%8A%96%22,%22%E2%8A%96%22,%22%E2%8A%96%22,%22%E2%8A%96%22,%22X%22],[%22Chance5%22],[%22~vn6c%22],[%22%E2%8A%96%22,%22%E2%8A%96%22,%22%E2%8A%96%22,%22%E2%8A%96%22,%22X%22],[%22Chance5%22],[%22~vn6c%22],[%22%E2%8A%96%22,%22%E2%8A%96%22,%22%E2%8A%96%22,%22%E2%8A%96%22,%22X%22],[%22Chance5%22]],%22gates%22:[{%22id%22:%22~vn6c%22,%22name%22:%22Oracle%22,%22circuit%22:{%22cols%22:[[%22Z%22,%22%E2%80%A2%22,%22%E2%97%A6%22,%22%E2%80%A2%22,%22%E2%80%A2%22]]}}]}', width=900, height=600)"
   ]
  },
  {
   "cell_type": "markdown",
   "metadata": {},
   "source": [
    "##  Grovers Search Algorithm: <font color=\"blue\">Quantum Search over 2 Qubits</font>\n",
    "\n",
    "> *This is an extremely simple (example) case* where the input is only 2 Qubits, there are **<font color=\"red\">four possible answers</font>**. \n",
    "- A *conventional computer* **may need to test up to <font color=\"red\">three </font>** of those possible values.  \n",
    "- A *quantum computer* can find the answer using a **single invocation** of the **<font color=\"red\">oracle</font>** function.\n",
    "\n",
    "\n",
    "![Grover-List_Diagram-2_qubits](img/Grover-List_Diagram-2_qubits.png \"Grover-List_Diagram-2_qubits\")\n",
    "> - **The Oracle FN = 2 (Binary: 1 0)**"
   ]
  },
  {
   "cell_type": "markdown",
   "metadata": {},
   "source": [
    "# <font color=\"red\">Exercise</font>: Grovers Quantum Search over 2 Qubits using the <font color=\"blue\">QCEngine</font>.\n",
    "\n",
    "<BR>\n",
    "    \n",
    "![Grover-Circuit-2-Qubits](img/Grover-Circuit-2-Qubits.png \"Grover-Circuit-2-Qubits\")\n",
    "\n",
    "\n",
    "\n",
    "> The circuit above is the QCEngine adaptation of <font color=\"red\">same two-qubit circuit used in the previous section</font> - the behavior of the circle plots are identical (*except that the phases point up as a default, and the above point to the right*).\n",
    "\n",
    "- **Cut-N-Paste** the custom code into the QCEngine and observe the behavior of the circle plots, notice how they behave identically to those of the <font color=\"blue\">Quantum Computing Playground</font> version.\n",
    "\n"
   ]
  },
  {
   "cell_type": "raw",
   "metadata": {},
   "source": [
    "qc.reset(2);         // allocate qubits\n",
    "\n",
    "var a = qint.new(1, 'a')\n",
    "var b = qint.new(1, 'b')\n",
    "qc.write(0);         // write the value zero\n",
    "\n",
    "// Colorize Phase Shifts \n",
    "qc_options.color_by_phase=true\n",
    "\n",
    "\n",
    "// Set up Superposition\n",
    "//\n",
    "qc.label('Superposition');\n",
    "qc.nop();\n",
    "qc.had();\n",
    "qc.nop();\n",
    "qc.label();\n",
    "\n",
    "qc.nop();\n",
    "\n",
    "// Set up Oracle\n",
    "//\n",
    "qc.label('Oracle');\n",
    "qc.nop();\n",
    "b.phase(180, 0x1);       // Z-TgB (1)\n",
    "qc.phase(180, b|1, b);   // Z-TgB (1), Ctrl (0)\n",
    "qc.nop();\n",
    "qc.label();\n",
    "\n",
    "qc.nop();\n",
    "\n",
    "// Set up Hadamard (Tg Qb-1)\n",
    "//\n",
    "qc.label('H Tg Qb-1');\n",
    "qc.nop();\n",
    "b.had(1);                 // \n",
    "qc.nop();\n",
    "qc.label();\n",
    "\n",
    "qc.nop();\n",
    "\n",
    "// Set up Hadamard (Tg Qb-0)\n",
    "//\n",
    "qc.label('H Tg Qb-0');\n",
    "qc.nop();\n",
    "a.had(1);                 // \n",
    "qc.nop();\n",
    "qc.label();\n",
    "\n",
    "qc.nop();\n",
    "\n",
    "// Set up Phase Flip\n",
    "//\n",
    "qc.label('Phase Flip');\n",
    "qc.nop();\n",
    "a.not(1);                 // X_not Tbg (0)\n",
    "a.phase(180, 0x1);        // Z-TgB (0)\n",
    "qc.phase(180, b|1, b);    // Z-TgB (1), Ctrl (0)\n",
    "qc.nop();\n",
    "qc.label();\n",
    "\n",
    "qc.nop();\n",
    "\n",
    "// Set up Hadamard (Tg Qb-1)\n",
    "//\n",
    "qc.label('H Tg Qb-1');\n",
    "qc.nop();\n",
    "b.had(1);                 // \n",
    "qc.nop();\n",
    "qc.label();\n",
    "\n",
    "qc.nop();\n",
    "\n",
    "\n",
    "// Set up Hadamard (Tg Qb-0)\n",
    "//\n",
    "qc.label('H Tg Qb-0');\n",
    "qc.nop();\n",
    "a.had(1);                 // \n",
    "qc.nop();\n",
    "qc.label();\n",
    "\n",
    "\n"
   ]
  },
  {
   "cell_type": "markdown",
   "metadata": {},
   "source": [
    "> ### <font color=\"red\">Full Screen Mode</font>: (Grovers Search) \n",
    "- https://oreilly-qc.github.io?p=2-1\n",
    "\n",
    "- **Inline Mode is below**."
   ]
  },
  {
   "cell_type": "code",
   "execution_count": 9,
   "metadata": {},
   "outputs": [
    {
     "data": {
      "text/html": [
       "\n",
       "        <iframe\n",
       "            width=\"900\"\n",
       "            height=\"600\"\n",
       "            src=\"https://oreilly-qc.github.io?p=2-1\"\n",
       "            frameborder=\"0\"\n",
       "            allowfullscreen\n",
       "        ></iframe>\n",
       "        "
      ],
      "text/plain": [
       "<IPython.lib.display.IFrame at 0x18e62d6d7f0>"
      ]
     },
     "execution_count": 9,
     "metadata": {},
     "output_type": "execute_result"
    }
   ],
   "source": [
    "# QUIRK (Quantum Curcuit Simulator) \n",
    "from IPython.display import IFrame\n",
    "IFrame(src='https://oreilly-qc.github.io?p=2-1', width=900, height=600)"
   ]
  },
  {
   "cell_type": "markdown",
   "metadata": {},
   "source": [
    "![the-end](img/the-end.png \"the-end\")"
   ]
  }
 ],
 "metadata": {
  "kernelspec": {
   "display_name": "qcousins",
   "language": "python",
   "name": "qcousins"
  },
  "language_info": {
   "codemirror_mode": {
    "name": "ipython",
    "version": 3
   },
   "file_extension": ".py",
   "mimetype": "text/x-python",
   "name": "python",
   "nbconvert_exporter": "python",
   "pygments_lexer": "ipython3",
   "version": "3.7.1"
  }
 },
 "nbformat": 4,
 "nbformat_minor": 2
}
