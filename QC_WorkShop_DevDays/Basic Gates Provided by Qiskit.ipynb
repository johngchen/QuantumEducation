{
 "cells": [
  {
   "cell_type": "markdown",
   "metadata": {},
   "source": [
    "# Basic Gates Provided by Qiskit\n",
    "\n",
    "- #### Hands-on Experiential Learning <font color=\"red\">for the Software Engineer</font>"
   ]
  },
  {
   "cell_type": "markdown",
   "metadata": {},
   "source": [
    "![](img/Qiskit_Banner_BasicGates.png \"\")\n",
    "\n",
    "<BR>\n",
    "    \n",
    "\n",
    "#### <font color=\"red\">Materials Inspiration and Author(s)</font>: \n",
    "\n",
    "> **<font color=\"blue\">USAF Research Laboratory</font>**\n",
    "> - Introduction to Coding Quantum Algorithms: **A Tutorial Series Using Qiskit** : https://arxiv.org/pdf/1903.04359\n",
    "> - <a href=\"Basic Gates Provided by Qiskit.ipynb\" target=\"_blank\"><font color=\"blue\">Basic Gates Provided by Qiskit</font></a> **(Enhanced)**\n",
    "\n",
    "<BR>\n",
    "\n",
    "> This JNB introduces the user to some of the predefined gates that come standard with the $\\textrm{QuantumCircuit}$ class.  \n",
    "- Each gate will be presented, accompanied with a short explanation and working example, and a visualization using Qiskit's $\\textrm{circuit_drawing}$ tool.  \n",
    "\n",
    "\n",
    "> For the complete list of standard gates, see: https://github.com/Qiskit/qiskit-terra/tree/master/qiskit/extensions/standard"
   ]
  },
  {
   "cell_type": "code",
   "execution_count": 5,
   "metadata": {},
   "outputs": [],
   "source": [
    "from qiskit import ClassicalRegister, QuantumRegister, QuantumCircuit, Aer, execute\n",
    "from qiskit.tools.visualization import circuit_drawer\n",
    "import Our_Qiskit_Functions as oq\n",
    "import math as m\n",
    "S_simulator = Aer.backends(name='statevector_simulator')[0]\n",
    "M_simulator = Aer.backends(name='qasm_simulator')[0]"
   ]
  },
  {
   "cell_type": "markdown",
   "metadata": {},
   "source": [
    "# Single Qubit Gates\n",
    "-------\n",
    "\n",
    "\n",
    "\n",
    "## The Identity Operator:  ( <font color=\"red\">I</font> )\n",
    "\n",
    "\n",
    "<BR>\n",
    "<font color=\"blue\" size=4>\n",
    "\n",
    "$$\n",
    "\\begin{bmatrix} \n",
    "1 & 0\\\\ \n",
    "0 & 1\n",
    "\\end{bmatrix}\n",
    "$$\n",
    "\n",
    "</font>\n",
    "<BR>\n",
    "    \n",
    "The effect of this gate renders the qubit's state unchanged.  An Identity gate does not get any symbol in a circuit diagram.\n"
   ]
  },
  {
   "cell_type": "code",
   "execution_count": 11,
   "metadata": {
    "scrolled": true
   },
   "outputs": [
    {
     "name": "stdout",
     "output_type": "stream",
     "text": [
      "  __ Initial __ \n",
      "1.0  |0>   \n",
      "\n",
      "  __ Final __ \n",
      "1.0  |0>   \n"
     ]
    },
    {
     "data": {
      "image/png": "[encoded data removed]",
      "text/plain": [
       "<Figure size 233.576x84.28 with 1 Axes>"
      ]
     },
     "execution_count": 11,
     "metadata": {},
     "output_type": "execute_result"
    }
   ],
   "source": [
    "q = QuantumRegister(1,name='q')\n",
    "I_qc = QuantumCircuit(q,name='qc')\n",
    "\n",
    "I_qc.iden( q[0] )\n",
    "print('  __ Initial __ ')\n",
    "print(oq.Wavefunction(I_qc))\n",
    "\n",
    "I_qc.iden( q[0] )\n",
    "print('\\n  __ Final __ ')\n",
    "print(oq.Wavefunction(I_qc))\n",
    "\n",
    "# circuit_drawer(I_qc)\n",
    "I_qc.draw(output=\"mpl\")"
   ]
  },
  {
   "cell_type": "markdown",
   "metadata": {},
   "source": [
    "## Hadamard ( <font color=\"red\">H</font> )\n",
    "\n",
    "<BR>\n",
    "<font color=\"blue\" size=4>\n",
    "    \n",
    "$$\n",
    "\\begin{bmatrix} \n",
    "1 & 1\\\\ \n",
    "1 & -1\n",
    "\\end{bmatrix}\n",
    "$$\n",
    "\n",
    "</font>\n",
    "<BR>\n",
    "    \n",
    "The effect of this gate is as follows:\n",
    "\n",
    "<BR>\n",
    "<font color=\"blue\" size=4>\n",
    "\n",
    "<BR>\n",
    "$$ H \\hspace{.08cm} |\\hspace{.05cm} 0\\rangle \\hspace{.1cm} = \\hspace{.1cm} \\frac{1}{\\sqrt{2}}\\big{(} \\hspace{.1cm}|\\hspace{.05cm}0\\rangle \\hspace{.06cm}+\\hspace{.06cm} |\\hspace{.05cm}1\\rangle \\hspace{.06cm} \\big{)}$$\n",
    "\n",
    "$$ H \\hspace{.08cm} |\\hspace{.05cm} 0\\rangle \\hspace{.1cm} = \\hspace{.1cm} \\frac{1}{\\sqrt{2}}\\big{(} \\hspace{.1cm}|\\hspace{.05cm}0\\rangle \\hspace{.06cm}-\\hspace{.06cm} |\\hspace{.05cm}1\\rangle \\hspace{.06cm} \\big{)}$$\n",
    "\n",
    "</font>\n",
    "<BR>\n",
    "\n",
    "This gate results in a qubit being in a 50 / 50 superposition of states |$0\\rangle$ and |$1\\rangle$.  While this may seem simple enough, the importance of the Hadamard gate cannot be understated.  In the coming lessons, we shall see that the Hadamard gate is largely responsible for the success of many quantum algorithms.\n",
    "\n",
    "<BR><BR>"
   ]
  },
  {
   "cell_type": "code",
   "execution_count": 12,
   "metadata": {},
   "outputs": [
    {
     "name": "stdout",
     "output_type": "stream",
     "text": [
      "  __ Initial __ \n",
      "1.0  |0>   \n",
      "\n",
      "  __ Final __ \n",
      "0.70711  |0>   0.70711  |1>   \n"
     ]
    },
    {
     "data": {
      "image/png": "[encoded data removed]",
      "text/plain": [
       "<Figure size 233.576x84.28 with 1 Axes>"
      ]
     },
     "execution_count": 12,
     "metadata": {},
     "output_type": "execute_result"
    }
   ],
   "source": [
    "q = QuantumRegister(1,name='q')\n",
    "H_qc = QuantumCircuit(q,name='qc')\n",
    "\n",
    "\n",
    "H_qc.iden( q[0] )\n",
    "print('  __ Initial __ ')\n",
    "print(oq.Wavefunction(H_qc))\n",
    "\n",
    "H_qc.h( q[0] )\n",
    "print('\\n  __ Final __ ')\n",
    "print(oq.Wavefunction(H_qc))\n",
    "\n",
    "# circuit_drawer(H_qc)\n",
    "H_qc.draw(output=\"mpl\")"
   ]
  },
  {
   "cell_type": "markdown",
   "metadata": {},
   "source": [
    "# Pauli Operators\n",
    "------\n",
    "\n",
    "## ( <font color=\"red\">X</font> )\n",
    "\n",
    "<BR>\n",
    "<font color=\"blue\" size=4>\n",
    "    \n",
    "$$\n",
    "\\begin{bmatrix} \n",
    "0 & 1\\\\ \n",
    "1 & 0\n",
    "\\end{bmatrix}\n",
    "$$\n",
    "\n",
    "</font>\n",
    "<BR>\n",
    "    \n",
    "The effect of this gate is to flip a qubit's state between |0$\\rangle$ and |1$\\rangle$.  This gate can be thought of the quantum analog to flipping a classical bit (the NOT gate).  In systems with many superposition states, this gate will be very useful in isolating particular states for future operations.\n",
    "\n",
    "<BR><BR>"
   ]
  },
  {
   "cell_type": "code",
   "execution_count": 13,
   "metadata": {},
   "outputs": [
    {
     "name": "stdout",
     "output_type": "stream",
     "text": [
      "  __ Initial __ \n",
      "1.0  |0>   \n",
      "\n",
      "  __ Final __ \n",
      "1.0  |1>   \n"
     ]
    },
    {
     "data": {
      "image/png": "[encoded data removed]",
      "text/plain": [
       "<Figure size 233.576x84.28 with 1 Axes>"
      ]
     },
     "execution_count": 13,
     "metadata": {},
     "output_type": "execute_result"
    }
   ],
   "source": [
    "q = QuantumRegister(1,name='q')\n",
    "X_qc = QuantumCircuit(q,name='qc')\n",
    "\n",
    "X_qc.iden( q[0] )\n",
    "print('  __ Initial __ ')\n",
    "print(oq.Wavefunction(X_qc))\n",
    "\n",
    "X_qc.x( q[0] )\n",
    "print('\\n  __ Final __ ')\n",
    "print(oq.Wavefunction(X_qc))\n",
    "\n",
    "# circuit_drawer(X_qc)\n",
    "X_qc.draw(output=\"mpl\")"
   ]
  },
  {
   "cell_type": "markdown",
   "metadata": {},
   "source": [
    "---\n",
    "## ( <font color=\"red\">Y</font> )\n",
    "\n",
    "<BR>\n",
    "<font color=\"blue\" size=4>\n",
    "    \n",
    "$$\n",
    "\\begin{bmatrix} \n",
    "0 & -i\\\\ \n",
    "i & 0\n",
    "\\end{bmatrix}\n",
    "$$\n",
    "\n",
    "</font>\n",
    "<BR>\n",
    "\n",
    "\n",
    "\n",
    "The effect of this gate is to flip a qubit's |0$\\rangle$ and |1$\\rangle$ amplitudes and multiplys by an imaginary number (phase).  From a probabilities perspective, this gate has the same effect as the X gate.  However, the additional phase makes this gate very useful in creating certain constructive / deconstructive interferences.\n",
    "\n",
    "<BR><BR>"
   ]
  },
  {
   "cell_type": "code",
   "execution_count": 14,
   "metadata": {},
   "outputs": [
    {
     "name": "stdout",
     "output_type": "stream",
     "text": [
      "  __ Initial __ \n",
      "1.0  |0>   \n",
      "\n",
      "  __ Final __ \n",
      "1.0j |1>   \n"
     ]
    },
    {
     "data": {
      "image/png": "[encoded data removed]",
      "text/plain": [
       "<Figure size 233.576x84.28 with 1 Axes>"
      ]
     },
     "execution_count": 14,
     "metadata": {},
     "output_type": "execute_result"
    }
   ],
   "source": [
    "q = QuantumRegister(1,name='q')\n",
    "Y_qc = QuantumCircuit(q,name='qc')\n",
    "\n",
    "Y_qc.iden( q[0] )\n",
    "print('  __ Initial __ ')\n",
    "print(oq.Wavefunction(Y_qc))\n",
    "\n",
    "Y_qc.y( q[0] )\n",
    "print('\\n  __ Final __ ')\n",
    "print(oq.Wavefunction(Y_qc))\n",
    "\n",
    "# circuit_drawer(Y_qc)\n",
    "Y_qc.draw(output=\"mpl\")"
   ]
  },
  {
   "cell_type": "markdown",
   "metadata": {},
   "source": [
    "---\n",
    "## ( <font color=\"red\">Z</font> )\n",
    "\n",
    "<BR>\n",
    "<font color=\"blue\" size=4>\n",
    "    \n",
    "$$\n",
    "\\begin{bmatrix} \n",
    "1 & 0\\\\ \n",
    "0 & -1\n",
    "\\end{bmatrix}\n",
    "$$\n",
    "\n",
    "</font>\n",
    "<BR>\n",
    "\n",
    "\n",
    "The effect of this gate leaves a qubit's |0$\\rangle$ amplitude unchanged, while multiplying by -1 (phase) to a qubit's |1$\\rangle$ amplitude.  The power of this gate comes from the fact that it only affects the |$1\\rangle$ component, which will be frequently used for picking out certain states in the system while leaving others unaltered.\n",
    "\n",
    "<BR><BR>"
   ]
  },
  {
   "cell_type": "code",
   "execution_count": 15,
   "metadata": {},
   "outputs": [
    {
     "name": "stdout",
     "output_type": "stream",
     "text": [
      "  __ Initial __ \n",
      "0.70711  |0>   0.70711  |1>   \n",
      "\n",
      "  __ Final __ \n",
      "0.70711  |0>   -0.70711  |1>   \n"
     ]
    },
    {
     "data": {
      "image/png": "[encoded data removed]",
      "text/plain": [
       "<Figure size 233.576x84.28 with 1 Axes>"
      ]
     },
     "execution_count": 15,
     "metadata": {},
     "output_type": "execute_result"
    }
   ],
   "source": [
    "q = QuantumRegister(1,name='q')\n",
    "Z_qc = QuantumCircuit(q,name='qc')\n",
    "\n",
    "Z_qc.h( q[0] )\n",
    "print('  __ Initial __ ')\n",
    "print(oq.Wavefunction(Z_qc))\n",
    "\n",
    "Z_qc.z( q[0] )\n",
    "print('\\n  __ Final __ ')\n",
    "print(oq.Wavefunction(Z_qc))\n",
    "\n",
    "# circuit_drawer(Z_qc)\n",
    "Z_qc.draw(output=\"mpl\")"
   ]
  },
  {
   "cell_type": "markdown",
   "metadata": {},
   "source": [
    "# Phase Gates\n",
    "------\n",
    "The following series of gates are all single qubit operations, which multiply a qubit's |$1\\rangle$ state component by a phase.  Doing so does not change the probability of the system, but is an essential component for algorithms that rely on particular kinds of interference.\n",
    "\n",
    "\n",
    "## PHASE ( <font color=\"red\">R$_{\\phi}$</font> )\n",
    "\n",
    "<BR>\n",
    "<font color=\"blue\" size=4>\n",
    "    \n",
    "$$\n",
    "\\begin{bmatrix} \n",
    "1 & 0\\\\ \n",
    "0 & e^{i\\phi}\n",
    "\\end{bmatrix}\n",
    "$$\n",
    "\n",
    "</font>\n",
    "\n",
    "<BR>\n",
    "\n",
    "A gate similar to the Z gate.  It leaves a qubit's |0$\\rangle$ amplitude unchanged, while multiplying by a phase $e^{i\\phi}$ to a qubit's |1$\\rangle$ amplitude.  In Qiskit, this gate goes by the name '$U_1$'.  This gate will find many of the same uses as the Z gate, picking out certain states while leaving others unchanged.  However, the extra degree of phase is a powerful tool for creating certain interference effects.\n",
    "\n",
    "<BR><BR>"
   ]
  },
  {
   "cell_type": "code",
   "execution_count": 16,
   "metadata": {},
   "outputs": [
    {
     "name": "stdout",
     "output_type": "stream",
     "text": [
      "  __ Initial __ \n",
      "0.70711  |0>   0.70711  |1>   \n",
      "\n",
      "  __ Final __ \n",
      "0.70711  |0>   0.5+0.5j |1>   \n"
     ]
    },
    {
     "data": {
      "image/png": "[encoded data removed]",
      "text/plain": [
       "<Figure size 233.576x84.28 with 1 Axes>"
      ]
     },
     "execution_count": 16,
     "metadata": {},
     "output_type": "execute_result"
    }
   ],
   "source": [
    "q = QuantumRegister(1,name='q')\n",
    "u1_qc = QuantumCircuit(q,name='qc')\n",
    "\n",
    "u1_qc.h( q[0] )\n",
    "print('  __ Initial __ ')\n",
    "print(oq.Wavefunction(u1_qc))\n",
    "\n",
    "u1_qc.u1( m.pi/4, q[0] )\n",
    "print('\\n  __ Final __ ')\n",
    "print(oq.Wavefunction(u1_qc))\n",
    "\n",
    "# circuit_drawer(u1_qc)\n",
    "u1_qc.draw(output=\"mpl\")"
   ]
  },
  {
   "cell_type": "markdown",
   "metadata": {},
   "source": [
    "---\n",
    "## ( <font color=\"red\">S</font> )\n",
    "\n",
    "\n",
    "<BR>\n",
    "<font color=\"blue\" size=4>\n",
    "    \n",
    "$$\n",
    "\\begin{bmatrix} \n",
    "1 & 0\\\\ \n",
    "0 & i\n",
    "\\end{bmatrix}\n",
    "$$\n",
    "\n",
    "</font>\n",
    "\n",
    "<BR>\n",
    "\n",
    "A pre-defined gate for R$_{\\phi}$, $\\phi$=$\\frac{\\pi}{2}$.  It leaves a qubit's |0$\\rangle$ amplitude unchanged, while multiplying by i (phase) to a qubit's |1$\\rangle$ amplitude.\n",
    "\n",
    "<BR><BR>"
   ]
  },
  {
   "cell_type": "code",
   "execution_count": 17,
   "metadata": {},
   "outputs": [
    {
     "name": "stdout",
     "output_type": "stream",
     "text": [
      "  __ Initial __ \n",
      "0.70711  |0>   0.70711  |1>   \n",
      "\n",
      "  __ Final __ \n",
      "0.70711  |0>   0.70711j |1>   \n"
     ]
    },
    {
     "data": {
      "image/png": "[encoded data removed]",
      "text/plain": [
       "<Figure size 233.576x84.28 with 1 Axes>"
      ]
     },
     "execution_count": 17,
     "metadata": {},
     "output_type": "execute_result"
    }
   ],
   "source": [
    "q = QuantumRegister(1,name='q')\n",
    "S_qc = QuantumCircuit(q,name='qc')\n",
    "\n",
    "S_qc.h( q[0] )\n",
    "print('  __ Initial __ ')\n",
    "print(oq.Wavefunction(S_qc))\n",
    "\n",
    "S_qc.s( q[0] )\n",
    "print('\\n  __ Final __ ')\n",
    "print(oq.Wavefunction(S_qc))\n",
    "\n",
    "# circuit_drawer(S_qc)\n",
    "S_qc.draw(output=\"mpl\")"
   ]
  },
  {
   "cell_type": "markdown",
   "metadata": {},
   "source": [
    "---\n",
    "## ( <font color=\"red\">T</font> )\n",
    "\n",
    "<BR>\n",
    "    \n",
    "A pre-defined gate for <font color=\"black\" size=4> R$_{\\phi}$,  $\\phi$=$\\frac{\\pi}{4}$ </font>\n",
    "\n",
    "\n",
    "<BR>\n",
    "<font color=\"blue\"  size=4>\n",
    "    \n",
    "    \n",
    "$$\n",
    "\\begin{bmatrix} \n",
    "1 & 0\\\\ \n",
    "0 & e^{i\\frac{\\pi}{4}}\n",
    "\\end{bmatrix}\n",
    "$$\n",
    "\n",
    "</font>\n",
    "<BR>\n",
    "\n",
    "\n",
    "A pre-defined gate for <font color=\"black\" size=4> R$_{\\phi}$, $\\phi$=$\\frac{\\pi}{2}$ </font>.  \n",
    "\n",
    "<BR>\n",
    "    \n",
    "It leaves a qubit's **|0$\\rangle$** amplitude unchanged, while multiplying by **i (phase)** to a qubit's **|1$\\rangle$** amplitude.\n",
    "\n",
    "<BR><BR>"
   ]
  },
  {
   "cell_type": "code",
   "execution_count": 18,
   "metadata": {},
   "outputs": [
    {
     "name": "stdout",
     "output_type": "stream",
     "text": [
      "  __ Initial __ \n",
      "0.70711  |0>   0.70711  |1>   \n",
      "\n",
      "  __ Final __ \n",
      "0.70711  |0>   0.5+0.5j |1>   \n"
     ]
    },
    {
     "data": {
      "image/png": "[encoded data removed]",
      "text/plain": [
       "<Figure size 233.576x84.28 with 1 Axes>"
      ]
     },
     "execution_count": 18,
     "metadata": {},
     "output_type": "execute_result"
    }
   ],
   "source": [
    "q = QuantumRegister(1,name='q')\n",
    "T_qc = QuantumCircuit(q,name='qc')\n",
    "\n",
    "T_qc.h( q[0] )\n",
    "print('  __ Initial __ ')\n",
    "print(oq.Wavefunction(T_qc))\n",
    "\n",
    "T_qc.t( q[0] )\n",
    "print('\\n  __ Final __ ')\n",
    "print(oq.Wavefunction(T_qc))\n",
    "\n",
    "# circuit_drawer(T_qc)\n",
    "T_qc.draw(output=\"mpl\")"
   ]
  },
  {
   "cell_type": "markdown",
   "metadata": {},
   "source": [
    "# Rotation Gates\n",
    "-------\n",
    "\n",
    "The follow gates all represent rotations of a state on a Bloch Sphere.  A Bloch sphere is a visual representation that maps the state of a qubit to a location on the surface of a sphere, radius = 1.  An image of a Bloch sphere and it's axes is given below:\n",
    "\n",
    "<BR><BR>\n",
    "\n",
    "![title](QA_Images/Les3_Bloch.png)\n",
    "\n",
    "<BR>\n",
    "\n",
    "Note that the opposite ends of the **x** and **y** axis are: \n",
    "\n",
    "\n",
    "<BR>\n",
    "<font color=\"blue\" size=4>\n",
    "    \n",
    "-x = $\\frac{1}{\\sqrt{2}} \\big{(}$ |$\\hspace{.06cm} 0\\rangle$ - |$\\hspace{.06cm} 1\\rangle$ $\\big{)}$ $\\hspace{.3cm}$\n",
    "-y = $\\frac{1}{\\sqrt{2}} \\big{(}$ |$\\hspace{.06cm} 0\\rangle$ - $i\\hspace{.05cm}$|$\\hspace{.06cm} 1 \\rangle$ $\\big{)}$\n",
    "\n",
    "</font>\n",
    "<BR>\n",
    "\n",
    "Thus, opposite axes on a Bloch Sphere represent orthogonal states.\n",
    "\n",
    "\n",
    "## R<font color=\"blue\">$_x$</font>(<font color=\"red\">$\\theta$</font>) \n",
    "\n",
    "\n",
    "<BR>\n",
    "<font color=\"blue\" size=4>\n",
    "    \n",
    "    \n",
    "$$\n",
    "\\begin{bmatrix} \n",
    "cos(\\frac{\\theta}{2}) & -i \\cdot sin(\\frac{\\theta}{2})\\\\ \n",
    "-i \\cdot sin(\\frac{\\theta}{2}) & cos(\\frac{\\theta}{2})\n",
    "\\end{bmatrix}\n",
    "$$\n",
    "\n",
    "\n",
    "</font>\n",
    "<BR>\n",
    "    \n",
    "A rotation gate where the initial and final states can be represented as $\\theta$ rotation around the x-axis on a Bloch Sphere.\n",
    "\n",
    "<BR><BR>"
   ]
  },
  {
   "cell_type": "code",
   "execution_count": 19,
   "metadata": {},
   "outputs": [
    {
     "name": "stdout",
     "output_type": "stream",
     "text": [
      "  __ Initial __ \n",
      "1.0  |0>   \n",
      "\n",
      "  __ Final __ \n",
      "0.70711  |0>   -0.70711j |1>   \n"
     ]
    },
    {
     "data": {
      "image/png": "[encoded data removed]",
      "text/plain": [
       "<Figure size 233.576x84.28 with 1 Axes>"
      ]
     },
     "execution_count": 19,
     "metadata": {},
     "output_type": "execute_result"
    }
   ],
   "source": [
    "q = QuantumRegister(1,name='q')\n",
    "Rx_qc = QuantumCircuit(q,name='qc')\n",
    "\n",
    "Rx_qc.iden( q[0] )\n",
    "print('  __ Initial __ ')\n",
    "print(oq.Wavefunction(Rx_qc))\n",
    "\n",
    "Rx_qc.rx( m.pi/2, q[0] )\n",
    "print('\\n  __ Final __ ')\n",
    "print(oq.Wavefunction(Rx_qc))\n",
    "\n",
    "# circuit_drawer(Rx_qc)\n",
    "Rx_qc.draw(output=\"mpl\")"
   ]
  },
  {
   "cell_type": "markdown",
   "metadata": {},
   "source": [
    "---\n",
    "## R<font color=\"blue\">$_y$</font>(<font color=\"red\">$\\theta$</font>) \n",
    "\n",
    "\n",
    "<BR>\n",
    "<font color=\"blue\" size=4>\n",
    "    \n",
    "    \n",
    "$$\n",
    "\\begin{bmatrix} \n",
    "cos(\\frac{\\theta}{2}) & -sin(\\frac{\\theta}{2})\\\\ \n",
    "sin(\\frac{\\theta}{2}) & cos(\\frac{\\theta}{2})\n",
    "\\end{bmatrix}\n",
    "$$\n",
    "\n",
    "\n",
    "</font>\n",
    "\n",
    "<BR>\n",
    "    \n",
    "    \n",
    "A rotation gate where the initial and final states can be represented as $\\theta$ rotation around the y-axis on a Bloch Sphere.\n",
    "\n",
    "<BR><BR>"
   ]
  },
  {
   "cell_type": "code",
   "execution_count": 20,
   "metadata": {},
   "outputs": [
    {
     "name": "stdout",
     "output_type": "stream",
     "text": [
      "  __ Initial __ \n",
      "1.0  |0>   \n",
      "\n",
      "  __ Final __ \n",
      "0.70711  |0>   0.70711  |1>   \n"
     ]
    },
    {
     "data": {
      "image/png": "[encoded data removed]",
      "text/plain": [
       "<Figure size 233.576x84.28 with 1 Axes>"
      ]
     },
     "execution_count": 20,
     "metadata": {},
     "output_type": "execute_result"
    }
   ],
   "source": [
    "q = QuantumRegister(1,name='q')\n",
    "Ry_qc = QuantumCircuit(q,name='qc')\n",
    "\n",
    "Ry_qc.iden( q[0] )\n",
    "print('  __ Initial __ ')\n",
    "print(oq.Wavefunction(Ry_qc))\n",
    "\n",
    "Ry_qc.ry( m.pi/2, q[0] )\n",
    "print('\\n  __ Final __ ')\n",
    "print(oq.Wavefunction(Ry_qc))\n",
    "\n",
    "# circuit_drawer(Ry_qc)\n",
    "Ry_qc.draw(output=\"mpl\")"
   ]
  },
  {
   "cell_type": "markdown",
   "metadata": {},
   "source": [
    "---\n",
    "## R<font color=\"blue\">$_z$</font>(<font color=\"red\">$\\theta$</font>) \n",
    "\n",
    "\n",
    "<BR>\n",
    "<font color=\"blue\"  size=4>\n",
    "    \n",
    "    \n",
    "$$\n",
    "\\begin{bmatrix} \n",
    "e^{\\frac{-i\\theta}{2}} & 0\\\\ \n",
    "0 & e^{\\frac{i\\theta}{2}}\n",
    "\\end{bmatrix}\n",
    "$$\n",
    "\n",
    "</font>\n",
    "<BR>\n",
    "\n",
    "\n",
    "A rotation gate where the initial and final states can be represented as $\\theta$ rotation around the z-axis on a Bloch Sphere.\n",
    "\n",
    "<BR><BR>"
   ]
  },
  {
   "cell_type": "code",
   "execution_count": 21,
   "metadata": {},
   "outputs": [
    {
     "name": "stdout",
     "output_type": "stream",
     "text": [
      "  __ Initial __ \n",
      "0.70711  |0>   0.70711  |1>   \n",
      "\n",
      "  __ Final __ \n",
      "0.70711  |0>   0.70711j |1>   \n"
     ]
    },
    {
     "data": {
      "image/png": "[encoded data removed]",
      "text/plain": [
       "<Figure size 233.576x84.28 with 1 Axes>"
      ]
     },
     "execution_count": 21,
     "metadata": {},
     "output_type": "execute_result"
    }
   ],
   "source": [
    "q = QuantumRegister(1,name='q')\n",
    "Rz_qc = QuantumCircuit(q,name='qc')\n",
    "\n",
    "Rz_qc.h( q[0] )\n",
    "print('  __ Initial __ ')\n",
    "print(oq.Wavefunction(Rz_qc))\n",
    "\n",
    "Rz_qc.rz( m.pi/2, q[0] )\n",
    "print('\\n  __ Final __ ')\n",
    "print(oq.Wavefunction(Rz_qc))\n",
    "\n",
    "# circuit_drawer(Rz_qc)\n",
    "Rz_qc.draw(output=\"mpl\")"
   ]
  },
  {
   "cell_type": "markdown",
   "metadata": {},
   "source": [
    "# Two Qubit Control Gates\n",
    "---------\n",
    "\n",
    "All of the following gates act on 2 qubits.  In particular, each gate uses a 'target qubit' and a 'control qubit'.  The role of the control qubit is to determine whether or not a particular operation is applied to the target qubit.  If the control qubit is in the state |$1\\rangle$, then the operation is carried out on the target qubit.  Conversely, if the control qubit is in the state |$0\\rangle$, then the target qubit remains unchanged.\n",
    "\n",
    "## CNOT\n",
    "\n",
    "The effect of the CNOT gate can be described as follows:\n",
    "\n",
    "<BR>\n",
    "<font color=\"blue\"  size=4>\n",
    "    \n",
    "$$\\textbf{CNOT} \\hspace{.2cm} |\\hspace{.05cm}00\\rangle \\hspace{.25cm} \\rightarrow \\hspace{.25cm} |\\hspace{.05cm}00\\rangle $$\n",
    "$$\\textbf{CNOT} \\hspace{.2cm} |\\hspace{.05cm}01\\rangle \\hspace{.25cm} \\rightarrow \\hspace{.25cm} |\\hspace{.05cm}01\\rangle $$\n",
    "$$\\textbf{CNOT} \\hspace{.2cm} |\\hspace{.05cm}10\\rangle \\hspace{.25cm} \\rightarrow \\hspace{.25cm} |\\hspace{.05cm}11\\rangle $$\n",
    "$$\\textbf{CNOT} \\hspace{.2cm} |\\hspace{.05cm}11\\rangle \\hspace{.25cm} \\rightarrow \\hspace{.25cm} |\\hspace{.05cm}10\\rangle $$\n",
    "\n",
    "<BR><BR>\n",
    "\n",
    "\n",
    "$$\n",
    "\\begin{bmatrix} \n",
    "1 & 0 & 0 & 0\\\\ \n",
    "0 & 1 & 0 & 0\\\\ \n",
    "0 & 0 & 0 & 1\\\\ \n",
    "0 & 0 & 1 & 0\\\\ \n",
    "\\end{bmatrix}\n",
    "$$\n",
    "\n",
    "</font>\n",
    "<BR>\n",
    "\n",
    "In this notation, the first qubit is the control and the second qubit is the target.  Another way to think of this gate is as a 'control-X' gate, where the state of the control qubit determines whether or not an X gate is applied to the target qubit.  In Qiskit, this gate goes by the name 'CX'.\n",
    "\n",
    "The CNOT gate is perhaps one of the most important tools in our quantum computing arsenal.  Since we cannot have a purely 'NOT', the CNOT gate is our closest match.  In combination with other gates, it will allow us to construct all manners of multi-qubit operations.\n",
    "\n",
    "<BR><BR>"
   ]
  },
  {
   "cell_type": "code",
   "execution_count": 22,
   "metadata": {
    "scrolled": true
   },
   "outputs": [
    {
     "name": "stdout",
     "output_type": "stream",
     "text": [
      "  __ Initial __ \n",
      "0.70711  |00>   0.70711  |10>   \n",
      "\n",
      "  __ Final __ \n",
      "0.70711  |00>   0.70711  |11>   \n"
     ]
    },
    {
     "data": {
      "image/png": "[encoded data removed]",
      "text/plain": [
       "<Figure size 298.592x144.48 with 1 Axes>"
      ]
     },
     "execution_count": 22,
     "metadata": {},
     "output_type": "execute_result"
    }
   ],
   "source": [
    "q = QuantumRegister(2,name='q')\n",
    "Cx_qc = QuantumCircuit(q,name='qc')\n",
    "\n",
    "Cx_qc.h( q[0] )\n",
    "Cx_qc.iden( q[1] )\n",
    "print('  __ Initial __ ')\n",
    "print(oq.Wavefunction(Cx_qc))\n",
    "\n",
    "Cx_qc.cx( q[0], q[1] )\n",
    "print('\\n  __ Final __ ')\n",
    "print(oq.Wavefunction(Cx_qc))\n",
    "\n",
    "# circuit_drawer(Cx_qc)\n",
    "Cx_qc.draw(output=\"mpl\")"
   ]
  },
  {
   "cell_type": "code",
   "execution_count": 23,
   "metadata": {},
   "outputs": [
    {
     "name": "stdout",
     "output_type": "stream",
     "text": [
      "  __ Initial __ \n",
      "0.70711  |10>   -0.70711  |01>   \n",
      "\n",
      "  __ Final __ \n",
      "0.70711  |10>   -0.70711  |01>   \n"
     ]
    },
    {
     "data": {
      "image/png": "[encoded data removed]",
      "text/plain": [
       "<Figure size 358.792x144.48 with 1 Axes>"
      ]
     },
     "execution_count": 23,
     "metadata": {},
     "output_type": "execute_result"
    }
   ],
   "source": [
    "q = QuantumRegister(2,name='q')\n",
    "Cx_qc = QuantumCircuit(q,name='qc')\n",
    "\n",
    "Cx_qc.h( q[0] )\n",
    "Cx_qc.cx( q[0], q[1] )\n",
    "Cx_qc.x( q[0] )\n",
    "Cx_qc.z( q[1] )\n",
    "print('  __ Initial __ ')\n",
    "print(oq.Wavefunction(Cx_qc))\n",
    "\n",
    "print('\\n  __ Final __ ')\n",
    "print(oq.Wavefunction(Cx_qc))\n",
    "\n",
    "# circuit_drawer(Cx_qc)\n",
    "Cx_qc.draw(output=\"mpl\")"
   ]
  },
  {
   "cell_type": "markdown",
   "metadata": {},
   "source": [
    "---\n",
    "## CZ (Control-Z)\n",
    "\n",
    "<BR>\n",
    "    \n",
    "The control-Z gate works similarly to the CNOT gate, only instead of flipping the target qubit (applying an X gate), we apply a Z gate:\n",
    "\n",
    "<BR><BR>\n",
    "<font color=\"blue\"  size=4>\n",
    "    \n",
    "$$\\textbf{CZ} \\hspace{.2cm} |\\hspace{.05cm}00\\rangle \\hspace{.45cm} \\rightarrow \\hspace{.45cm} |\\hspace{.05cm}00\\rangle $$\n",
    "$$\\textbf{CZ} \\hspace{.2cm} |\\hspace{.05cm}01\\rangle \\hspace{.45cm} \\rightarrow \\hspace{.45cm} |\\hspace{.05cm}01\\rangle $$\n",
    "$$\\textbf{CZ} \\hspace{.2cm} |\\hspace{.05cm}10\\rangle \\hspace{.45cm} \\rightarrow \\hspace{.45cm} |\\hspace{.05cm}10\\rangle $$\n",
    "$$\\textbf{CZ} \\hspace{.2cm} |\\hspace{.05cm}11\\rangle \\hspace{.45cm} \\rightarrow \\hspace{.15cm} -|\\hspace{.05cm}11\\rangle $$\n",
    "\n",
    "<BR><BR>\n",
    "\n",
    "\n",
    "$$\n",
    "\\begin{bmatrix} \n",
    "1 & 0 & 0 & 0\\\\ \n",
    "0 & 1 & 0 & 0\\\\ \n",
    "0 & 0 & 1 & 0\\\\ \n",
    "0 & 0 & 0 & -1\\\\ \n",
    "\\end{bmatrix}\n",
    "$$\n",
    "\n",
    "\n",
    "</font>\n",
    "\n",
    "<BR>\n",
    "\n",
    "Recall that a Z gates leaves a qubit in the state |$0\\rangle$ untouched, while flipping the sign on a qubit in the state |$1\\rangle$.  Thus, the CZ gate performs a similar operation, only affecting the state |$11\\rangle$, as shown above.\n",
    "\n",
    "<BR><BR>"
   ]
  },
  {
   "cell_type": "code",
   "execution_count": 24,
   "metadata": {},
   "outputs": [
    {
     "name": "stdout",
     "output_type": "stream",
     "text": [
      "  __ Initial __ \n",
      "0.70711  |01>   0.70711  |11>   \n",
      "\n",
      "  __ Final __ \n",
      "0.70711  |01>   -0.70711  |11>   \n"
     ]
    },
    {
     "data": {
      "image/png": "[encoded data removed]",
      "text/plain": [
       "<Figure size 298.592x144.48 with 1 Axes>"
      ]
     },
     "execution_count": 24,
     "metadata": {},
     "output_type": "execute_result"
    }
   ],
   "source": [
    "q = QuantumRegister(2,name='q')\n",
    "Cz_qc = QuantumCircuit(q,name='qc')\n",
    "\n",
    "Cz_qc.h( q[0] )\n",
    "Cz_qc.x( q[1] )\n",
    "print('  __ Initial __ ')\n",
    "print(oq.Wavefunction(Cz_qc))\n",
    "\n",
    "Cz_qc.cz( q[0], q[1] )\n",
    "print('\\n  __ Final __ ')\n",
    "print(oq.Wavefunction(Cz_qc))\n",
    "\n",
    "# circuit_drawer(Cz_qc)\n",
    "Cz_qc.draw(output=\"mpl\")"
   ]
  },
  {
   "cell_type": "markdown",
   "metadata": {},
   "source": [
    "---\n",
    "## Control Phase Gate\n",
    "\n",
    "<BR>\n",
    "    \n",
    "The control-phase gate, also referred to as a CPHASE gate, uses a control qubit to apply a $R_{\\phi}$ gate to a target qubit.  The net effect is similar to that of the control-Z gate, only differing by the phase that gets multiplied to the state **|$11\\rangle$**:\n",
    "\n",
    "\n",
    "<BR><BR>\n",
    "<font color=\"blue\"  size=4>\n",
    "    \n",
    "    \n",
    "$$\n",
    "\\begin{bmatrix} \n",
    "1 & 0 & 0 & 0\\\\ \n",
    "0 & 1 & 0 & 0\\\\ \n",
    "0 & 0 & 1 & 0\\\\ \n",
    "0 & 0 & 0 & e^{i\\phi}\\\\ \n",
    "\\end{bmatrix}\n",
    "$$\n",
    "\n",
    "</font>\n",
    "<BR>\n",
    "\n",
    "In qiskit, this gate goes by the name $CU_1$:\n",
    "\n",
    "<BR><BR>"
   ]
  },
  {
   "cell_type": "code",
   "execution_count": 25,
   "metadata": {},
   "outputs": [
    {
     "name": "stdout",
     "output_type": "stream",
     "text": [
      "  __ Initial __ \n",
      "0.70711  |10>   0.70711  |11>   \n",
      "\n",
      "  __ Final __ \n",
      "0.70711  |10>   0.70711j |11>   \n"
     ]
    },
    {
     "data": {
      "image/png": "[encoded data removed]",
      "text/plain": [
       "<Figure size 358.792x144.48 with 1 Axes>"
      ]
     },
     "execution_count": 25,
     "metadata": {},
     "output_type": "execute_result"
    }
   ],
   "source": [
    "q = QuantumRegister(2,name='q')\n",
    "cu1_qc = QuantumCircuit(q,name='qc')\n",
    "\n",
    "cu1_qc.x( q[0] )\n",
    "cu1_qc.h( q[1] )\n",
    "cu1_qc.iden( q[1] )\n",
    "print('  __ Initial __ ')\n",
    "print(oq.Wavefunction(cu1_qc))\n",
    "\n",
    "cu1_qc.cu1( m.pi/2, q[0], q[1] )\n",
    "print('\\n  __ Final __ ')\n",
    "print(oq.Wavefunction(cu1_qc))\n",
    "\n",
    "# circuit_drawer(cu1_qc)\n",
    "cu1_qc.draw(output=\"mpl\")"
   ]
  },
  {
   "cell_type": "markdown",
   "metadata": {},
   "source": [
    "---\n",
    "## SWAP\n",
    "\n",
    "The SWAP gate causes two qubits to trade states.\n",
    "\n",
    "<BR><BR>\n",
    "<font color=\"blue\"  size=4>\n",
    "    \n",
    "    \n",
    "$$\\textbf{SWAP} \\hspace{.2cm} |\\hspace{.05cm}00\\rangle \\hspace{.25cm} \\rightarrow \\hspace{.25cm} |\\hspace{.05cm}00\\rangle $$\n",
    "$$\\textbf{SWAP} \\hspace{.2cm} |\\hspace{.05cm}01\\rangle \\hspace{.25cm} \\rightarrow \\hspace{.25cm} |\\hspace{.05cm}10\\rangle $$\n",
    "$$\\textbf{SWAP} \\hspace{.2cm} |\\hspace{.05cm}10\\rangle \\hspace{.25cm} \\rightarrow \\hspace{.25cm} |\\hspace{.05cm}01\\rangle $$\n",
    "$$\\textbf{SWAP} \\hspace{.2cm} |\\hspace{.05cm}11\\rangle \\hspace{.25cm} \\rightarrow \\hspace{.25cm} |\\hspace{.05cm}11\\rangle $$\n",
    "\n",
    "<BR><BR>\n",
    "\n",
    "$$\n",
    "\\begin{bmatrix} \n",
    "1 & 0 & 0 & 0\\\\ \n",
    "0 & 0 & 1 & 0\\\\ \n",
    "0 & 1 & 0 & 0\\\\ \n",
    "0 & 0 & 0 & 1\\\\ \n",
    "\\end{bmatrix}\n",
    "$$\n",
    "\n",
    "</font>\n",
    "<BR>\n",
    "\n",
    "A simple way of viewing the effect of this gate is that all of the $0$'s and $1$'s in each state switch places.  As a result, we can see that the SWAP gate has no effect on the states |$00\\rangle$ and |$11\\rangle$.\n",
    "\n",
    "<BR><BR>"
   ]
  },
  {
   "cell_type": "code",
   "execution_count": 26,
   "metadata": {},
   "outputs": [
    {
     "name": "stdout",
     "output_type": "stream",
     "text": [
      "  __ Initial __ \n",
      "0.70711  |10>   0.70711  |11>   \n",
      "\n",
      "  __ Final __ \n",
      "0.70711  |01>   0.70711  |11>   \n"
     ]
    },
    {
     "data": {
      "image/png": "[encoded data removed]",
      "text/plain": [
       "<Figure size 358.792x144.48 with 1 Axes>"
      ]
     },
     "execution_count": 26,
     "metadata": {},
     "output_type": "execute_result"
    }
   ],
   "source": [
    "q = QuantumRegister(2,name='q')\n",
    "swap_qc = QuantumCircuit(q,name='qc')\n",
    "\n",
    "swap_qc.x( q[0] )\n",
    "swap_qc.h( q[1] )\n",
    "swap_qc.iden( q[1] )\n",
    "print('  __ Initial __ ')\n",
    "print(oq.Wavefunction(swap_qc))\n",
    "\n",
    "swap_qc.swap( q[0], q[1] )\n",
    "print('\\n  __ Final __ ')\n",
    "print(oq.Wavefunction(swap_qc))\n",
    "\n",
    "# circuit_drawer(swap_qc)\n",
    "swap_qc.draw(output=\"mpl\")"
   ]
  },
  {
   "cell_type": "markdown",
   "metadata": {},
   "source": [
    "# 3 Qubit Control Gates\n",
    "----\n",
    "\n",
    "The following two gates take 3 qubits as inputs.  They are essentially higher order versions of the CNOT and SWAP gates, adding one extra control qubit to each.\n",
    "\n",
    "<BR>\n",
    "    \n",
    "## CSWAP\n",
    "\n",
    "The control-swap gate uses a control qubit to determine whether or not to apply a SWAP gate to two target qubits.  If the control qubit is in the state |$1\\rangle$, then a SWAP gate is performed.  Examples:\n",
    "\n",
    "<BR><BR>\n",
    "<font color=\"blue\"  size=4>\n",
    "    \n",
    "$$\\textbf{CSWAP} \\hspace{.2cm} |\\hspace{.05cm}010\\rangle \\hspace{.25cm} \\rightarrow \\hspace{.25cm} |\\hspace{.05cm}010\\rangle $$\n",
    "$$\\textbf{CSWAP} \\hspace{.2cm} |\\hspace{.05cm}101\\rangle \\hspace{.25cm} \\rightarrow \\hspace{.25cm} |\\hspace{.05cm}110\\rangle $$\n",
    "$$\\textbf{CSWAP} \\hspace{.2cm} |\\hspace{.05cm}110\\rangle \\hspace{.25cm} \\rightarrow \\hspace{.25cm} |\\hspace{.05cm}101\\rangle $$\n",
    "$$\\textbf{CSWAP} \\hspace{.2cm} |\\hspace{.05cm}111\\rangle \\hspace{.25cm} \\rightarrow \\hspace{.25cm} |\\hspace{.05cm}111\\rangle $$\n",
    "\n",
    "<BR><BR>\n",
    "    \n",
    "$$\n",
    "\\begin{bmatrix} \n",
    "1 & 0 & 0 & 0 & 0 & 0 & 0 & 0\\\\ \n",
    "0 & 1 & 0 & 0 & 0 & 0 & 0 & 0\\\\ \n",
    "0 & 0 & 1 & 0 & 0 & 0 & 0 & 0\\\\ \n",
    "0 & 0 & 0 & 1 & 0 & 0 & 0 & 0\\\\ \n",
    "0 & 0 & 0 & 0 & 1 & 0 & 0 & 0\\\\ \n",
    "0 & 0 & 0 & 0 & 0 & 0 & 1 & 0\\\\ \n",
    "0 & 0 & 0 & 0 & 0 & 1 & 0 & 0\\\\ \n",
    "0 & 0 & 0 & 0 & 0 & 0 & 0 & 1\\\\ \n",
    "\\end{bmatrix}\n",
    "$$\n",
    "\n",
    "\n",
    "</font>\n",
    "<BR>\n",
    "    \n",
    "This gate is also sometimes referred to as a Fredkin Gate.\n",
    "\n",
    "<BR><BR>"
   ]
  },
  {
   "cell_type": "code",
   "execution_count": 27,
   "metadata": {},
   "outputs": [
    {
     "name": "stdout",
     "output_type": "stream",
     "text": [
      "  __ Initial __ \n",
      "0.70711  |010>   0.70711  |110>   \n",
      "\n",
      "  __ Final __ \n",
      "0.70711  |010>   0.70711  |101>   \n"
     ]
    },
    {
     "data": {
      "image/png": "[encoded data removed]",
      "text/plain": [
       "<Figure size 298.592x204.68 with 1 Axes>"
      ]
     },
     "execution_count": 27,
     "metadata": {},
     "output_type": "execute_result"
    }
   ],
   "source": [
    "q = QuantumRegister(3,name='q')\n",
    "cswap_qc = QuantumCircuit(q,name='qc')\n",
    "\n",
    "cswap_qc.h( q[0] )\n",
    "cswap_qc.x( q[1] )\n",
    "cswap_qc.iden( q[2] )\n",
    "print('  __ Initial __ ')\n",
    "print(oq.Wavefunction(cswap_qc))\n",
    "\n",
    "cswap_qc.cswap( q[0], q[1], q[2] )\n",
    "print('\\n  __ Final __ ')\n",
    "print(oq.Wavefunction(cswap_qc))\n",
    "\n",
    "# circuit_drawer(cswap_qc)\n",
    "cswap_qc.draw(output=\"mpl\")"
   ]
  },
  {
   "cell_type": "markdown",
   "metadata": {},
   "source": [
    "---\n",
    "## CCNOT\n",
    "\n",
    "<BR>\n",
    "The control-control not gate uses two control qubits to determine if an X gate is applied to a single target qubit.  \n",
    "    \n",
    "Examples:\n",
    "\n",
    "<BR>\n",
    "<font color=\"blue\" size=4>\n",
    "    \n",
    "$$\\textbf{CCNOT} \\hspace{.2cm} |010\\rangle \\hspace{.25cm} \\rightarrow \\hspace{.25cm} |010\\rangle $$\n",
    "$$\\textbf{CCNOT} \\hspace{.2cm} |101\\rangle \\hspace{.25cm} \\rightarrow \\hspace{.25cm} |101\\rangle $$\n",
    "$$\\textbf{CCNOT} \\hspace{.2cm} |110\\rangle \\hspace{.25cm} \\rightarrow \\hspace{.25cm} |111\\rangle $$\n",
    "$$\\textbf{CCNOT} \\hspace{.2cm} |111\\rangle \\hspace{.25cm} \\rightarrow \\hspace{.25cm} |110\\rangle $$\n",
    "\n",
    "<BR><BR>\n",
    "\n",
    "$$\n",
    "\\begin{bmatrix} \n",
    "1 & 0 & 0 & 0 & 0 & 0 & 0 & 0\\\\ \n",
    "0 & 1 & 0 & 0 & 0 & 0 & 0 & 0\\\\ \n",
    "0 & 0 & 1 & 0 & 0 & 0 & 0 & 0\\\\ \n",
    "0 & 0 & 0 & 1 & 0 & 0 & 0 & 0\\\\ \n",
    "0 & 0 & 0 & 0 & 1 & 0 & 0 & 0\\\\ \n",
    "0 & 0 & 0 & 0 & 0 & 1 & 0 & 0\\\\ \n",
    "0 & 0 & 0 & 0 & 0 & 0 & 0 & 1\\\\ \n",
    "0 & 0 & 0 & 0 & 0 & 0 & 1 & 0\\\\ \n",
    "\\end{bmatrix}\n",
    "$$\n",
    "\n",
    "\n",
    "</font>\n",
    "<BR>\n",
    "    \n",
    "    \n",
    "This gate is also sometimes referred to as a Toffoli Gate.  Much like the CNOT gate, the effect of this gate is equivalent to an X gate on the states |$110\\rangle$ and |$111\\rangle$.\n",
    "\n",
    "<BR><BR>"
   ]
  },
  {
   "cell_type": "code",
   "execution_count": 28,
   "metadata": {},
   "outputs": [
    {
     "name": "stdout",
     "output_type": "stream",
     "text": [
      "  __ Initial __ \n",
      "0.70711  |110>   -0.70711  |111>   \n",
      "\n",
      "  __ Final __ \n",
      "-0.70711  |110>   0.70711  |111>   \n"
     ]
    },
    {
     "data": {
      "image/png": "[encoded data removed]",
      "text/plain": [
       "<Figure size 358.792x204.68 with 1 Axes>"
      ]
     },
     "execution_count": 28,
     "metadata": {},
     "output_type": "execute_result"
    }
   ],
   "source": [
    "q = QuantumRegister(3,name='q')\n",
    "ccnot_qc = QuantumCircuit(q,name='qc')\n",
    "\n",
    "ccnot_qc.x( q[0] )\n",
    "ccnot_qc.x( q[1] )\n",
    "ccnot_qc.h( q[2] )\n",
    "ccnot_qc.z( q[2] )\n",
    "print('  __ Initial __ ')\n",
    "print(oq.Wavefunction(ccnot_qc))\n",
    "\n",
    "ccnot_qc.ccx( q[0], q[1], q[2] )\n",
    "print('\\n  __ Final __ ')\n",
    "print(oq.Wavefunction(ccnot_qc))\n",
    "\n",
    "# circuit_drawer(ccnot_qc)\n",
    "ccnot_qc.draw(output=\"mpl\")"
   ]
  },
  {
   "cell_type": "markdown",
   "metadata": {},
   "source": [
    "![the-end](img/the-end.png \"the-end\")"
   ]
  }
 ],
 "metadata": {
  "kernelspec": {
   "display_name": "qcousins",
   "language": "python",
   "name": "qcousins"
  },
  "language_info": {
   "codemirror_mode": {
    "name": "ipython",
    "version": 3
   },
   "file_extension": ".py",
   "mimetype": "text/x-python",
   "name": "python",
   "nbconvert_exporter": "python",
   "pygments_lexer": "ipython3",
   "version": "3.7.1"
  }
 },
 "nbformat": 4,
 "nbformat_minor": 2
}
