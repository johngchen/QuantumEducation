{
 "cells": [
  {
   "cell_type": "markdown",
   "metadata": {},
   "source": [
    "# Quantum Computing Workshop Series \n",
    "\n",
    "> ## <font color=\"red\">For</font> <font color=\"blue\">Dev Days</font>\n",
    "- #### Hands-on Experiential Learning <font color=\"red\">for the Software Engineer</font>"
   ]
  },
  {
   "cell_type": "markdown",
   "metadata": {},
   "source": [
    "## What makes Quantum Computing Special?  \n",
    "\n",
    "> ## <font color=\"red\">ONE</font>:  <font color=\"blue\">Speedup</font>\n",
    "\n",
    "<BR>\n",
    "\n",
    "![quantum_specialness-banner](img/quantum_specialness-banner-P.png \"\")\n",
    "\n",
    "<BR>\n",
    "\n",
    "## Nothing like these in the classical (aka. binary) world !\n"
   ]
  },
  {
   "cell_type": "markdown",
   "metadata": {},
   "source": [
    "<BR>\n",
    "    \n",
    "# <font color=\"red\">Example</font>:   ONE \n",
    "\n",
    "<BR>\n",
    "\n",
    "# \"Quantum Advantage\" : <font color=\"blue\">Processing Speedup  <font color=\"red\">(4x)</font></font>\n",
    "\n",
    "<BR>\n"
   ]
  },
  {
   "cell_type": "markdown",
   "metadata": {},
   "source": [
    "> ##  **Click for larger image**\n",
    "<BR>\n",
    "    \n",
    "<a href=\"img/QC_Special-BSP.jpg\" STYLE=\"text-decoration: none\" target=\"_blank\"><img src=\"img/T-G_QuantumAdvantage.png\"></a>"
   ]
  },
  {
   "cell_type": "markdown",
   "metadata": {},
   "source": [
    "##  Boolean Satisfiability Problem: <font color=\"blue\">Of Kittens and Tigers</font>\n",
    "\n",
    "> **Definition**: Boolean satisfiability is the problem of <font color=\"red\">determining whether input values exist</font> that will satisify a given <font color=\"blue\">boolean statement</font>, a member of the **NP Complete Problem Class** - something solvalbe with quantum logic!\n",
    "\n",
    "\n",
    "<BR>\n",
    "\n",
    "![qpp-boxes](img/qpp-boxes.png \"qpp-boxes\")\n",
    "\n",
    "\n",
    "## <font color=\"blue\">Messages on the boxes</font>:\n",
    "\n",
    "> ### (1) At least one of these boxes contains a cute kitten\n",
    "> ### (2) The other contains a ferocious tiger\n",
    "> ### (3) The notes on the boxes are EITHER both true OR both false\n"
   ]
  },
  {
   "cell_type": "markdown",
   "metadata": {},
   "source": [
    "## <font color=\"blue\">The Digital Solution</font>:\n",
    "\n",
    "- (Required **<font color=\"red\">FOUR</font>** runs to determine the solution)\n",
    "\n",
    "![qpp-tiger-kitten-digital](img/qpp-tiger-kitten-digital.png \"\")\n",
    "\n",
    "> If you input a possibility for what’s in each box, you’ll get a ONE output **only if the possibility satisfies all the conditions** .\n",
    "\n",
    "> One needs to run **<font color=\"red\">each of the four possible configurations</font>** of kittens and tigers to discover out which one satisfies all the constraints, and then it'll be know which box to open.\n",
    "\n",
    "\n",
    "- 0 means tiger \n",
    "- 1 means kitten\n",
    "- For the note on **box A**, use an **<font color=\"red\">OR gate</font>**, indicating that this *constraint would only be satisfied* if box A **OR** box B contained a kitten.  \n",
    "- For the note on **box B**, use a **<font color=\"red\">NOT gate</font>**, indicating that this *constraint would only be satisfied* if box A did **NOT** contain a kitten.  \n",
    "- Finally, add an **<font color=\"red\">XNOR gate</font>** to the end, which would be *satisfied (output true) only if* the results of the other two gates were the **same as each other, both true or both false**.\n",
    "\n"
   ]
  },
  {
   "cell_type": "markdown",
   "metadata": {},
   "source": [
    "## <font color=\"red\">For Reference</font> <font color=\"blue\">: Digital Logic Gates and Truth Tables</font>\n",
    "\n",
    "|Gate|Gate|\n",
    "|----|----|\n",
    "| ![tt-not](img/tt-not.png \"\") | ![tt-nxor](img/tt-xor.png \"\") |\n",
    "| ![tt-and](img/tt-and.png \"\") | ![tt-or](img/tt-or.png \"\") |\n",
    "| ![tt-nand](img/tt-nand.png \"\") | ![tt-nor](img/tt-nor.png \"\") |\n"
   ]
  },
  {
   "cell_type": "markdown",
   "metadata": {},
   "source": [
    "## <font color=\"red\">For Reference</font> <font color=\"blue\">: Quantum \"Digital\" Logic Gates:</font>\n",
    "![digital-logic-gates-cnots](img/digital-logic-gates-cnots.png \"\")"
   ]
  },
  {
   "cell_type": "markdown",
   "metadata": {},
   "source": [
    "### <font color=\"red\">Example</font> : Boolean Satisfiability Problem: Of Kittens and Tigers using <font color=\"red\">CircuitVerse</font>.\n",
    "- Launch the CircuitVerse Environment and input the **FOUR** possible configurations to show which one solves the problem (and shows the correct box that the kitten is in)."
   ]
  },
  {
   "cell_type": "markdown",
   "metadata": {},
   "source": [
    "## <font color=\"red\">Digital</font> <font color=\"blue\">Boolean Satisfiability Problem: Of Kittens and Tigers</font>\n",
    "\n",
    "<img style=\"float: left;\" src=\"img/BSP-Tigers-Kittens-CircuitVerse.png\">\n",
    "\n",
    "<BR><BR><BR><BR><BR><BR><BR><BR><BR><BR>\n",
    "\n",
    "\n"
   ]
  },
  {
   "cell_type": "markdown",
   "metadata": {},
   "source": [
    "## <font color=\"red\">Quantum Speedup Example</font> <font color=\"blue\">: </font>\n",
    "<BR>\n",
    "\n",
    "<img src=\"img/caveat-sign.png\"  align=\"left\"/>\n",
    "\n",
    "<BR><BR><BR><BR><BR><BR><BR><BR>\n",
    "    \n",
    "> ## The device can only be run **<font color=\"red\">once</font>** !!!\n"
   ]
  },
  {
   "cell_type": "markdown",
   "metadata": {},
   "source": [
    "![qpp-tiger-kitten-quantum](img/qpp-tiger-kitten-quantum.png \"\")\n",
    "\n",
    "<BR>\n",
    "\n"
   ]
  },
  {
   "cell_type": "markdown",
   "metadata": {},
   "source": [
    "# <font color=\"red\">Why does this work</font>?\n",
    "\n",
    "> **Notice**: While the **Digital** solution to this Boolean Satisfiability Problem took **<font color=\"red\">FOUR</font>** runs to find the right set of input parameters that would could solve the problem (*assuming such a set existed*), the **Quantum** Solution only took  **<font color=\"red\">ONE</font>** run. \n",
    "\n",
    "- This is because when **each of the two qubits are put into **<font color=\"red\">superposition</font>**, and because of that they **<font color=\"red\">simultaneously</font>** provide the states for the **<font color=\"red\">FOUR</font>** possible (digital) input states to be **tested in parallel** in the quantum solution.\n",
    "\n"
   ]
  },
  {
   "cell_type": "code",
   "execution_count": null,
   "metadata": {},
   "outputs": [],
   "source": []
  },
  {
   "cell_type": "markdown",
   "metadata": {},
   "source": [
    "# <font color=\"blue\">Hands-on Exercise</font>: \n"
   ]
  },
  {
   "cell_type": "markdown",
   "metadata": {},
   "source": [
    "### <font color=\"red\">CircuitVerse Exercise</font>: (BSP Tigers and Kittens) \n",
    "- https://circuitverse.org/users/18385/projects/56831\n",
    "\n",
    "<BR>\n",
    "\n",
    "### <font color=\"red\">Of Kittens and Tigers Exercise</font> : Boolean Satisfiability Problem:  using the <font color=\"blue\">QCEngine</font>.\n",
    "- Run and re-run the algorithm and step through the output area in order to observe it's behavior and develop intuition.\n",
    "- Look particularly at the digital logic setup of the problem (*this is very important*) to get a feel for the solution design.\n",
    "- Then observe the application of Superposition and how it provides for four simultaneous states to be evalutated.\n",
    "- Peruse the application of the various phase logic processes and how they fit together\n",
    "- Notice the **uncompute** and **mirror** processes and understand what each does.\n",
    "\n",
    "\n",
    "\n",
    "> ### <font color=\"red\">Full Screen Mode</font>: (BSP Tigers and Kittens) \n",
    "- https://oreilly-qc.github.io?p=10-2\n",
    "\n",
    "- **Inline Mode is below**."
   ]
  },
  {
   "cell_type": "code",
   "execution_count": 11,
   "metadata": {},
   "outputs": [
    {
     "data": {
      "text/html": [
       "\n",
       "        <iframe\n",
       "            width=\"900\"\n",
       "            height=\"600\"\n",
       "            src=\"https://oreilly-qc.github.io?p=10-2\"\n",
       "            frameborder=\"0\"\n",
       "            allowfullscreen\n",
       "        ></iframe>\n",
       "        "
      ],
      "text/plain": [
       "<IPython.lib.display.IFrame at 0x18e62d6d9b0>"
      ]
     },
     "execution_count": 11,
     "metadata": {},
     "output_type": "execute_result"
    }
   ],
   "source": [
    "from IPython.display import IFrame\n",
    "IFrame(src='https://oreilly-qc.github.io?p=10-2', width=900, height=600)"
   ]
  },
  {
   "cell_type": "markdown",
   "metadata": {},
   "source": [
    "![the-end](img/the-end.png \"the-end\")"
   ]
  }
 ],
 "metadata": {
  "kernelspec": {
   "display_name": "qcousins",
   "language": "python",
   "name": "qcousins"
  },
  "language_info": {
   "codemirror_mode": {
    "name": "ipython",
    "version": 3
   },
   "file_extension": ".py",
   "mimetype": "text/x-python",
   "name": "python",
   "nbconvert_exporter": "python",
   "pygments_lexer": "ipython3",
   "version": "3.7.1"
  }
 },
 "nbformat": 4,
 "nbformat_minor": 2
}
