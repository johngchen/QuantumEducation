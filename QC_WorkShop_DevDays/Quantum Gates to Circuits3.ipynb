{
 "cells": [
  {
   "cell_type": "markdown",
   "metadata": {},
   "source": [
    "# Quantum Gates to Quantum Circuits <font color=\"red\">THREE</font>\n",
    "\n",
    "\n",
    "> ## <font color=\"red\">For</font> <font color=\"blue\">Dev Days</font>\n",
    "\n",
    "\n",
    "- #### Hands-on Experiential Learning <font color=\"red\">for the Software Engineer</font>\n"
   ]
  },
  {
   "cell_type": "markdown",
   "metadata": {},
   "source": [
    "![quirk-simulator](img/quirk-simulator1.png \"quirk-simulator\")\n",
    "\n"
   ]
  },
  {
   "cell_type": "markdown",
   "metadata": {},
   "source": [
    "\n",
    "> ### High Level Agenda (<font color=\"red\">*major sections*</font>): -  set of basic quantum circuit skills for the software engineer.\n",
    "\n",
    "<font color=\"blue\">*Mapping Boolean (Digital) Logic to Quantum Logic Operations*</font>\n",
    ">> 0. Observe: Basic Quantum Logic Operations can be built to be equivalents to their digital counterparts\n",
    ">> 0. <font color=\"red\">Exercise</font> : Using the QUIRK to explore the QLogic gates\n",
    "\n",
    "\n"
   ]
  },
  {
   "cell_type": "markdown",
   "metadata": {},
   "source": [
    "# Deep Dive #2 : - <font color=\"blue\">Mapping </font> <font color=\"red\"> Boolean (Digital) Logic</font> <font color=\"blue\">to <font color=\"red\">Quantum Logic</font> Operations </font>\n",
    "\n",
    "- Just as we can build sophisticated algorithms using digital logic, it is also possible to build them using quantum logic.\n",
    "\n",
    "<BR>\n",
    "\n",
    "![Classical_Quantum-LogicGates](img/Classical_Quantum-LogicGates1.png \"Classical_Quantum-LogicGates\")\n",
    "\n",
    "> ### Quantum circuits use the **building blocks** of quantum gates to construct quantum algorithms \n",
    "- It's critical to be exposed to </font> <font color=\"red\">**boolean logic**</font> (*both digital and quantum*). \n",
    "- Developing familiarity and an intuition are absolutely necessary to crafting quantum algorithms later on. \n",
    "- The following discussion *isn't meant to be exhaustive* but **only to provide a flavor** for the domain through the experience of exploration.\n",
    "\n",
    "\n",
    "\n",
    "#### REMINDER:\n",
    "- **Basic Digital Logic Truth Tables**: https://www.electronics-tutorials.ws/boolean/bool_7.html\n",
    "\n"
   ]
  },
  {
   "cell_type": "markdown",
   "metadata": {},
   "source": [
    "### <font color=\"red\">Refresher</font>: Basic Quantum Logic Operations can be built to be equivalents to their digital counterparts. \n",
    "- Do a quick exploration below, note how important the **<font color=\"red\">CNOT</font>** gate is to Quantum Computing."
   ]
  },
  {
   "cell_type": "markdown",
   "metadata": {},
   "source": [
    "![digital-logic-gates-cnots](img/digital-logic-gates-cnots.png \"\")\n",
    "\n",
    "|Gate|Gate|\n",
    "|----|----|\n",
    "| ![tt-not](img/tt-not.png \"\") | ![tt-nxor](img/tt-xor.png \"\") |\n",
    "| ![tt-and](img/tt-and.png \"\") | ![tt-or](img/tt-or.png \"\") |\n",
    "| ![tt-nand](img/tt-nand.png \"\") | ![tt-nor](img/tt-nor.png \"\") |\n"
   ]
  },
  {
   "cell_type": "code",
   "execution_count": null,
   "metadata": {},
   "outputs": [],
   "source": []
  },
  {
   "cell_type": "markdown",
   "metadata": {},
   "source": [
    "# <font color=\"blue\">Hands-on Exercise(s)</font>: "
   ]
  },
  {
   "cell_type": "markdown",
   "metadata": {},
   "source": [
    "## <font color=\"red\">Exercise</font> : Using the <font color=\"blue\">QUIRK</font> to explore the Quantum Logic gate(s)\n",
    "- Given the following list of Digital Logic Gates and their Quantum Equivalents, recreate them in QUIRK and test out their truth table to <font color=\"red\">prove</font> the behavior of the circuit is consistent with the gates logic.\n",
    "- The respective Truth tables are listed below.\n",
    "- Click on the KET input value for each qubit circuit line to vary inputs and observe the circuits behavior.\n",
    "\n",
    "**INVESTIGATION:**\n",
    "- Q: How has your conceptual understanding grown by examining the same idea using the QUIRK framework?\n",
    "- Q: How does the quantum logic constructs behave when non digital values are used as input?\n",
    "\n",
    "<BR>\n",
    "\n",
    "### QUIRK is <font color=\"red\">prepopulated</font> with the <font color=\"blue\">**\"OR\"**</font> gate\n",
    "\n",
    "\n",
    "<BR>\n",
    "    \n",
    "![digital-logic-gates-cnots](img/digital-logic-gates-cnots.png \"digital-logic-gates-cnots\")"
   ]
  },
  {
   "cell_type": "markdown",
   "metadata": {},
   "source": [
    "### <font color=\"red\">QUIRK</font> : <font color=\"red\">Pre</font>populated - Quantum <font color=\"blue\">\"OR\"</font>  Logic\n",
    "- Alter inputs on the Qubit line and observe results\n",
    "- **Remember:** 3rd line is the Output Qubit, first 2 lines are inputs.\n",
    "- **Notice** any phase shifts as certain input types get executed."
   ]
  },
  {
   "cell_type": "code",
   "execution_count": 2,
   "metadata": {
    "scrolled": false
   },
   "outputs": [
    {
     "data": {
      "text/html": [
       "\n",
       "        <iframe\n",
       "            width=\"900\"\n",
       "            height=\"600\"\n",
       "            src=\"https://algassert.com/quirk#circuit={%22cols%22:[[%22X%22,%22X%22],[%22%E2%80%A2%22,%22%E2%80%A2%22,%22X%22],[%22X%22,%22X%22,%22X%22]]}\"\n",
       "            frameborder=\"0\"\n",
       "            allowfullscreen\n",
       "        ></iframe>\n",
       "        "
      ],
      "text/plain": [
       "<IPython.lib.display.IFrame at 0x1732936a2b0>"
      ]
     },
     "execution_count": 2,
     "metadata": {},
     "output_type": "execute_result"
    }
   ],
   "source": [
    "# QUIRK (Quantum Curcuit Simulator) \n",
    "from IPython.display import IFrame\n",
    "\n",
    "IFrame(src='https://algassert.com/quirk#circuit={%22cols%22:[[%22X%22,%22X%22],[%22%E2%80%A2%22,%22%E2%80%A2%22,%22X%22],[%22X%22,%22X%22,%22X%22]]}', width=900, height=600)"
   ]
  },
  {
   "cell_type": "markdown",
   "metadata": {},
   "source": [
    "![the-end](img/the-end.png \"the-end\")"
   ]
  }
 ],
 "metadata": {
  "kernelspec": {
   "display_name": "qcousins",
   "language": "python",
   "name": "qcousins"
  },
  "language_info": {
   "codemirror_mode": {
    "name": "ipython",
    "version": 3
   },
   "file_extension": ".py",
   "mimetype": "text/x-python",
   "name": "python",
   "nbconvert_exporter": "python",
   "pygments_lexer": "ipython3",
   "version": "3.7.1"
  }
 },
 "nbformat": 4,
 "nbformat_minor": 2
}
