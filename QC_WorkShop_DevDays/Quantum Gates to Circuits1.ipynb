{
 "cells": [
  {
   "cell_type": "markdown",
   "metadata": {},
   "source": [
    "# Quantum Gates to Quantum Circuits <font color=\"red\">ONE</font>\n",
    "\n",
    "\n",
    "> ## <font color=\"red\">For</font> <font color=\"blue\">Dev Days</font>\n",
    "\n",
    "\n",
    "- #### Hands-on Experiential Learning <font color=\"red\">for the Software Engineer</font>\n"
   ]
  },
  {
   "cell_type": "markdown",
   "metadata": {},
   "source": [
    "![quirk-simulator](img/quirk-simulator1.png \"quirk-simulator\")\n",
    "\n"
   ]
  },
  {
   "cell_type": "markdown",
   "metadata": {},
   "source": [
    "\n",
    "> ### High Level Agenda (<font color=\"red\">*major sections*</font>): -  set of basic quantum circuit skills for the software engineer.\n",
    "1. <font color=\"blue\">*Developmental Detour - Digital : Gates, Circuits and Computer Architecture*</font>\n",
    ">> 0. The **NOT** GATE\n",
    ">> 0. The **AND** GATE\n",
    ">> 0. The **NAND** GATE\n",
    ">> 0. The **OR** GATE\n",
    ">> 0. The **NOR** GATE\n",
    ">> 0. The **XOR** GATE\n",
    ">> 0. The **HALF ADDER**\n",
    ">> 0. The **FULL ADDER**\n",
    ">> 0. The **FULL ADDER / SUBTRACTOR**\n",
    ">> 0. The **SIMPLE COMPUTER ARCHITECTURE**\n",
    "2. <font color=\"blue\">*Multi Qubit Gates*</font>\n",
    ">> 0. #### NOT, <font color=\"red\">C</font>NOT, <font color=\"red\">CC</font>NOT Gates\n",
    ">>> 0. <font color=\"red\">Exercise</font> : Using the QCEngine to explore NOT / CNOT Gates\n",
    ">>> 0. Exploration: Use the QUIRK Simulation to explore a CNOT Gate\n",
    ">>> 0. <font color=\"red\">Exercise</font> : Using the QUIRK Simulation to explore a CNOT Gate\n",
    ">>> 0. <font color=\"red\">Exercise</font> : Using the QUIRK Simulation to explore a C_CNOT Gate\n",
    "\n"
   ]
  },
  {
   "cell_type": "markdown",
   "metadata": {},
   "source": [
    "## <font color=\"red\">Developmental Detour</Font> : <font color=\"blue\">Digital Gates, Circuits and Computer Architecture\n",
    "\n",
    "\n",
    "- There is a **progression** from **boolean logic**, to **logic gate construction**, to **simple and sophisticated circuit design** that is actually **algorithm design in a hardware vehicle** - (at the moment) this is *very much like algorithm design of quantum computing*, so it's **worth getting a brief exposure to**.\n",
    "- We'll be leveraging the Open Source site **CircuitVerse** for illustrative purposes.\n"
   ]
  },
  {
   "cell_type": "markdown",
   "metadata": {},
   "source": [
    "## <font color=\"red\">For Reference</font> <font color=\"blue\">: Digital Logic Gates and Truth Tables</font>\n",
    "\n",
    "|Gate|Gate|\n",
    "|----|----|\n",
    "| ![tt-not](img/tt-not.png \"\") | ![tt-nxor](img/tt-xor.png \"\") |\n",
    "| ![tt-and](img/tt-and.png \"\") | ![tt-or](img/tt-or.png \"\") |\n",
    "| ![tt-nand](img/tt-nand.png \"\") | ![tt-nor](img/tt-nor.png \"\") |\n"
   ]
  },
  {
   "cell_type": "code",
   "execution_count": null,
   "metadata": {},
   "outputs": [],
   "source": []
  },
  {
   "cell_type": "markdown",
   "metadata": {},
   "source": [
    "## <font color=\"red\">Spoiler Alert - </font> <font color=\"blue\">: Quantum \"Digital\" Logic Gates:</font>\n",
    "\n",
    "- ### Using <font color=\"blue\">Quantum</font> <font color=\"red\">Multi Qubit </font> Gates\n",
    "\n",
    "<BR>\n",
    "\n",
    "![digital-logic-gates-cnots](img/digital-logic-gates-cnots.png \"\")"
   ]
  },
  {
   "cell_type": "code",
   "execution_count": null,
   "metadata": {},
   "outputs": [],
   "source": []
  },
  {
   "cell_type": "markdown",
   "metadata": {},
   "source": [
    "## <font color=\"red\">For Reference and Exposure</font> <font color=\"blue\">: Circuitverse </font>\n",
    "\n",
    "<BR>\n",
    "\n",
    "![circuitverse-banner](img/circuitverse-banner.png \"circuitverse-banner\")\n",
    "\n",
    "> ### **SITE**: https://circuitverse.org/\n",
    "> ### **Learn**: https://learn.circuitverse.org/\n",
    "> ### **Gates**: https://learn.circuitverse.org/docs/gates.html\n",
    "> ### **Circuits**: https://qiskit.org/textbook/ch-states/atoms-computation.html\n"
   ]
  },
  {
   "cell_type": "markdown",
   "metadata": {},
   "source": [
    "## <font color=\"blue\">The HALF ADDER</font> \n",
    "\n",
    "<img style=\"float: left;\" src=\"img/circuitverse-halfadder.png\">\n",
    "\n",
    "<BR><BR><BR><BR><BR><BR><BR><BR><BR><BR>\n",
    "\n",
    "\n",
    "> ### <font color=\"red\">CircuitVerse Example</font>: (HALF ADDER) \n",
    "- https://circuitverse.org/users/12956/projects/37909"
   ]
  },
  {
   "cell_type": "markdown",
   "metadata": {},
   "source": [
    "## <font color=\"blue\">The FULL ADDER</font>\n",
    "\n",
    "<img style=\"float: left;\" src=\"img/circuitverse-full-adder.png\">\n",
    "\n",
    "<BR><BR><BR><BR><BR><BR><BR><BR><BR><BR>\n",
    "\n",
    "\n",
    "> ### <font color=\"red\">CircuitVerse Example</font>: (FULL ADDER) \n",
    "- https://circuitverse.org/users/2411/projects/5605"
   ]
  },
  {
   "cell_type": "markdown",
   "metadata": {},
   "source": [
    "## <font color=\"blue\">The FULL ADDER / SUBTRACTOR</font>\n",
    "\n",
    "### <font color=\"red\">NOTE</font>: *Pay attention to this as we'll be implementing this using Quantum Logic later!*\n",
    "\n",
    "\n",
    "<img style=\"float: left;\" src=\"img/circuitverse-full-adder-subtractor.png\">\n",
    "\n",
    "<BR><BR><BR><BR><BR><BR><BR><BR><BR><BR>\n",
    "\n",
    "\n",
    "> ### <font color=\"red\">CircuitVerse Example</font>: (FULL ADDER / SUBTRACTOR) \n",
    "- https://circuitverse.org/users/479/projects/2018"
   ]
  },
  {
   "cell_type": "markdown",
   "metadata": {},
   "source": [
    "## <font color=\"blue\">The SIMPLE COMPUTER ARCHITECTURE</font>\n",
    "\n",
    "<img style=\"float: left;\" src=\"img/circuitverse-simple-computer.png\">\n",
    "\n",
    "<BR><BR><BR><BR><BR><BR><BR><BR><BR><BR>\n",
    "<BR><BR><BR><BR><BR><BR><BR><BR><BR><BR>\n",
    "\n",
    "> ### <font color=\"red\">CircuitVerse Example</font>: (SIMPLE COMPUTER ARCHITECTURE) \n",
    "- https://circuitverse.org/users/3464/projects/16521"
   ]
  },
  {
   "cell_type": "code",
   "execution_count": null,
   "metadata": {},
   "outputs": [],
   "source": []
  },
  {
   "cell_type": "markdown",
   "metadata": {},
   "source": [
    "  \n",
    "# Deep Dive #1 : - <font color=\"blue\">Quantum</font> <font color=\"red\">Multi Qubit Gates</font>\n",
    "\n",
    "> Multi Qubits manipulation is done w/specialized Quantum Gates - to gain an understanding and intuition of them are critical to the quantum computing space. By multi-qubit operations we mean ones that require more than one qubit to operate.\n",
    "\n"
   ]
  },
  {
   "cell_type": "markdown",
   "metadata": {},
   "source": [
    "## The <font color=\"red\">C</font>NOT Gate, the Reverse <font color=\"red\">C</font>NOT Gate, and the <font color=\"red\">CC</font>NOT gate.\n",
    "\n",
    "> - **<font color=\"red\">Reference</font>:** <a href=\"Basic Gates Provided by Qiskit.ipynb\" target=\"_blank\"><font color=\"blue\">Basic Gates Provided by Qiskit</font></a> \n",
    "\n",
    "<BR>\n",
    "\n",
    "\n",
    "- #### An **<font color=\"red\" size=\"5\">“if”</font>** programming construct, but only if a condition qubit has the value **<font color=\"red\" size=\"5\">1</font>**.\n",
    "- #### The essential operation of CNOT is the same as that of NOT, only more selective.\n",
    "- #### A <font color=\"red\">VERY</font> important element of <font color=\"blue\">quantum logic</font> moving forward.\n",
    "\n",
    "<BR>\n",
    "\n",
    "\n",
    "    \n",
    "    \n",
    "## <font color=\"red\" size=\"5\">C</font><font color=\"blue\">NOT Gate </font>   \n",
    "\n",
    "<img style=\"float: left;\" src=\"img/qgate-cnot1.png\">\n",
    "\n",
    "- The CNOT gate operates on two qubits and can be thought of as an **“if”** programming construct with the following condition: **“Apply the <font color=\"red\">NOT</font> operation to a target qubit, but <font color=\"red\">only if</font> a condition qubit has the value <font color=\"red\">1</font>.”** The circuit symbol used for CNOT shows this logic by connecting two qubits with a line. A **filled dot** represents the **control qubit**, while a **NOT symbol** shows the **target qubit** to be conditionally operated on.\n",
    "\n",
    "\n",
    "- **Reversibility**: Like the NOT operation, CNOT is its own inverse — applying the CNOT operation twice will return a multi-qubit register to its initial state.\n",
    "\n",
    "<BR><BR>\n",
    "\n",
    "> ### <font color=\"red\" size=\"5\">The Fundamentals </font>:\n",
    "- **Binary Numbers** and the **Quantum Circuit** \n",
    "\n",
    "\n",
    "The <font color=\"blue\">arrows</font> in figure below show which operator pairs have their circles *swapped* in circle notation. We can see that the *essential operation* of **CNOT** is the **same** as that of **NOT**, only **more <font color=\"red\">selective</font>** — applying the NOT operation only to values whose **binary representations** (in this example) have a <font color=\"red\">1</font> in the <font color=\"blue\">second bit</font> - (0<font color=\"red\">1</font>0=<font color=\"red\">2</font>, 0<font color=\"red\">1</font>1=<font color=\"red\">3</font>, 1<font color=\"red\">1</font>0=<font color=\"red\">6</font>, and 1<font color=\"red\">1</font>1=<font color=\"red\">7</font>).\n",
    "\n",
    "\n",
    "<img style=\"float: left;\" src=\"img/binary-table-0-7_excel.png\">\n",
    "\n",
    "![cnot-ccnot-qcengine-circuit](img/cnot-ccnot-qcengine-circuit.png \"\")\n",
    "\n",
    "![cnot-vs-not-illustration](img/cnot-vs-not-illustration1.png \"\")\n",
    "\n",
    "\n",
    "<BR>\n",
    "    \n",
    "## <font color=\"blue\">Reverse</font> <font color=\"red\" size=\"5\">C</font><font color=\"blue\">NOT Gate </font>   \n",
    "<img style=\"float: left;\" src=\"img/qgate-reverse-cnot.png\">   \n",
    "    \n",
    "- The **Reverse CNOT gate** is strictly a reversal of the connectors and location of the **control** and **X** gate.    \n",
    "\n",
    "<BR><BR><BR><BR> <BR><BR><BR><BR> \n",
    "## <font color=\"red\">CC</font><font color=\"blue\">NOT Gate </font>      \n",
    "<img style=\"float: left;\" src=\"img/qgate-ccnot.png\">\n",
    "    \n",
    "    \n",
    "- The <font color=\"red\">C</font><font color=\"blue\">CNOT Gate </font> (quantum Toffoli or **CCX**) is a double control gate operating on three qubits. If the states of the first two qubits are **|1>** then it applies <font color=\"red\">X</font> to the third. Otherwise it is **ID** (*which does nothing*) on the third. In all cases it is **ID** for the first two qubits.\n",
    "\n",
    "\n"
   ]
  },
  {
   "cell_type": "markdown",
   "metadata": {},
   "source": [
    "## <font color=\"red\">Helpful Review: <font color=\"blue\">Computational Basis</font> </font>\n",
    "\n",
    "\n",
    "- There are more inputs than just <font size=\"5\">**(1/0)**</font> that can be used, there are also <font size=\"5\">**(+/-), (i/-i)**</font>.\n",
    "\n",
    "![vector-basis-space](img/vector-basis-space.png \"\")"
   ]
  },
  {
   "cell_type": "code",
   "execution_count": null,
   "metadata": {},
   "outputs": [],
   "source": []
  },
  {
   "cell_type": "markdown",
   "metadata": {},
   "source": [
    "# <font color=\"blue\">Hands-on Exercise(s)</font>: "
   ]
  },
  {
   "cell_type": "markdown",
   "metadata": {},
   "source": [
    "### <font color=\"red\">Exploration</font>: Use the <font color=\"blue\">QUIRK</font> Simulation to explore a <font color=\"red\">C</font>NOT Gate."
   ]
  },
  {
   "cell_type": "markdown",
   "metadata": {},
   "source": [
    "### QUIRK Circuit : CNOT <font color=\"red\">OFF</font>\n",
    "\n",
    "> Notice the circuit is off, and the amplitude of Decimal Zero is at 100%. when the input to qubit #1 is zero.\n",
    "\n",
    "![quirk-cnot-circuit-off](img/quirk-cnot-circuit-off.png \"quirk-cnot-circuit-off\")\n",
    "\n",
    "\n",
    "### QUIRK Circuit : CNOT <font color=\"red\">ON</font>\n",
    "\n",
    "> Notice the circuit is on, and the amplitude of Decimal Three is at 100%. when the input to qubit #1 is One.\n",
    "\n",
    "![quirk-cnot-circuit-on](img/quirk-cnot-circuit-on.png \"quirk-cnot-circuit-on\")\n"
   ]
  },
  {
   "cell_type": "markdown",
   "metadata": {},
   "source": [
    "### <font color=\"red\">Exercise: <font color=\"blue\">Computational Basis</font> </font> : Using the <font color=\"blue\">QUIRK</font> Simulation to explore a <font color=\"red\">C</font>NOT Gate\n",
    "\n",
    "> Change the input to Qubit #1 by clicking on it (you'll cycle through all of the different bases) and notice how the rest of the circuit changes.\n",
    "- Try (a) reversing the gate and (b) executing a reversal of the CNOT gate itself.\n",
    "\n",
    "\n",
    "> **<font color=\"red\">Q</font>**: What happens when you **keep clicking** on the input parameter for any arbitrary Qubit?"
   ]
  },
  {
   "cell_type": "code",
   "execution_count": 2,
   "metadata": {},
   "outputs": [
    {
     "data": {
      "text/html": [
       "\n",
       "        <iframe\n",
       "            width=\"900\"\n",
       "            height=\"600\"\n",
       "            src=\"https://algassert.com/quirk#circuit={%22cols%22:[[%22%E2%80%A2%22,%22X%22]],%22init%22:[1]}\"\n",
       "            frameborder=\"0\"\n",
       "            allowfullscreen\n",
       "        ></iframe>\n",
       "        "
      ],
      "text/plain": [
       "<IPython.lib.display.IFrame at 0x269315bd390>"
      ]
     },
     "execution_count": 2,
     "metadata": {},
     "output_type": "execute_result"
    }
   ],
   "source": [
    "# QUIRK (Quantum Curcuit Simulator) \n",
    "from IPython.display import IFrame\n",
    "\n",
    "IFrame(src='https://algassert.com/quirk#circuit={%22cols%22:[[%22%E2%80%A2%22,%22X%22]],%22init%22:[1]}', width=900, height=600)"
   ]
  },
  {
   "cell_type": "markdown",
   "metadata": {},
   "source": [
    "### <font color=\"red\">Exercise</font> : Using the <font color=\"blue\">QUIRK</font> Simulation to explore a <font color=\"red\">CC</font>NOT Gate\n",
    "\n",
    "> Change the input to **Qubit #1** and **Qubit #2** by clicking on it (you'll cycle through all of the different bases) and *notice* how the rest of the circuit changes.\n"
   ]
  },
  {
   "cell_type": "code",
   "execution_count": 1,
   "metadata": {
    "scrolled": false
   },
   "outputs": [
    {
     "data": {
      "text/html": [
       "\n",
       "        <iframe\n",
       "            width=\"900\"\n",
       "            height=\"600\"\n",
       "            src=\"https://algassert.com/quirk#circuit={%22cols%22:[[%22%E2%80%A2%22,%22%E2%80%A2%22,%22X%22]],%22init%22:[1,1]}\"\n",
       "            frameborder=\"0\"\n",
       "            allowfullscreen\n",
       "        ></iframe>\n",
       "        "
      ],
      "text/plain": [
       "<IPython.lib.display.IFrame at 0x26931593b00>"
      ]
     },
     "execution_count": 1,
     "metadata": {},
     "output_type": "execute_result"
    }
   ],
   "source": [
    "# QUIRK (Quantum Curcuit Simulator) \n",
    "from IPython.display import IFrame\n",
    "\n",
    "IFrame(src='https://algassert.com/quirk#circuit={%22cols%22:[[%22%E2%80%A2%22,%22%E2%80%A2%22,%22X%22]],%22init%22:[1,1]}', width=900, height=600)"
   ]
  },
  {
   "cell_type": "markdown",
   "metadata": {},
   "source": [
    "![the-end](img/the-end.png \"the-end\")"
   ]
  }
 ],
 "metadata": {
  "kernelspec": {
   "display_name": "qcousins",
   "language": "python",
   "name": "qcousins"
  },
  "language_info": {
   "codemirror_mode": {
    "name": "ipython",
    "version": 3
   },
   "file_extension": ".py",
   "mimetype": "text/x-python",
   "name": "python",
   "nbconvert_exporter": "python",
   "pygments_lexer": "ipython3",
   "version": "3.7.1"
  }
 },
 "nbformat": 4,
 "nbformat_minor": 2
}
