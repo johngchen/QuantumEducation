{
 "cells": [
  {
   "cell_type": "markdown",
   "metadata": {},
   "source": [
    "# The Anatomy of a Qubit \n",
    "\n",
    "> ## <font color=\"red\">For</font> <font color=\"blue\">Dev Days</font>\n",
    "\n",
    "- #### Hands-on Experiential Learning <font color=\"red\">for the Software Engineer</font>"
   ]
  },
  {
   "cell_type": "markdown",
   "metadata": {},
   "source": [
    "![Qubit - Bloch Sphere](img/Anatomy_qubit-banner-modern.png \"Qubit - Bloch Sphere\")\n"
   ]
  },
  {
   "cell_type": "markdown",
   "metadata": {},
   "source": [
    "## What you will be exposed to - High level: \n",
    "\n",
    "\n",
    "- **Software engineers in the Quantum Computing space** need to **know their way around a Qubit** - that means *developing intuition and proficiencies* around: the structure of a Qubit / Bloch Sphere, the concepts of Amplitudes, Phases, and Magnitudes - importantly the concept of rotations of the point on the sphere of a Qubit / Bloch Sphere. \n",
    "- Given the above, there are a host of technical concepts that need to be **<font color=\"red\">understood experientially</font>**, like the wave function, and interference.\n",
    "- There are also various useful hands-on vehicles for illustrating / learning those concepts - we'll intentionally employ a vendor / framework agnostic approach to focus on the delivery of concept understanding and intuition procurement as the main value-add.\n",
    "\n",
    "> ### High Level Agenda (<font color=\"red\">*major sections*</font>): - a first set of basic skills for the software engineer.\n",
    "0. <font color=\"blue\">*Foundations (*Minimalistic*)*</font> <font color=\"red\">*- one of the most important sections.*</font>\n",
    ">> 0. Bloch Sphere Definition\n",
    ">> 0. Radians\n",
    ">> 0. The Wave Function\n",
    ">> 0. Interactive Wave Example\n",
    ">> 0. Definitions: Points on the Bloch Sphere\n",
    ">> 0. Definitions: Amplitudes, Phases and Magnitudes\n",
    ">> 0. Amplitudes - Why are they so important?\n",
    ">> 0. Detailed Examination of Amplitudes\n",
    ">> 0. Benefits of Amplitudes and Phases\n",
    ">> 0. Quantum Interference\n",
    ">> 0. Interactive Interference Example\n",
    ">> 0. Qubit / Bloch Sphere Basis Elements\n",
    ">> 0. Drive-by: Complex Numbers\n",
    ">> 0. Drive-by: Complex Numbers have Phases\n",
    ">> 0. Explanation: Circle Notation\n",
    "\n"
   ]
  },
  {
   "cell_type": "code",
   "execution_count": null,
   "metadata": {},
   "outputs": [],
   "source": []
  },
  {
   "cell_type": "markdown",
   "metadata": {},
   "source": [
    "## <font color=\"red\">Developmental Detour</Font> : <font color=\"blue\">The Bloch Sphere</Font>"
   ]
  },
  {
   "cell_type": "markdown",
   "metadata": {},
   "source": [
    "## Bloch Sphere Definition\n",
    "\n",
    "    \n",
    "> **<font color=\"red\">The Bloch Sphere</font>** is a **geometric representation** of **Qubit states** as **points** on the **surface of a sphere**.\n",
    "- https://en.wikipedia.org/wiki/Bloch_sphere\n",
    "\n",
    "\n",
    "    \n",
    "![naked-qubit](img/naked-qubit.png \"\")\n",
    "\n",
    "<BR>\n",
    "\n",
    "![bs-ex1-comparison](img/bs-ex1-comparison-1.png \"bs-ex1-comparison\")\n",
    "\n",
    "<BR>\n",
    "<BR>\n",
    "\n",
    "- **<font color=\"red\">Points on the Qubit </font>** is represented by the (*greek letter*) **<font color=\"blue\" size=\"5\">Psi &psi;</font>** of the sphere.\n",
    "- **<font color=\"red\">Magnitudes</font>** is represented by the angle (*greek letter*) **<font color=\"blue\" size=\"5\">\"Theta\" θ</font>** - on the **Vertical Plane (or Longitude)** of the sphere : **<font color=\"red\">X</font>** axis and **<font color=\"red\">Y</font>** axis rotations.\n",
    "- **<font color=\"red\">Relative Phases</font>** is represented by the angle (*greek letter*) **<font color=\"blue\" size=\"5\">\"Phi\" &phi;**</font> - on the **Horizontal Plane (or Latitude)** of the sphere: **<font color=\"red\">Z</font>** axis rotations.\n",
    "\n",
    "\n",
    "> Any **point** on the **Bloch Sphere** is determined by a **formula** that contains (among other things, like **1 and 0** ), **<font color=\"red\">Amplitudes</font>** (**<font color=\"blue\" size=\"5\">α</font> (alpha), and <font color=\"blue\" size=\"5\">β</font> (beta)**  - *probabilities upon measurement*) and <font color=\"blue\" size=\"5\">φ</font> **<font color=\"red\">Phases</font>** (*interference*). \n",
    "- <font color=\"blue\">**|0>**</font> : **ZERO KET** - Vector **Zero**\n",
    "- <font color=\"red\">**|1>**</font> : **ONE KET** - Vector **One**\n",
    "- <font color=\"green\">**|ψ>**</font> : **PSI KET** - Vector **Psi**\n",
    "\n",
    "\n",
    "\n",
    "> **NOTE:** - where **(0/1, -i/+i, +/-, X,Y,Z)** are on the Sphere\n",
    "- <font color=\"blue\">(0/1)</font> on the **<font color=\"red\">Z</font>** axis : rotates on the **Horizontal Plane (or Latitude)** of the sphere - <font color=\"red\">Phase</font> Rotation.\n",
    "- <font color=\"blue\">(+/-)</font> on the **<font color=\"red\">X</font>** axis : rotates on the **Vertical Plane (or Longitude)** of the sphere - <font color=\"red\">Magnitude</font> Rotation.\n",
    "- <font color=\"blue\">(i/-i)</font> on the **<font color=\"red\">Y</font>** axis : rotates on the **Vertical Plane (or Longitude)** of the sphere - <font color=\"red\">Magnitude</font> Rotation.\n",
    "\n",
    "> **Mathematical Basis:**\n",
    "- **Computational (<font color=\"red\">Z</font>)**\n",
    "- **Hadamard (<font color=\"red\">X</font>)**\n",
    "- **Circular (<font color=\"red\">Y</font>)**\n",
    "\n",
    "> **NOTE:**\n",
    "- **<font color=\"red\">Magnitudes</font>** and - **<font color=\"red\">Relative Phase</font>** are a **really big deal** in Quantum Computing, pay special attention to them!\n",
    "- You'll see these highlighted when **Circle Plots** are introduced (they are used often)."
   ]
  },
  {
   "cell_type": "code",
   "execution_count": null,
   "metadata": {},
   "outputs": [],
   "source": []
  },
  {
   "cell_type": "markdown",
   "metadata": {},
   "source": [
    "## <font color=\"red\">Developmental Detour</Font> : <font color=\"blue\">Radians</Font>"
   ]
  },
  {
   "cell_type": "markdown",
   "metadata": {},
   "source": [
    "## Radians\n",
    "\n",
    "> Radians are a **central metric** when performing Qubit **rotations**, therefore they are *important to understand and develop an intuition about*.\n",
    "- Some Tools use Degrees - we'll use **both** to establish intuition toward the concept \"Rotation\".\n",
    "\n",
    "When talking about quantum computing, **rotations are measured in radians**. Radians are simply a way of measuring angles in terms of **π** rather than in degrees – for example, there are <font color=\"red\">2π radians</font> in a full circle. \n",
    "\n",
    "> Angles are traditionally measured **counter-clockwise**. The diagram below shows the key concepts:\n",
    "\n",
    "![circle-radians](img/circle_radians.gif \"circle-radians\")\n",
    "\n",
    "> ### <font color=\"red\">If it helps</font>: remember that Pi radians is equal to 180 degrees \n",
    "- The below link is provided as a reference for the conversions.\n",
    "\n",
    "https://www.quia.com/jg/321176list.html"
   ]
  },
  {
   "cell_type": "code",
   "execution_count": null,
   "metadata": {},
   "outputs": [],
   "source": []
  },
  {
   "cell_type": "markdown",
   "metadata": {},
   "source": [
    "## <font color=\"red\">Developmental Detour</Font> : <font color=\"blue\">The Wave Function</Font>"
   ]
  },
  {
   "cell_type": "markdown",
   "metadata": {},
   "source": [
    "## The Wave Function\n",
    "\n",
    "> The **Wave Function** is central to Quantum Computing so **there is a need to grasp it conceptually**.\n",
    "- **<font color=\"red\">However</font>**, the term <font color=\"blue\">**“wave”**</font> is used in quantum physics **only used as an analogy** to the classical waves that we see in everyday life; quantum waves are **<font color=\"red\">not</font>** at all the same thing as everyday waves.\n",
    "\n",
    "#### Difference between a classical wave and a quantum wave : <font color=\"red\">Interference</font>.\n",
    "\n",
    "> The below animation illustrates the **key difference** between quantum waves and classical types - **<font color=\"red\">\"Interference\"</font>**.\n",
    "\n",
    "> Comparison of classical and quantum harmonic oscillator conceptions. **The two processes differ greatly.** \n",
    "\n",
    "- The classical process (A–B) is represented as the motion of a particle along a trajectory. The quantum process (C–H) has no such trajectory. Rather, it is represented as a wave; here, the vertical axis shows the **real part** (<font color=\"blue\">**blue**</font>) and **imaginary part** (<font color=\"red\">**red**</font>) of the wave function. Panels (C–F) show four different **standing-wave** solutions of the Schrödinger equation. **Panels (G–H)** further show two different wave functions that are solutions of the **Schrödinger equation** but not standing waves.\n",
    "\n",
    "\n",
    "- https://en.wikipedia.org/wiki/Wave_function\n",
    "\n",
    "\n",
    "<table><tr><td><img src='img/QuantumHarmonicOscillatorAnimation.gif'></td><td><img src='img/wave-interference.png'></td></tr></table>\n",
    "\n",
    "\n",
    "> **<font color=\"red\">Note:</font>** - Wave **Interference** can be either **Constructive** or **Destructive**."
   ]
  },
  {
   "cell_type": "markdown",
   "metadata": {},
   "source": [
    "### Explore waves using the Phet Interactive Wave Simulator"
   ]
  },
  {
   "cell_type": "code",
   "execution_count": 6,
   "metadata": {
    "scrolled": false
   },
   "outputs": [
    {
     "data": {
      "text/html": [
       "\n",
       "        <iframe\n",
       "            width=\"900\"\n",
       "            height=\"900\"\n",
       "            src=\"https://phet.colorado.edu/sims/html/waves-intro/latest/waves-intro_en.html\"\n",
       "            frameborder=\"0\"\n",
       "            allowfullscreen\n",
       "        ></iframe>\n",
       "        "
      ],
      "text/plain": [
       "<IPython.lib.display.IFrame at 0x1e1726db710>"
      ]
     },
     "execution_count": 6,
     "metadata": {},
     "output_type": "execute_result"
    }
   ],
   "source": [
    "from IPython.display import IFrame\n",
    "IFrame(src='https://phet.colorado.edu/sims/html/waves-intro/latest/waves-intro_en.html', width=900, height=900)"
   ]
  },
  {
   "cell_type": "code",
   "execution_count": null,
   "metadata": {},
   "outputs": [],
   "source": []
  },
  {
   "cell_type": "markdown",
   "metadata": {},
   "source": [
    "## <font color=\"red\">Developmental Detour</Font> : <font color=\"blue\">Points on the Bloch Sphere (and equations)</Font>"
   ]
  },
  {
   "cell_type": "markdown",
   "metadata": {},
   "source": [
    "## Definitions: Points on the Bloch Sphere (*and equations*)\n",
    "\n",
    "> **Points on the Bloch SPhere** are central to **<font color=\"red\">all</font>** of quantum computing and **the manipulation of them <font color=\"red\">must</font> be mastered**.\n",
    "\n",
    "Any **point** on the **Bloch Sphere** is determined by a **formula** that contains (among other things, like **1 and 0** ), **<font color=\"red\">Amplitudes</font>** (**<font color=\"blue\" size=\"5\">α</font> (alpha), and <font color=\"blue\" size=\"5\">β</font> (beta)**  - *probabilities upon measurement*) and <font color=\"blue\" size=\"5\">φ</font> **<font color=\"red\">Phases</font>** (*interference*). \n",
    "- <font color=\"blue\">**|0>**</font> : **ZERO KET** - Vector **Zero**\n",
    "- <font color=\"blue\">**|1>**</font> : **ONE KET** - Vector **One**\n",
    "- <font color=\"blue\">**|ψ>**</font> : **PSI KET** - Vector **Psi**\n",
    "\n",
    "\n",
    "- **<font color=\"red\">Points on the Qubit </font>** (sphere) is represented by the (*greek letter*) **<font color=\"blue\" size=\"5\">Psi &psi;</font>**.\n",
    "\n",
    "> ### (1) The **basic formula** is : <font color=\"blue\">**|ψ> = α|0> + β|1>**</font> .\n",
    "\n",
    "> ### (2) The more **elaborate general equation** is: <font color=\"blue\">**|ψ> = r<sub>1</sub>|0> + r<sub>2</sub>e<sup>iφ</sup> |1>**</font> .\n",
    "- **AMPLITUDES** =  (**<font color=\"blue\" size=\"4\">r1</font>** and **<font color=\"blue\" size=\"4\">r2</font>** are the <font color=\"red\">magnitudes</font>, and **<font color=\"blue\" size=\"4\">φ</font>** is the <font color=\"red\">relative phase</font>.)\n",
    "- There is **<font color=\"red\">no</font>** Phase Value associated witht **|0> Zero** Ket.\n",
    "\n",
    "> ### (3) **<font color=\"red\">However</font>** - you will **also** see this representation: \n",
    "\n",
    "![Point on Bloch Sphere](img/PointOnBS-Equation.png \"Point on Bloch Sphere\")\n",
    "\n"
   ]
  },
  {
   "cell_type": "code",
   "execution_count": null,
   "metadata": {},
   "outputs": [],
   "source": []
  },
  {
   "cell_type": "markdown",
   "metadata": {},
   "source": [
    "## <font color=\"red\">Developmental Detour</Font> : <font color=\"blue\">Amplitudes, Phases and Magnitudes</Font>"
   ]
  },
  {
   "cell_type": "markdown",
   "metadata": {},
   "source": [
    "## Definitions:  Amplitudes, Phases and Magnitudes.\n",
    "\n",
    "> Amplitudes and Phases are a critical consideration in quantum computing and **power the computational ability** of the qubit.\n",
    "\n",
    "**Amplitudes** and **Phases** are important parts of the \"Wave Function\" (used when putting a Qubit in **Superposition** ):\n",
    "\n",
    "![wave-function](img/wave-function.png \"\")\n",
    "\n",
    "\n",
    "The illustration above (the **sinusoidal wave**) shows the *basic concepts*: we have a **<font color=\"red\">wave</font>** – a kind of cyclic thing – with a <font color=\"blue\">**Wavelength**</font> of **<font color=\"red\">λ</font>**, an <font color=\"blue\">**Amplitudes**</font> (or height) **<font color=\"red\">A0</font>**, and a <font color=\"blue\">**Phase Shift**</font> of <font color=\"red\">**φ**</font>."
   ]
  },
  {
   "cell_type": "markdown",
   "metadata": {},
   "source": [
    "## <font color=\"blue\">**Amplitudes**</font> - <font color=\"red\">Why are they so important?</font>\n",
    "\n",
    "- **<font color=\"red\">Note</font>**: **The entire hope** for getting a **speed advantage** from a quantum computer is to **exploit** the way that these amplitudes work **differently** than probabilities - the main thing that amplitudes **can do** (that probabilities **can't do** ) is they can **<font color=\"red\" size=\"4\">\"interfere\"</font>** with each other.\n",
    "\n",
    "\n",
    "### Definitions:\n",
    "\n",
    "- **<font color=\"red\" size=\"4\">Amplitudes</font>** are comprised of **<font color=\"blue\">Magnitudes</font>** and **<font color=\"blue\">Phases</font>**.\n",
    "\n",
    "\n",
    "- **<font color=\"red\" size=\"4\">Magnitudes</font>** -  an attribute that provides the **probability** that the qubit will return either **Zero** or **One** when measured.\n",
    ">> is represented by the angle (*greek letter*) **<font color=\"blue\" size=\"5\">\"Theta\" θ</font>** - on the **Vertical Plane (or Longitude)** of the sphere : **<font color=\"red\">X</font>** axis and **<font color=\"red\">Y</font>** axis rotations.\n",
    "\n",
    "\n",
    "- **<font color=\"red\" size=\"4\">Phases</font>** - an attribute that provides the ability to **indirectly affect the chances** that different values will be returned once the qubit is measured. \n",
    ">> is represented by the angle (*greek letter*) **<font color=\"blue\" size=\"5\">\"Phi\" &phi;**</font> - on the **Horizontal Plane (or Latitude)** of the sphere: **<font color=\"red\">Z</font>** axis rotations.\n",
    "\n",
    "\n",
    "> **<font color=\"blue\">NOTE</font>**: **Amplitudes** (**Magnitudes** + **Relative Phases**) are **<font color=\"red\">\"encoded\"</font>** in the qubit, and more importantly they allow **information** to be **encoded and manipulated** in the magnitudes and relative phases of the qubit, thus **enabling the quantum speedups** (among other capabilities) that QC promises.\n",
    "\n",
    "- However, the term **“wave”** is used in quantum physics **only as an analogy** to the classical waves that we see in everyday life; quantum waves are **<font color=\"red\">not</font>** at all the same thing as everyday waves.\n",
    "\n",
    "\n",
    "- **Superposition* will be some point on the bloch sphere between Zero (0) and One (1), that contains some parts of both - <font color=\"red\">a qubit can be in superposition of two states</font>, and **once it is measured**, it will return one of the two states based on the **probabilities of each state** - and those are determined by the **Amplitudes**.\n",
    "\n",
    "> **<font color=\"red\">BEWARE</font>**: <font color=\"blue\">**Amplitudes**</font> are <font color=\"red\">not</font> probabilities, they are something **entirely** different - they are subject to **<font color=\"red\">\"Interference\"</font>**. \n",
    "\n",
    "- **<font color=\"red\">Gotcha</font>**: There is <font color=\"red\">no</font> Phase Value associated witht **|0> Zero** Ket.\n",
    "\n",
    "\n"
   ]
  },
  {
   "cell_type": "markdown",
   "metadata": {},
   "source": [
    "## Detailed Examination of Amplitudes\n",
    "\n",
    "- **<font color=\"red\">Points on the Qubit </font>** is represented by the (*greek letter*) **<font color=\"blue\" size=\"5\">Psi &psi;</font>** of the sphere.\n",
    "- **<font color=\"red\">Magnitudes</font>** is represented by the angle (*greek letter*) **<font color=\"blue\" size=\"5\">\"Theta\" θ</font>** - on the **Vertical Plane (or Longitude)** of the sphere : **<font color=\"red\">X</font>** axis and **<font color=\"red\">Y</font>** axis rotations.\n",
    "- **<font color=\"red\">Relative Phases</font>** is represented by the angle (*greek letter*) **<font color=\"blue\" size=\"5\">\"Phi\" &phi;**</font> - on the **Horizontal Plane (or Latitude)** of the sphere: **<font color=\"red\">Z</font>** axis rotations.\n",
    "\n",
    "<BR>\n",
    "\n",
    "<BR>\n",
    "\n",
    "![AmplitudeDefinition](img/AmplitudeDefinition3.png \"\")\n",
    "\n",
    "<BR>\n",
    "    \n",
    "> - **<font color=\"red\">BEWARE</font>**: <font color=\"blue\">**Amplitudes**</font> are <font color=\"red\">not</font> probabilities, they are something **entirely** different - they are subject to **<font color=\"red\">\"Interference\"</font>**. \n",
    "> - **<font color=\"red\">Gotcha</font>**: There is <font color=\"red\">no</font> Relative Phase Value associated witht **|0> Zero** Ket.\n",
    "\n",
    "<BR>"
   ]
  },
  {
   "cell_type": "markdown",
   "metadata": {},
   "source": [
    "## <font color=\"blue\">Benefits of Amplitudes and Phases</font>\n",
    "\n",
    "Amplitudes and Phases are **important characteristics** of a Quantum Wave Function, and **provide the following benefits**  (*among others*):\n",
    "\n",
    "<font color=\"blue\">**Amplitudes:**</font>\n",
    "\n",
    "> <font color=\"red\">**Amplitude Amplification**</font> - Very simply, amplitude amplification is **a tool that converts inaccessible phase differences inside a QPU register into READable magnitude differences** (and vice versa) - *Grovers Algorithm*.\n",
    "\n",
    "> <font color=\"red\">**Amplitude Encoding**</font> (of data [vectors]) as **novel representations of problems**.\n",
    "\n",
    "<font color=\"blue\">**Phases:**</font>  \n",
    "\n",
    "> <font color=\"red\">**Phase Logic**</font> (elementary / complex) - (Interference) - *we can crucially take advantage of phase rotations to cleverly and indirectly affect the chances that we will eventually read out different values of the Qubit* - all kinds of algorithms.\n",
    "- In fact, **well-engineered relative phases can provide an astonishing computational advantage.** \n",
    "\n",
    "> <font color=\"red\">**Phase Encoding**</font> - an example:supersampling - as **novel representations of problems**.\n",
    "\n",
    "\n"
   ]
  },
  {
   "cell_type": "code",
   "execution_count": null,
   "metadata": {},
   "outputs": [],
   "source": []
  },
  {
   "cell_type": "markdown",
   "metadata": {},
   "source": [
    "## <font color=\"red\">Developmental Detour</Font> : <font color=\"blue\">Quantum Interference</Font>"
   ]
  },
  {
   "cell_type": "markdown",
   "metadata": {},
   "source": [
    "<font color=\"red\" size=\"4\">**Note**</font>: *The entire hope for getting a speed advantage from a quantum computer* is to **exploit the way that these amplitudes work** differently than probabilities. \n",
    "\n",
    "**The main thing that amplitudes can do** (*that probabilities can't do*) is they can **<font color=\"red\" size=\"5\">interfere</font> with each other** via leveraging the Phases as a **computational vehicle**."
   ]
  },
  {
   "cell_type": "markdown",
   "metadata": {},
   "source": [
    "## <font color=\"blue\">Quantum Interference</font>\n",
    "\n",
    "<BR>\n",
    "\n",
    "![interference-fisherman](img/interference-fishermen.png \"interference-fisherman\")\n",
    "\n",
    "<BR>\n",
    "    \n",
    "![interference-animated](img/interference-animated.gif \"interference-animated\")    \n",
    "    \n",
    "<BR>    \n",
    "    \n",
    "<table><tr><td><img src='img/wave-interference.png'></td></tr></table>\n",
    "\n",
    "<BR>\n",
    "\n",
    "> **A fundamental idea in quantum computing** is to **<font color=\"red\">control</font>** the probability that a system of qubits **collapses** into particular measurement states. \n",
    "- **<font color=\"red\">Quantum interference</font>**, a byproduct of superposition, is what allows us to **bias** the measurement of a qubit **toward a desired state or set of states**.\n",
    "\n"
   ]
  },
  {
   "cell_type": "code",
   "execution_count": 112,
   "metadata": {},
   "outputs": [
    {
     "data": {
      "text/html": [
       "\n",
       "        <iframe\n",
       "            width=\"900\"\n",
       "            height=\"900\"\n",
       "            src=\"https://phet.colorado.edu/sims/html/wave-interference/latest/wave-interference_en.html\"\n",
       "            frameborder=\"0\"\n",
       "            allowfullscreen\n",
       "        ></iframe>\n",
       "        "
      ],
      "text/plain": [
       "<IPython.lib.display.IFrame at 0x1e10f22ee10>"
      ]
     },
     "execution_count": 112,
     "metadata": {},
     "output_type": "execute_result"
    }
   ],
   "source": [
    "from IPython.display import IFrame\n",
    "IFrame(src='https://phet.colorado.edu/sims/html/wave-interference/latest/wave-interference_en.html', width=900, height=900)"
   ]
  },
  {
   "cell_type": "markdown",
   "metadata": {},
   "source": [
    "<BR>\n",
    "    \n",
    "<font color=\"red\">**Note**</font>:  A qubit in this **superposition state** does **not** have a value in between **\"0\", and \"1\"** - rather, the qubit has a **<font color=\"red\">probability</font> α^2**  of the **value “0”** and a **<font color=\"red\">probability</font> β^2** of the **value \"1\"**.\n",
    "\n",
    "> ### The **basic formula** is : **|ψ> = α|0> + β|1>**"
   ]
  },
  {
   "cell_type": "code",
   "execution_count": null,
   "metadata": {},
   "outputs": [],
   "source": []
  },
  {
   "cell_type": "markdown",
   "metadata": {},
   "source": [
    "## <font color=\"red\">Developmental Detour</Font> : Qubit / Bloch Sphere <font color=\"blue\">Basis Elements</Font>\n",
    "\n",
    "\n",
    "> **Mathematical Basis** is an important concept to be aware of and understand as it's central to Qubit manipulations.\n",
    "\n",
    "\n",
    "There are **three** mathematical **basis elements** (aka. the **\"endpoints\" of the axis** to be \"aware\" of with the bloch sphere:\n",
    "- **Computational (<font color=\"red\">Z</font>)**\n",
    "- **Hadamard (<font color=\"red\">X</font>)**\n",
    "- **Circular (<font color=\"red\">Y</font>)**\n",
    "\n",
    "![vector-basis-space](img/vector-basis-space.png \"\")\n",
    "\n",
    "\n",
    "> <font color=\"red\">**NOTE**</font>: The basis elements are the **endpoints of an axis**. For **example**, the basis elements for the *computational basis* are **|0>** and **|1>**, which correspond to the endpoints of the **Z-axis**."
   ]
  },
  {
   "cell_type": "code",
   "execution_count": null,
   "metadata": {},
   "outputs": [],
   "source": []
  },
  {
   "cell_type": "markdown",
   "metadata": {},
   "source": [
    "## <font color=\"red\">Developmental Detour</Font> : <font color=\"blue\">Complex Numbers</Font>\n",
    "\n",
    "> <font color=\"blue\">**Complex Numbers**</font> are a combination of <font color=\"red\">**Real**</font> and <font color=\"red\">**Imaginary**</font> Numbers - and are **integral** to Quantum Computing.\n",
    "\n",
    "> - **Imaginary Numbers** are numbers that are expressed in terms of the <font color=\"red\">**square root of a negative number**</font>.\n",
    "\n",
    "> **Complex numbers are common in Quantum Computing**, particularly in state **state vector analysis** and **amplitudes**, so they are important to understand if they are to be manipulated computationally and understood.\n",
    "\n",
    "### Quantum Waves have <font color=\"red\">**amplitudes**</font> that **must be expressed** with <font color=\"red\">**imaginary numbers**</font>.\n",
    "\n",
    "> - The **combination** of both <font color=\"blue\">**real**</font> and <font color=\"blue\">**imaginary**</font> numbers is called a <font color=\"blue\">**“complex number.”**</font>\n",
    "\n",
    "![complex-numbers-defn](img/complex-numbers-defn.png \"\")\n",
    "![complex-numbers](img/complex-numbers.png \"\")\n",
    "\n",
    "> ### A more precise (graph based) vehicle for understanding complex numbers is  an <font color=\"red\">**Argand Diagram**</font>\n",
    "\n",
    "<BR>\n",
    "    \n",
    "![argand-diagram](img/argand-diagram.png \"\")"
   ]
  },
  {
   "cell_type": "code",
   "execution_count": null,
   "metadata": {},
   "outputs": [],
   "source": []
  },
  {
   "cell_type": "markdown",
   "metadata": {},
   "source": [
    "## <font color=\"red\">Developmental Detour</Font> : <font color=\"blue\">Complex Numbers have Phases</Font>\n",
    "\n",
    "> In addition to magnitudes, complex numbers have a **phase** part which is important to understand if we are to manipulate it.\n",
    "\n",
    "![waveform-phases](img/waveform-phases.png \"\")"
   ]
  },
  {
   "cell_type": "code",
   "execution_count": null,
   "metadata": {},
   "outputs": [],
   "source": []
  },
  {
   "cell_type": "markdown",
   "metadata": {},
   "source": [
    "## <font color=\"red\">Developmental Detour</Font> : <font color=\"blue\">Circle Plots</Font>"
   ]
  },
  {
   "cell_type": "markdown",
   "metadata": {},
   "source": [
    "## Explanation: <font color=\"red\">Circle Notation</font>\n",
    "\n",
    "- **<font color=\"blue\" size=\"4\">Visually</font>** representing **Amplitudes** as the <font color=\"red\">combination</font> of **Magnitude** and **Relative Phase**.\n",
    "\n",
    "> **Relative Phases** are the phases of the **Zero Ket |0>** and **One Ket |1>** considered **relative** to each other.\n",
    "\n",
    "> **Circle notation** is an convenient (albeit abstract) way to describe superposition that allows us to **focus on important information** without needing to become entrench in opaque mathematics.\n",
    " \n",
    "**<font color=\"blue\" size=\"4\">Two important aspects</font>** of a Qubit's State:\n",
    "\n",
    "1. The **<font color=\"red\" size=\"4\">Magnitude</font>** of it's superposition amplitudes\n",
    "![circle-plot-magnitude](img/circle-plot-magnitude.png \"\")\n",
    "\n",
    "<BR>\n",
    "    \n",
    "2. The **<font color=\"red\" size=\"4\">Phase</font>** (aka. Rotation) between them.\n",
    "\n",
    "> - use degrees for simplicity of explanation.\n",
    "\n",
    "![circle-plot-phase-rotations](img/circle-plot-phase-rotation.png \"\")\n",
    "\n",
    "<BR>\n",
    "    \n",
    "<font color=\"red\">**Important**</font>: Phase operations <font color=\"red\">**only**</font> rotate the circle associated with the **|1>** state and will have <font color=\"red\">**no**</font> effect on the **|0>** state.\n"
   ]
  },
  {
   "cell_type": "code",
   "execution_count": null,
   "metadata": {},
   "outputs": [],
   "source": []
  },
  {
   "cell_type": "markdown",
   "metadata": {},
   "source": [
    "## <font color=\"red\">Developmental Detour</Font> : <font color=\"blue\">Phases</Font>"
   ]
  },
  {
   "cell_type": "markdown",
   "metadata": {},
   "source": [
    "![bloch_sphere-phase](img/bloch_sphere-phase2.png \"bloch_sphere-phase\")"
   ]
  },
  {
   "cell_type": "code",
   "execution_count": null,
   "metadata": {},
   "outputs": [],
   "source": []
  },
  {
   "cell_type": "markdown",
   "metadata": {},
   "source": [
    "## <font color=\"red\">Developmental Detour</Font> : <font color=\"blue\">Magnitudes</Font>"
   ]
  },
  {
   "cell_type": "markdown",
   "metadata": {},
   "source": [
    "![bloch_sphere-magnitudes](img/bloch_sphere-magnitudes2.png \"bloch_sphere-magnitudes\")"
   ]
  },
  {
   "cell_type": "code",
   "execution_count": null,
   "metadata": {},
   "outputs": [],
   "source": []
  },
  {
   "cell_type": "markdown",
   "metadata": {},
   "source": [
    "## <font color=\"red\">Developmental Detour</Font> : <font color=\"blue\">The Qubit / Bloch Sphere Live</Font>"
   ]
  },
  {
   "cell_type": "markdown",
   "metadata": {},
   "source": [
    "## Interactive Example of <font color=\"red\">Qubit</font>\n",
    "\n",
    "- ### (<font color=\"blue\">Bloch Sphere Playground Application </font>)\n",
    "\n",
    "### Standard Quantum Gates: \n",
    "\n",
    "> ### H, X, Y, Z\n",
    "\n",
    "> ### S, S', T, T'\n",
    "\n",
    "> ### R<font color=\"red\">x</font>, R<font color=\"red\">y</font>, R<font color=\"red\">z</font>"
   ]
  },
  {
   "cell_type": "code",
   "execution_count": 1,
   "metadata": {
    "scrolled": false
   },
   "outputs": [
    {
     "data": {
      "text/html": [
       "\n",
       "        <iframe\n",
       "            width=\"950\"\n",
       "            height=\"700\"\n",
       "            src=\"https://javafxpert.github.io/grok-bloch/\"\n",
       "            frameborder=\"0\"\n",
       "            allowfullscreen\n",
       "        ></iframe>\n",
       "        "
      ],
      "text/plain": [
       "<IPython.lib.display.IFrame at 0x22eccd32ac8>"
      ]
     },
     "execution_count": 1,
     "metadata": {},
     "output_type": "execute_result"
    }
   ],
   "source": [
    "# Bloch Sphere Playground Application\n",
    "from IPython.display import IFrame\n",
    "IFrame(src='https://javafxpert.github.io/grok-bloch/', width=950, height=700)"
   ]
  },
  {
   "cell_type": "code",
   "execution_count": null,
   "metadata": {},
   "outputs": [],
   "source": []
  },
  {
   "cell_type": "markdown",
   "metadata": {},
   "source": [
    "## <font color=\"red\">Developmental Detour</Font> : <font color=\"blue\">The Quantum Circuit Live</Font>"
   ]
  },
  {
   "cell_type": "markdown",
   "metadata": {},
   "source": [
    "## Interactive Example of <font color=\"red\">Quantum Circuit </font>\n",
    "\n",
    "- ### (<font color=\"blue\">QUIRK Framework </font>)\n",
    "\n",
    "\n",
    "### Standard Quantum Gates: \n",
    "\n",
    "> ### H, X, Y, Z\n",
    "\n",
    "> ### S, S', T, T'\n",
    "\n",
    "> ### R<font color=\"red\">x</font>, R<font color=\"red\">y</font>, R<font color=\"red\">z</font>"
   ]
  },
  {
   "cell_type": "code",
   "execution_count": 50,
   "metadata": {
    "scrolled": false
   },
   "outputs": [
    {
     "data": {
      "text/html": [
       "\n",
       "        <iframe\n",
       "            width=\"900\"\n",
       "            height=\"600\"\n",
       "            src=\"https://algassert.com/quirk\"\n",
       "            frameborder=\"0\"\n",
       "            allowfullscreen\n",
       "        ></iframe>\n",
       "        "
      ],
      "text/plain": [
       "<IPython.lib.display.IFrame at 0x22ee6f281d0>"
      ]
     },
     "execution_count": 50,
     "metadata": {},
     "output_type": "execute_result"
    }
   ],
   "source": [
    "# QUIRK (Quantum Circuit Simulator) of the Random QuByte\n",
    "from IPython.display import IFrame\n",
    "IFrame(src='https://algassert.com/quirk', width=900, height=600)"
   ]
  },
  {
   "cell_type": "code",
   "execution_count": null,
   "metadata": {},
   "outputs": [],
   "source": []
  },
  {
   "cell_type": "markdown",
   "metadata": {},
   "source": [
    "# <font color=\"blue\">Hands-on Exercise(s)</font>: "
   ]
  },
  {
   "cell_type": "markdown",
   "metadata": {},
   "source": [
    "#  <font color=\"blue\">Quantum</font> <font color=\"red\">Single Qubit Gates</font> <font color=\"blue\">and their Rotations:</font>\n",
    "\n",
    "> Simgle Qubits manipulation is done w/Quantum Gates - to gain an understanding and intuition of them are critical to the quantum computing space.\n"
   ]
  },
  {
   "cell_type": "markdown",
   "metadata": {},
   "source": [
    "![qubit-rotations](img/qubit-rotations.png \"qubit-rotations\")"
   ]
  },
  {
   "cell_type": "markdown",
   "metadata": {},
   "source": [
    "## Hadamard Gate\n",
    "\n",
    "> - **<font color=\"red\">Reference</font>:** <a href=\"Basic Gates Provided by Qiskit.ipynb\" target=\"_blank\"><font color=\"blue\">Basic Gates Provided by Qiskit</font></a> \n",
    "\n",
    "<BR>\n",
    "<img style=\"float: left;\" src=\"img/icon-h-gate.png\">\n",
    "\n",
    "> The Hadamard gate is one of the most frequently used gates in quantum computing. The (H) gate is often the first gate applied in a circuit. When you read “put the qubit in superposition” it usually means “take the qubit initialized in the **|0>** state and apply the (H) gate to it.”\n",
    "\n",
    "\n",
    "\n",
    "> **<font color=\"red\">Note:</font>** - The Hadamard gate (matrix) changes the **basis** from **Computational** (**|0>** and **|1>**) to **Hadamard** (**|+>** and **|->**)"
   ]
  },
  {
   "cell_type": "markdown",
   "metadata": {},
   "source": [
    "## NOT (Pauli-X) Gate\n",
    "\n",
    "> - **<font color=\"red\">Reference</font>:** <a href=\"Basic Gates Provided by Qiskit.ipynb\" target=\"_blank\"><font color=\"blue\">Basic Gates Provided by Qiskit</font></a> \n",
    "\n",
    "<BR>\n",
    "    \n",
    "<img style=\"float: left;\" src=\"img/icon-x-gate.png\">\n",
    "\n",
    "The Pauli-X gate is a single-qubit rotation of the qubit states through &pi; radians around the x-axis of the Bloch Sphere.\n",
    "\n",
    "Not only are the poles flipped but points in the lower hemisphere move to the upper and vice versa (so it's a bit flip).\n",
    "\n"
   ]
  },
  {
   "cell_type": "markdown",
   "metadata": {},
   "source": [
    "## Y (Pauli-Y) Gate\n",
    "\n",
    "> - **<font color=\"red\">Reference</font>:** <a href=\"Basic Gates Provided by Qiskit.ipynb\" target=\"_blank\"><font color=\"blue\">Basic Gates Provided by Qiskit</font></a> \n",
    "\n",
    "<BR>\n",
    "    \n",
    "<img style=\"float: left;\" src=\"img/icon-y-gate.png\">\n",
    "\n",
    "The Pauli-Y gate is a single-qubit rotation of the qubit states by &pi; radians around the y-axis of the Bloch Sphere.\n",
    "\n",
    "It swaps the **|0>** and **|1>** (so it's a bit flip).\n",
    "\n",
    "It also swaps **|+>** and **|->** but leaves **|i>** and the **|-i>** alone."
   ]
  },
  {
   "cell_type": "markdown",
   "metadata": {},
   "source": [
    "## Z (Pauli-Z) Gate\n",
    "\n",
    "> - **<font color=\"red\">Reference</font>:** <a href=\"Basic Gates Provided by Qiskit.ipynb\" target=\"_blank\"><font color=\"blue\">Basic Gates Provided by Qiskit</font></a> \n",
    "\n",
    "<BR>\n",
    "<img style=\"float: left;\" src=\"img/icon-z-gate.png\">\n",
    "\n",
    "The Pauli-Z gate is a single-qubit rotation of the qubit states by &pi; radians around the z-axis of the Bloch sphere.\n",
    "\n",
    "It swaps **|+>** and **|->** as well as the **|i>** and the **|-i>**.\n",
    "\n",
    "However it leaves **|0>** and **|1>** alone."
   ]
  },
  {
   "cell_type": "markdown",
   "metadata": {},
   "source": [
    "## S Gate\n",
    "\n",
    "> - **<font color=\"red\">Reference</font>:** <a href=\"Basic Gates Provided by Qiskit.ipynb\" target=\"_blank\"><font color=\"blue\">Basic Gates Provided by Qiskit</font></a> \n",
    "\n",
    "<BR>\n",
    "<img style=\"float: left;\" src=\"img/icon-s-gate.png\">\n",
    "\n",
    "The S gate is also known as the phase gate or the Z90 gate, because it represents a 90 degree rotation (or a quarter turn) of the qubit states around the **z-axis**.\n"
   ]
  },
  {
   "cell_type": "markdown",
   "metadata": {},
   "source": [
    "## S&prime; Gate\n",
    "> - **<font color=\"red\">Reference</font>:** <a href=\"Basic Gates Provided by Qiskit.ipynb\" target=\"_blank\"><font color=\"blue\">Basic Gates Provided by Qiskit</font></a> \n",
    "\n",
    "<BR>\n",
    "    \n",
    "<img style=\"float: left;\" src=\"img/icon-s-dagger-gate.png\">\n",
    "\n",
    "The S&prime; gate is the inverse of the S gate and executes a **<font color=\"red\">-</font>90** Degree (or <font color=\"red\">negative</font> quarter turn) of the qubit states around the **z-axis**."
   ]
  },
  {
   "cell_type": "markdown",
   "metadata": {},
   "source": [
    "## T Gate\n",
    "> - **<font color=\"red\">Reference</font>:** <a href=\"Basic Gates Provided by Qiskit.ipynb\" target=\"_blank\"><font color=\"blue\">Basic Gates Provided by Qiskit</font></a> \n",
    "\n",
    "<BR>\n",
    "<img style=\"float: left;\" src=\"img/icon-t-gate.png\">\n",
    "\n",
    "The T gate is also known as the phase gate or the Z45 gate, because it represents a 45 degree rotation (or an eighth of a turn) of the qubit states around the **z-axis**."
   ]
  },
  {
   "cell_type": "markdown",
   "metadata": {},
   "source": [
    "## T&prime; Gate\n",
    "> - **<font color=\"red\">Reference</font>:** <a href=\"Basic Gates Provided by Qiskit.ipynb\" target=\"_blank\"><font color=\"blue\">Basic Gates Provided by Qiskit</font></a> \n",
    "\n",
    "<BR>\n",
    "<img style=\"float: left;\" src=\"img/icon-t-dagger-gate.png\">\n",
    "\n",
    "The T&prime; gate is also known as the phase gate or the <font color=\"red\">-</font>Z45 gate, because it represents a <font color=\"red\">negative</font> 45 degree rotation (or an <font color=\"red\">negative</font> eighth of a turn) of the qubit states around the **z-axis**."
   ]
  },
  {
   "cell_type": "markdown",
   "metadata": {},
   "source": [
    "## R(<font color=\"red\">x</font>) Gate - A Phase Change Gate\n",
    "> - **<font color=\"red\">Reference</font>:** <a href=\"Basic Gates Provided by Qiskit.ipynb\" target=\"_blank\"><font color=\"blue\">Basic Gates Provided by Qiskit</font></a> \n",
    "\n",
    "<BR>\n",
    "<img style=\"float: left;\" src=\"img/icon-rx-gate.png\">\n",
    "\n",
    "The Rx gate is a single-qubit rotation through angle \"Theta\" &theta; (radians) around the x-axis.\n",
    "\n",
    "The angle of rotation must be specified in radians and can be positive or negative."
   ]
  },
  {
   "cell_type": "markdown",
   "metadata": {},
   "source": [
    "## R(<font color=\"red\">y</font>) Gate - A Phase Change Gate\n",
    "\n",
    "> - **<font color=\"red\">Reference</font>:** <a href=\"Basic Gates Provided by Qiskit.ipynb\" target=\"_blank\"><font color=\"blue\">Basic Gates Provided by Qiskit</font></a> \n",
    "\n",
    "<BR>\n",
    "<img style=\"float: left;\" src=\"img/icon-ry-gate.png\">\n",
    "\n",
    "The Ry gate is a single-qubit rotation through angle \"Theta\" &theta; (radians) around the y-axis.\n",
    "\n",
    "The angle of rotation must be specified in radians and can be positive or negative."
   ]
  },
  {
   "cell_type": "markdown",
   "metadata": {},
   "source": [
    "### Demonstration Video"
   ]
  },
  {
   "cell_type": "markdown",
   "metadata": {},
   "source": [
    "## R(<font color=\"red\">z</font>) Gate - A Phase Change Gate\n",
    "\n",
    "> - **<font color=\"red\">Reference</font>:** <a href=\"Basic Gates Provided by Qiskit.ipynb\" target=\"_blank\"><font color=\"blue\">Basic Gates Provided by Qiskit</font></a> \n",
    "\n",
    "<BR>\n",
    "<img style=\"float: left;\" src=\"img/icon-rz-gate.png\">\n",
    "\n",
    "The Rz gate is a single-qubit rotation through angle \"Theta\" &theta; (radians) around the z-axis.\n",
    "\n",
    "The angle of rotation must be specified in radians and can be positive or negative."
   ]
  },
  {
   "cell_type": "code",
   "execution_count": null,
   "metadata": {},
   "outputs": [],
   "source": []
  },
  {
   "cell_type": "markdown",
   "metadata": {},
   "source": [
    "# <font color=\"blue\">Hands-on Exercise(s)</font>: "
   ]
  },
  {
   "cell_type": "markdown",
   "metadata": {},
   "source": [
    "## Interactive Example of <font color=\"red\">Qubit</font>\n",
    "\n",
    "- ### (<font color=\"blue\">Bloch Sphere Playground Application </font>)\n",
    "\n",
    "### Standard Quantum Gates: \n",
    "\n",
    "> ### H, X, Y, Z\n",
    "\n",
    "> ### S, S', T, T'\n",
    "\n",
    "> ### R<font color=\"red\">x</font>, R<font color=\"red\">y</font>, R<font color=\"red\">z</font>"
   ]
  },
  {
   "cell_type": "code",
   "execution_count": 1,
   "metadata": {
    "scrolled": false
   },
   "outputs": [
    {
     "data": {
      "text/html": [
       "\n",
       "        <iframe\n",
       "            width=\"950\"\n",
       "            height=\"700\"\n",
       "            src=\"https://javafxpert.github.io/grok-bloch/\"\n",
       "            frameborder=\"0\"\n",
       "            allowfullscreen\n",
       "        ></iframe>\n",
       "        "
      ],
      "text/plain": [
       "<IPython.lib.display.IFrame at 0x26c86662b00>"
      ]
     },
     "execution_count": 1,
     "metadata": {},
     "output_type": "execute_result"
    }
   ],
   "source": [
    "# Bloch Sphere Playground Application\n",
    "from IPython.display import IFrame\n",
    "IFrame(src='https://javafxpert.github.io/grok-bloch/', width=950, height=700)"
   ]
  },
  {
   "cell_type": "code",
   "execution_count": null,
   "metadata": {},
   "outputs": [],
   "source": []
  },
  {
   "cell_type": "markdown",
   "metadata": {},
   "source": [
    "# <font color=\"red\">Coding Exercise</font> - Manipulating Quantum Phases: <font color=\"blue\"> QisKit</font>\n",
    "\n",
    "- #### **Learn Qiskit**: https://qiskit.org/textbook/preface.html\n",
    "\n",
    "> ### Use the **Qiskit Quantum Simulator** to gain **intuition about Quantum Phase and Magnitude Rotations**.\n",
    "\n",
    "\n",
    "> **NOTE:** \n",
    "\n",
    "- Hint: remember that each *Bloch Sphere Playground* - a **single tick** (push of a button) is **1/12th** of a unit of rotation, that can directly translate into your formula for Qiskit phase Roatations.\n",
    "\n",
    "\n",
    "\n",
    "> If it helps: remember that **Pi radians is equal to 180 degrees** -the below link is provided as a reference.\n",
    "- https://www.quia.com/jg/321176list.html\n",
    "\n",
    "\n",
    "\n",
    "## Reminder: Complex Numbers and Qiskit's StateVector\n",
    "\n",
    "> Qiskit returns a **<font color=\"blue\">statevector</font>** in the form of a **<font color=\"red\">complex number</font>** that contains **amplitudes and phases** that take work to get used to and develop intuitions about.\n",
    "\n",
    "- https://www.geeksforgeeks.org/complex-numbers-in-python-set-1-introduction/\n",
    ">> - Geometrically, the phase of a complex number is the angle between the positive real axis and the vector representing complex number. \n",
    ">> - This is also known as argument of complex number. \n",
    "Phase is returned using the function **phase()**, which takes *complex number as argument*. \n",
    ">> - The range of phase lies from -pi to +pi. i.e from -3.14 to +3.14.\n",
    "\n",
    "- Blog Article: https://towardsdatascience.com/quantum-computing-notes-for-a-python-programmer-geometry-of-complex-numbers-469a6265e0c7\n",
    "- Github: https://gist.github.com/rcshubhadeep/919801ada2983e9c93db30f8eb8ed2c5\n",
    "\n",
    "**NOTE** - we can **normalize the statevector** to get amplitudes and pull out the phases as well to help provide intuition by leveraging some helper functions that normalize and create polar plots.\n"
   ]
  },
  {
   "cell_type": "markdown",
   "metadata": {},
   "source": [
    "### <font color=\"red\">REMINDER</font>:- <font color=\"blue\">The Anatomy of the QISKIT Quantum Simulator </font>\n",
    "\n",
    "<BR>\n",
    "\n",
    "![Qiskit-Process](img/Qiskit-Process1.png \"\")"
   ]
  },
  {
   "cell_type": "markdown",
   "metadata": {},
   "source": [
    "### TODO:\n",
    "\n",
    "- setup a quantum register and circuit\n",
    "- place a various gates into the circuit, run it and inspect the results\n",
    "- draw the circuit\n",
    "- execute this against a backend Quantum Simulator\n",
    "- print out the resultant quantum state vector\n",
    "- print out the resultant bloch sphere"
   ]
  },
  {
   "cell_type": "markdown",
   "metadata": {},
   "source": [
    "### Setup the Program"
   ]
  },
  {
   "cell_type": "code",
   "execution_count": 40,
   "metadata": {},
   "outputs": [],
   "source": [
    "# Import Qiskit, and set up a Quantum register of 1 Qubit, and set up a Quantum Circuit w/that register\n",
    "\n",
    "import numpy as np\n",
    "from qiskit import QuantumCircuit, QuantumRegister, execute\n",
    "import cmath\n",
    "import math\n",
    "import matplotlib.pyplot as P\n",
    "import matplotlib.pyplot as plt\n",
    "from circle_plot import *\n",
    "from qiskit.tools.visualization import plot_bloch_multivector\n",
    "from qsphere_plotter import plot_state_qsphere\n",
    "from widgets import minicomposer\n",
    "from may4_challenge_common import return_state, vec_in_braket, statevec\n",
    "\n",
    "\n",
    "# Set up ONE quantum register and ONE quantum circuit\n",
    "qr = QuantumRegister(1)\n",
    "circ = QuantumCircuit(qr)\n",
    "\n",
    "\n",
    "# Helper Funtion for Normalizing State Vectors\n",
    "#\n",
    "def normalize_state_Vector(state_vector):\n",
    "    for result in state_vector:\n",
    "        print(\"Normalized Result: \" , round( np.abs(result)**2, 1) )\n",
    "        \n",
    "        \n",
    "# Helper Funtion for print Polar Phase(s)\n",
    "#      \n",
    "def plot_polar(state_vector):\n",
    "    pi_radians = 180;\n",
    "    for x in state_vector:\n",
    "        plt.polar([0,cmath.phase(x)],[0,abs(x)],marker='o')\n",
    "        print(\"The original complex number Re{%d}, Im{%d}, and Length : %f\" % (x.real, x.imag, abs(x)))\n",
    "        print(\"Phase: \",cmath.phase(x))\n",
    "        if cmath.phase(x) != 0:\n",
    "            print(\"Angle: \", pi_radians/(np.pi/cmath.phase(x)))\n",
    "    "
   ]
  },
  {
   "cell_type": "markdown",
   "metadata": {},
   "source": [
    "### Programatically manipulate the circuit ( <font color=\"red\">Phases / Magnitudes</font> )\n",
    "\n",
    "#### <font color=\"red\">NOTE</font>: This is the only code segment you change to reflect each gate\n",
    "\n",
    "\n",
    "### Standard Quantum Gates: \n",
    "\n",
    "> ### H, X, Y, Z\n",
    "\n",
    "> ### S, S', T, T'\n",
    "\n",
    "> ### R<font color=\"red\">x</font>, R<font color=\"red\">y</font>, R<font color=\"red\">z</font>\n"
   ]
  },
  {
   "cell_type": "code",
   "execution_count": 41,
   "metadata": {},
   "outputs": [
    {
     "data": {
      "image/png": "[encoded data removed]",
      "text/plain": [
       "<Figure size 244.412x84.28 with 1 Axes>"
      ]
     },
     "execution_count": 41,
     "metadata": {},
     "output_type": "execute_result"
    }
   ],
   "source": [
    "# Place various gates on the circuit and inspect their results\n",
    "# Note: Qiskit rotates in Radians (not Degrees) so the correct calculation needs to be made\n",
    "# Uncomment / comment the remaining during subsequent runs.\n",
    "\n",
    "# Note-1: MAKE SURE TO RERUN THE SETUP CELL TO AVOID RUN POLUTION \n",
    "# Note-2: Some combinations ( Rz ) require an H-Gate first so you can see their effect.\n",
    "\n",
    "# Note-3: The following gates can be executed as singletons with observable effect.\n",
    "\n",
    "# circ.h(qr[0])\n",
    "# circ.x(qr[0])\n",
    "# circ.y(qr[0])\n",
    "\n",
    "\n",
    "# Note-4: Some gates require an H-Gate first in combination so one can observe their effect.\n",
    "\n",
    "circ.h(qr[0])\n",
    "# circ.z(qr[0])\n",
    "# circ.s(qr[0])\n",
    "# circ.sdg(qr[0])\n",
    "# circ.t(qr[0])\n",
    "# circ.tdg(qr[0])\n",
    "# circ.rz( np.pi/2 , qr[0])\n",
    "# circ.rx( np.pi/2 , qr[0])\n",
    "# circ.ry( np.pi/2 , qr[0])\n",
    "\n",
    "\n",
    "# Draw the circuit\n",
    "circ.draw(output='mpl')"
   ]
  },
  {
   "cell_type": "markdown",
   "metadata": {},
   "source": [
    "### Submit the program to the backed, execute and print the state\n",
    "- notice the amplitudes returned (not magnitudes)"
   ]
  },
  {
   "cell_type": "code",
   "execution_count": 42,
   "metadata": {},
   "outputs": [
    {
     "data": {
      "text/plain": [
       "array([0.707+0.j   , 0.   -0.707j])"
      ]
     },
     "execution_count": 42,
     "metadata": {},
     "output_type": "execute_result"
    }
   ],
   "source": [
    "# Use the BasicAer statevector_simulator backend, submit the job, preview the quantum state\n",
    "\n",
    "from qiskit import BasicAer\n",
    "backend_sv_sim = BasicAer.get_backend('statevector_simulator')\n",
    "\n",
    "job_sim = execute(circ, backend_sv_sim)\n",
    "result_sim = job_sim.result()\n",
    "quantum_state = result_sim.get_statevector(circ, decimals=3)\n",
    "\n",
    "# Output the quantum state vector (Amplitude of zero and one state respectively)\n",
    "quantum_state"
   ]
  },
  {
   "cell_type": "markdown",
   "metadata": {},
   "source": [
    "### Normalize the State Vector for sake of intuition\n",
    "- This is a **Phase** change so magnitudes stay constant at 50%"
   ]
  },
  {
   "cell_type": "code",
   "execution_count": 43,
   "metadata": {},
   "outputs": [
    {
     "name": "stdout",
     "output_type": "stream",
     "text": [
      "Normalized Result:  0.5\n",
      "Normalized Result:  0.5\n"
     ]
    }
   ],
   "source": [
    "# Print out normalized statevector  (to gain probabilities)\n",
    "#\n",
    "normalize_state_Vector(quantum_state)"
   ]
  },
  {
   "cell_type": "markdown",
   "metadata": {},
   "source": [
    "### Print the Polar Plot for sake of intuition about Phases\n",
    "\n",
    "- The **Polar Plots** will also show phase differences when using Rz or Z Gates.\n",
    "- In Superposition: (+/-X) Degree Z-Rotation of the **|1> Ket**\n",
    "\n",
    "#### <font color=\"red\">NOTICE</font> -  Qiskit Returned Values:\n",
    "\n",
    "<BR>\n",
    "\n",
    "**|0> Ket**\n",
    "> *The original complex number* Re{0}, Im{0}, and Length : **0.707000** (Magnitude of 50%)\n",
    "- **Phase:  0.0**\n",
    "\n",
    "**|1> Ket**\n",
    "> *The original complex number* Re{0}, Im{0}, and Length : **0.707000** (Magnitude of 50%)\n",
    "- **Phase:  1.5707963267948966** = **<font color=\"red\">(Pi/2)</font>**\n",
    "- **Angle:  90.0** Degrees = **<font color=\"red\">(180/2)</font>**\n",
    "\n",
    "- Reminder: Pi Radians is equal to 180 degrees"
   ]
  },
  {
   "cell_type": "code",
   "execution_count": 44,
   "metadata": {
    "scrolled": false
   },
   "outputs": [
    {
     "name": "stdout",
     "output_type": "stream",
     "text": [
      "The original complex number Re{0}, Im{0}, and Length : 0.707000\n",
      "Phase:  0.0\n",
      "The original complex number Re{0}, Im{0}, and Length : 0.707000\n",
      "Phase:  -1.5707963267948966\n",
      "Angle:  -90.0\n"
     ]
    },
    {
     "data": {
      "image/png": "[encoded data removed]",
      "text/plain": [
       "<Figure size 432x288 with 1 Axes>"
      ]
     },
     "metadata": {
      "needs_background": "light"
     },
     "output_type": "display_data"
    }
   ],
   "source": [
    "# Plot Polar Coordinates for intuitions sake - provides an idea of the angle of the plot on the curve : appears 90 Degrees\n",
    "# Plot both vectors and phase / angle (if non-zero)\n",
    "\n",
    "P.clf()\n",
    "sp = P.subplot(1, 1, 1, projection='polar')\n",
    "sp.set_theta_zero_location('N')\n",
    "sp.set_theta_direction(1)\n",
    "\n",
    "plot_polar(quantum_state)"
   ]
  },
  {
   "cell_type": "markdown",
   "metadata": {},
   "source": [
    "### Print the Circle Plots for sake of intuition\n",
    "- The **Circle Plots** will show *magnitude* and *phase* differences.\n",
    "- **<font color=\"red\">Gotcha</font>**: There is <font color=\"red\">no</font> Phase Value associated witht **|0> Zero** Ket.\n",
    "- (+90) Degree Z-Rotation of the |1> Ket"
   ]
  },
  {
   "cell_type": "code",
   "execution_count": 45,
   "metadata": {},
   "outputs": [
    {
     "data": {
      "image/png": "[encoded data removed]",
      "text/plain": [
       "<Figure size 288x144 with 2 Axes>"
      ]
     },
     "metadata": {
      "needs_background": "light"
     },
     "output_type": "display_data"
    }
   ],
   "source": [
    "# Print out Circle Notation for intuitions sake\n",
    "\n",
    "from circle_plot import *\n",
    "plot_circles(quantum_state)"
   ]
  },
  {
   "cell_type": "markdown",
   "metadata": {},
   "source": [
    "### Print the Bloch Sphere for sake of intuition\n",
    "- Check this against the Bloch Sphere Payground version below the plot."
   ]
  },
  {
   "cell_type": "code",
   "execution_count": 46,
   "metadata": {
    "scrolled": true
   },
   "outputs": [
    {
     "data": {
      "image/png": "[encoded data removed]",
      "text/plain": [
       "<Figure size 288x288 with 1 Axes>"
      ]
     },
     "execution_count": 46,
     "metadata": {},
     "output_type": "execute_result"
    }
   ],
   "source": [
    "# Plot the state vector on a Bloch sphere\n",
    "\n",
    "from qiskit.tools.visualization import plot_bloch_multivector\n",
    "plot_bloch_multivector(quantum_state)"
   ]
  },
  {
   "cell_type": "markdown",
   "metadata": {},
   "source": [
    "![the-end](img/the-end.png \"the-end\")"
   ]
  }
 ],
 "metadata": {
  "kernelspec": {
   "display_name": "qcousins",
   "language": "python",
   "name": "qcousins"
  },
  "language_info": {
   "codemirror_mode": {
    "name": "ipython",
    "version": 3
   },
   "file_extension": ".py",
   "mimetype": "text/x-python",
   "name": "python",
   "nbconvert_exporter": "python",
   "pygments_lexer": "ipython3",
   "version": "3.7.1"
  }
 },
 "nbformat": 4,
 "nbformat_minor": 2
}
