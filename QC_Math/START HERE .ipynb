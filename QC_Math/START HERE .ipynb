{
 "cells": [
  {
   "cell_type": "markdown",
   "metadata": {},
   "source": [
    "# Quantum Computing Practicals\n",
    "- #### Hands-on Experiential Learning <font color=\"red\">for the Software Engineer</font>"
   ]
  },
  {
   "cell_type": "markdown",
   "metadata": {},
   "source": [
    "![](img/QC_Math_Banner.png \"\")\n",
    "\n",
    "<font color=\"red\">**Notice**</font>: All materials herein were <font color=\"red\">**curated**</font> by **Matthew R. Versaggi (profversaggi@gmail.com)** and are released into the open source to foster growth and welfare of expanding the Quantum Computing domain - the only obligation one incurs when using, copying, distributing or referencing this is to kindly reference the author and send me an email so I know how useful the material is to you.\n",
    "\n",
    "#### <font color=\"red\">Recommendations</font>: \n",
    "\n",
    "> **<font color=\"blue\">It's highly recommended to take structured QC Math courses <font color=\"red\">like</font>:</font>**\n",
    "> #### Math Prerequisites for Quantum Computing\n",
    "> - https://www.udemy.com/course/mathematics-prerequisites-for-quantum-computing-and-quantum-physics/\n",
    "\n",
    "> #### Advanced Math for Quantum Computing\n",
    "> - https://www.udemy.com/course/qc201-advanced-math-for-quantum-computing-mathematics-physics/\n",
    "\n",
    "\n",
    "\n",
    "#### <font color=\"red\">Materials Inspiration and Author(s)</font>: \n",
    "\n",
    "> **<font color=\"blue\">Amelie Schreiber</font>**\n",
    "- Article: https://towardsdatascience.com/quantum-computing-for-the-newb-5e0737e3ca4\n",
    "- Course: https://the-singularity-research.github.io/linear_algebra_for_quantum_computing/\n",
    "- GitHub: https://github.com/The-Singularity-Research/linear_algebra_for_quantum_computing\n",
    "\n",
    "> **<font color=\"blue\">QWorld</font>**\n",
    "- Site: https://qworld.lu.lv/\n",
    "- GitLab: https://gitlab.com/qkitchen/basics-of-quantum-computing"
   ]
  },
  {
   "cell_type": "markdown",
   "metadata": {},
   "source": [
    "## Description\n",
    "\n",
    "> This workshop is designed to be a <font color=\"red\">hand-on experiential learning engagement</font> where participants are **exposed** to and **learn** the implementation aspects of quantum comuting by **\"doing\"** - that is by: <font color=\"blue\">executing</font> code, <font color=\"blue\">manipulating</font> simulators, and <font color=\"blue\">visualizing</font> the quantum computational process through a variety of vehicles designed to foster **\"intuition\"** about the concepts. \n",
    "\n"
   ]
  },
  {
   "cell_type": "markdown",
   "metadata": {},
   "source": [
    "## Pedagogical Approach: \n",
    "\n",
    "This material is intended to educate **software engineers** in certain aspects of Quantum Computing, therefore its focus will be on conveying the conceptual ideas in a form digestible to them, and supporting it with exercises to reinforce those concepts. \n",
    "\n",
    "Because of that pedagogical approach, **this material won't lead with or heavily leverage the concepts and language indigenous to physics and math**, but only in those terms most easily digestible to the modern software engineer.\n",
    "\n",
    "This Jupyter Notebook is <font color=\"red\">**not intended as a stand alone educational vehicle**</font>  - it's meant to be accompanied by a decicated power point deck that contains the main concepts to be presented by an instructor -  **it is intended as a vehicle for a hands on workshop environment to facilitate learning through a guided experience.**\n",
    "\n",
    "> **Note:-** Because of the above educational approach:\n",
    "1. There is a certain amount of basic Quantum Computing knowledge that is assumed.\n",
    "2. An active internet connection is **always** assumed.\n",
    "3. Online references/links will be provided where appropriate\n",
    "4. References to books will be made where appropriate\n",
    "5. Much of this material is **dense and detailed**, the reader is <font color=\"red\">**cautioned**</font> to be careful and slow to digest the *nuances* of the material."
   ]
  },
  {
   "cell_type": "markdown",
   "metadata": {},
   "source": [
    "# Agenda\n",
    "\n",
    "> The workshop is meant to be executed in the prescribed module order below - each section builds upon the previous section and the concepts accumulate as the modules progress."
   ]
  },
  {
   "cell_type": "markdown",
   "metadata": {},
   "source": [
    "\n",
    "\n",
    "## <font color=\"red\">Hands-on</font>:  <font color=\"blue\">Exercises</font> \n",
    "\n",
    "### <font color=\"red\">**Background Information**</font>: \n",
    "\n",
    "- **Immersive Linear Algebra**: - http://immersivemath.com/ila/index.html\n",
    "- **Tutorialspoint - Matrix Manipulation**: -https://www.tutorialspoint.com/matrix-manipulation-in-python\n",
    "\n",
    "\n",
    "\n",
    "\n",
    "### Topics\n",
    "\n",
    "- <font color=\"red\">**1**</font>: <a href=\"complex_numbers.ipynb\" target=\"_blank\"><font color=\"blue\">Complex Numbers</font></a>\n",
    "- <font color=\"red\">**2**</font>: <a href=\"vectors.ipynb\" target=\"_blank\"><font color=\"blue\">Vectors</font></a>\n",
    "- <font color=\"red\">**3**</font>: <a href=\"inner_products.ipynb\" target=\"_blank\"><font color=\"blue\">Inner Products</font></a>\n",
    "- <font color=\"red\">**4**</font>: <a href=\"bloch_sphere.ipynb\" target=\"_blank\"><font color=\"blue\">Bloch Sphere</font></a>\n",
    "- <font color=\"red\">**5**</font>: <a href=\"tensor_products.ipynb\" target=\"_blank\"><font color=\"blue\">Tensor Products</font></a>\n",
    "- <font color=\"red\">**6**</font>: <a href=\"preparing_basis_states.ipynb\" target=\"_blank\"><font color=\"blue\">Preparing Basis States</font></a>\n",
    "- <font color=\"red\">**7**</font>: <a href=\"matrices.ipynb\" target=\"_blank\"><font color=\"blue\">Matrices</font></a>\n",
    "- <font color=\"red\">**8**</font>: <a href=\"tensor_product_matrices.ipynb\" target=\"_blank\"><font color=\"blue\">Tensor Product Matrices</font></a>\n",
    "- <font color=\"red\">**9**</font>: <a href=\"quantum_gates.ipynb\" target=\"_blank\"><font color=\"blue\">Quantum Gates</font></a>\n",
    "\n",
    "\n",
    "\n",
    "\n",
    "\n",
    "\n",
    "\n",
    "\n",
    "\n",
    "\n",
    "\n",
    "\n",
    "\n",
    "\n",
    "\n",
    "\n",
    "\n",
    "\n",
    "\n",
    "<BR><BR>\n",
    "    "
   ]
  },
  {
   "cell_type": "markdown",
   "metadata": {},
   "source": [
    "<img src=\"img/the-end.png\" height=\"100\" align=left>\n"
   ]
  }
 ],
 "metadata": {
  "kernelspec": {
   "display_name": "qcousins",
   "language": "python",
   "name": "qcousins"
  },
  "language_info": {
   "codemirror_mode": {
    "name": "ipython",
    "version": 3
   },
   "file_extension": ".py",
   "mimetype": "text/x-python",
   "name": "python",
   "nbconvert_exporter": "python",
   "pygments_lexer": "ipython3",
   "version": "3.7.1"
  }
 },
 "nbformat": 4,
 "nbformat_minor": 2
}
