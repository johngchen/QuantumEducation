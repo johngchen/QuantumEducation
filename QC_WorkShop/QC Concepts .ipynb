{
 "cells": [
  {
   "cell_type": "markdown",
   "metadata": {},
   "source": [
    "# Quantum Computing Key Concepts \n",
    "\n",
    "- #### Hands-on Experiential Learning <font color=\"red\">for the Software Engineer</font>\n"
   ]
  },
  {
   "cell_type": "markdown",
   "metadata": {},
   "source": [
    "![qc-banner](img/qc-banner1.png \"qc-banner\")\n",
    "\n",
    "<font color=\"red\">**Notice**</font>: All materials herein were <font color=\"red\">**curated**</font> by **Matthew R. Versaggi (profversaggi@gmail.com)** and are released into the open source to foster growth and welfare of expanding the Quantum Computing domain - the only obligation one incurs when using, copying, distributing or referencing this is to kindly reference the author and send me an email so I know how useful the material is to you.\n",
    "\n",
    "<font color=\"red\">**Notice**</font>: Python Code contributions for the Circle Plots are the work of **David Radcliffe**."
   ]
  },
  {
   "cell_type": "markdown",
   "metadata": {},
   "source": [
    "## Pedagogical Approach: (<font color=\"red\">**Read this first !**</font>)\n",
    "\n",
    "This material is intended to educate **software engineers** in certain aspects of Quantum Computing, therefore its focus will be on conveying the conceptual ideas in a form digestible to them, and supporting it with exercises to reinforce those concepts. \n",
    "\n",
    "Because of that pedagogical approach, **this material won't lead with or heavily leverage the concepts and language indigenous to physics and math**, but only in those terms most easily digestible to the modern software engineer.\n",
    "\n",
    "This Jupyter Notebook is <font color=\"red\">**not intended as a stand alone educational vehicle**</font>  - it's meant to be accompanied by a decicated power point deck that contains the main concepts to be presented by an instructor - **it is intended as a vehicle for a hands on workshop environment to facilitate learning through a guided experience.**\n",
    "\n",
    "> **Note:-** Because of the above educational approach:\n",
    "1. There is a certain amount of basic Quantum Computing knowledge that is assumed.\n",
    "2. An active internet connection is **always** assumed.\n",
    "3. Online references/links will be provided where appropriate\n",
    "4. References to books will be made where appropriate\n",
    "5. Much of this material is **dense and detailed**, the reader is <font color=\"red\">**cautioned**</font> to be careful and slow to digest the *nuances* of the material."
   ]
  },
  {
   "cell_type": "markdown",
   "metadata": {},
   "source": [
    "## What you will be exposed to - High level: \n",
    "\n",
    "\n",
    "- Software engineers in the Quantum Computing space need to know their way around important concepts in this space - that means developing intuition and proficiencies around: quantum waves, interference, superposition, entanglement and teleportation. \n",
    "- Given the above, there are a host of technical concepts that need to be **<font color=\"red\">understood experientially</font>**, therefore we'll intentionally employ a vendor / framework agnostic approach to focus on the delivery of concept understanding and intuition procurement as the main value-add.\n",
    "\n",
    "> ### High Level Agenda (<font color=\"red\">*major sections*</font>): - key concepts for the quantum software engineer.\n",
    "1. Quantum <font color=\"blue\">*Waves*</font>\n",
    "2. Quantum <font color=\"blue\">*Interference*</font>\n",
    "3. Quantum <font color=\"blue\">*Superposition*</font>\n",
    ">> 0. <font color=\"red\">Exercise</font>: Creating a Perfectly Random Quantum Bit : Qubit\n",
    ">>> 0. Using the **QCEngine** to Explore a \"Perfectly Random Quantum Bit\"\n",
    ">>> 0. Using **QUIRK** to Explore a \"Perfectly Random Quantum Bit\"\n",
    ">>> 0. Using **Qiskit** to Explore a \"Perfectly Random Quantum Bit\".\n",
    ">> 0. <font color=\"red\">Exercise</font>: Creating a Perfectly Random Quantum Byte : QuByte¶\n",
    ">>> 0. Using **QCEngine** to Explore a \"Perfectly Random Quantum Byte\".\n",
    ">>> 0. Using **QUIRK** to Explore a \"Perfectly Random Quantum Byte\"\n",
    ">>> 0. Using **Qiskit** to Explore a \"Perfectly Random Quantum Byte\".\n",
    "4. Quantum <font color=\"blue\">*Entanglement*</font>\n",
    ">> 0. <font color=\"red\">Exercise</font>: Using **QUIRK** to explore two entangled qubits\n",
    ">> 0. <font color=\"red\">Exercise</font>: Using **QUIRK** to explore multiple entangled qubits\n",
    ">> 0. <font color=\"red\">Exercise</font>: Using **QCEngine** to explore two Entangled Qubits\n",
    ">> 0. <font color=\"red\">Exercise</font>: Using **Qiskit** to explore two Entangled Qubits\n",
    "5. Quantum <font color=\"blue\">*Teleportation*</font>\n",
    ">> 0. <font color=\"blue\">Developmental Detour</font>:- **QCEngine** Teleportation Program WalkThrough\n",
    ">> 0. <font color=\"red\">Exercise</font>: Using **QCEngine** to Explore Quantum Teleportation\n",
    ">> 0. <font color=\"red\">Exercise</font>: Using **QUIRK** to Explore Quantum Teleportation\n",
    ">> 0. <font color=\"red\">Exercise</font>: Using **QISKIT** to Explore Quantum Teleportation\n"
   ]
  },
  {
   "cell_type": "markdown",
   "metadata": {},
   "source": [
    "## Background Videos: \n",
    "\n",
    "Quantum Computing Concepts - **Series**\n",
    "\n",
    "- https://www.youtube.com/watch?v=sjINVV2xOow&list=PLHSIfioizVW2uC27IFkHlSc-NgvZjBliZ"
   ]
  },
  {
   "cell_type": "markdown",
   "metadata": {},
   "source": [
    "# Developmental Detour : -  <font color=\"blue\">Quantum Waves</font>\n",
    "\n",
    "<BR>\n",
    "\n",
    "![wavefunction](img/wavefunction.png \"wavefunction\")"
   ]
  },
  {
   "cell_type": "markdown",
   "metadata": {},
   "source": [
    "## The Wave Function\n",
    "\n",
    "> The **Wave Function** is central to Quantum Computing so there is a need to grasp it conceptually.\n",
    "- **<font color=\"red\">However</font>**, the term <font color=\"blue\">**“wave”**</font> is used in quantum physics **only used as an analogy** to the classical waves that we see in everyday life; quantum waves are **<font color=\"red\">not</font>** at all the same thing as everyday waves.\n",
    "\n",
    "#### Difference between a classical wave and a quantum wave : <font color=\"red\">Interference</font>.\n",
    "\n",
    "> The below animation illustrates the **key difference** between quantum waves and classical types - **\"Interference\"**.\n",
    "\n",
    "> Comparison of classical and quantum harmonic oscillator conceptions. **The two processes differ greatly.** \n",
    "\n",
    "- The classical process (A–B) is represented as the motion of a particle along a trajectory. The quantum process (C–H) has no such trajectory. Rather, it is represented as a wave; here, the vertical axis shows the **real part** (<font color=\"blue\">**blue**</font>) and **imaginary part** (<font color=\"red\">**red**</font>) of the wave function. Panels (C–F) show four different **standing-wave** solutions of the Schrödinger equation. **Panels (G–H)** further show two different wave functions that are solutions of the **Schrödinger equation** but not standing waves.\n",
    "\n",
    "\n",
    "- https://en.wikipedia.org/wiki/Wave_function\n",
    "\n",
    "\n",
    "<table><tr><td><img src='img/QuantumHarmonicOscillatorAnimation.gif'></td><td><img src='img/wave-interference.png'></td></tr></table>\n",
    "\n",
    "\n",
    "> **<font color=\"red\">Note:</font>** - Wave **Interference** can be either **Constructive** or **Destructive**."
   ]
  },
  {
   "cell_type": "markdown",
   "metadata": {},
   "source": [
    "### Explore waves using the Phet Interactive Wave Simulator"
   ]
  },
  {
   "cell_type": "code",
   "execution_count": 1,
   "metadata": {
    "scrolled": false
   },
   "outputs": [
    {
     "data": {
      "text/html": [
       "\n",
       "        <iframe\n",
       "            width=\"900\"\n",
       "            height=\"900\"\n",
       "            src=\"https://phet.colorado.edu/sims/html/waves-intro/latest/waves-intro_en.html\"\n",
       "            frameborder=\"0\"\n",
       "            allowfullscreen\n",
       "        ></iframe>\n",
       "        "
      ],
      "text/plain": [
       "<IPython.lib.display.IFrame at 0x1972cd02f60>"
      ]
     },
     "execution_count": 1,
     "metadata": {},
     "output_type": "execute_result"
    }
   ],
   "source": [
    "from IPython.display import IFrame\n",
    "IFrame(src='https://phet.colorado.edu/sims/html/waves-intro/latest/waves-intro_en.html', width=900, height=900)"
   ]
  },
  {
   "cell_type": "code",
   "execution_count": null,
   "metadata": {},
   "outputs": [],
   "source": []
  },
  {
   "cell_type": "markdown",
   "metadata": {},
   "source": [
    "# Developmental Detour : -  <font color=\"blue\">Quantum Interference</font>\n",
    "\n",
    "<BR>\n",
    "\n",
    "![interference-fisherman](img/interference-fishermen.png \"interference-fisherman\")\n",
    "\n",
    "<BR>\n",
    "    \n",
    "![interference-animated](img/interference-animated.gif \"interference-animated\")    \n",
    "    \n",
    "<BR>    \n",
    "    \n",
    "<table><tr><td><img src='img/wave-interference.png'></td></tr></table>\n",
    "\n",
    "\n",
    "> A fundamental idea in quantum computing is to **control** the probability a system of qubits collapses into particular measurement states. **Quantum interference**, a byproduct of superposition, is what allows us to **bias** the measurement of a qubit **toward a desired state or set of states**."
   ]
  },
  {
   "cell_type": "markdown",
   "metadata": {},
   "source": [
    "### Explore Interference using the Phet Interactive Wave Simulator"
   ]
  },
  {
   "cell_type": "code",
   "execution_count": 2,
   "metadata": {},
   "outputs": [
    {
     "data": {
      "text/html": [
       "\n",
       "        <iframe\n",
       "            width=\"900\"\n",
       "            height=\"900\"\n",
       "            src=\"https://phet.colorado.edu/sims/html/wave-interference/latest/wave-interference_en.html\"\n",
       "            frameborder=\"0\"\n",
       "            allowfullscreen\n",
       "        ></iframe>\n",
       "        "
      ],
      "text/plain": [
       "<IPython.lib.display.IFrame at 0x1972cd2b2e8>"
      ]
     },
     "execution_count": 2,
     "metadata": {},
     "output_type": "execute_result"
    }
   ],
   "source": [
    "from IPython.display import IFrame\n",
    "IFrame(src='https://phet.colorado.edu/sims/html/wave-interference/latest/wave-interference_en.html', width=900, height=900)"
   ]
  },
  {
   "cell_type": "markdown",
   "metadata": {},
   "source": [
    "# <font color=\"red\">Exercise</font> - Quantum Interference : <font color=\"blue\"> Simons Algorithm with QUIRK</font> \n",
    "\n",
    "\n",
    "\n",
    "### Commentary:\n",
    "- Interference is difficult to observe directly even in the simulators, so we have to examine it's effects on circuits in instances where it's known to occur and then use a \"before-after\" scenario.\n",
    "\n",
    "> In the implementation of Simon's algorithm below for the function **f(x)=f(x⊕s), s=11** one can <font color=\"red\">*see the interference after the application of the 2nd Hadamard gate*</font>. \n",
    "- **Initially**, all basis states are *equally likely*, **then** *inteference kicks in with the Hadamard*, and you end up with only **|00>** or **|11>**.\n",
    "\n",
    "<BR>\n",
    "\n",
    "### BEFORE Interference\n",
    "\n",
    "![InterferenceSimonAlgorithm-Before](img/InterferenceSimonAlgorithm-Before.png \"InterferenceSimonAlgorithm-Before\")\n",
    "\n",
    "<BR>\n",
    "\n",
    "### AFTER Interference\n",
    "\n",
    "![InterferenceSimonAlgorithm-After](img/InterferenceSimonAlgorithm-After.png \"InterferenceSimonAlgorithm-After\")\n",
    "\n",
    "\n",
    "### INSTRUCTIONS:\n",
    "\n",
    "> Experiment removing and adding back the 2nd H Gate to gain intuition as to the behavior of the Quantum Interference."
   ]
  },
  {
   "cell_type": "code",
   "execution_count": 19,
   "metadata": {},
   "outputs": [
    {
     "data": {
      "text/html": [
       "\n",
       "        <iframe\n",
       "            width=\"900\"\n",
       "            height=\"600\"\n",
       "            src=\"https://algassert.com/quirk#circuit={%22cols%22:[[%22H%22,%22H%22],[%22%E2%80%A2%22,1,%22X%22],[%22%E2%80%A2%22,1,1,%22X%22],[1,%22%E2%80%A2%22,%22X%22],[1,%22%E2%80%A2%22,1,%22X%22],[1,1,%22Measure%22,%22Measure%22],[%22Chance2%22],[%22H%22,%22H%22],[%22Chance2%22],[%22Measure%22],[1,%22Measure%22]]}\"\n",
       "            frameborder=\"0\"\n",
       "            allowfullscreen\n",
       "        ></iframe>\n",
       "        "
      ],
      "text/plain": [
       "<IPython.lib.display.IFrame at 0x1972cd2ba58>"
      ]
     },
     "execution_count": 19,
     "metadata": {},
     "output_type": "execute_result"
    }
   ],
   "source": [
    "# QUIRK (Quantum Circuit Simulator)\n",
    "from IPython.display import IFrame\n",
    "IFrame(src='https://algassert.com/quirk#circuit={%22cols%22:[[%22H%22,%22H%22],[%22%E2%80%A2%22,1,%22X%22],[%22%E2%80%A2%22,1,1,%22X%22],[1,%22%E2%80%A2%22,%22X%22],[1,%22%E2%80%A2%22,1,%22X%22],[1,1,%22Measure%22,%22Measure%22],[%22Chance2%22],[%22H%22,%22H%22],[%22Chance2%22],[%22Measure%22],[1,%22Measure%22]]}', width=900, height=600)"
   ]
  },
  {
   "cell_type": "code",
   "execution_count": null,
   "metadata": {},
   "outputs": [],
   "source": []
  },
  {
   "cell_type": "markdown",
   "metadata": {},
   "source": [
    "# Developmental Detour : -  <font color=\"blue\">Quantum Superposition</font>\n",
    "- #### **<font color=\"red\">Quantum Superposition is truly random</font>** .\n",
    "\n",
    "<BR>\n",
    "    \n",
    "![superposition](img/superposition.png \"superposition\")\n",
    "\n",
    "<BR>\n",
    "    \n",
    "> **SUPERPOSITION:** -The qubit is a unit of quantum information. As a **two-state system with superposition of both states at the <font color=\"red\">same</font> time**, it is fundamental to quantum computing. \n",
    "\n",
    "    \n",
    "> **<font color=\"red\">Note:</font>** \n",
    "- **One **<font color=\"blue\">Bit</font>**** can represent **two** different values, **“0”** and **“1”**.\n",
    "- **One **<font color=\"blue\">Qubit</font>**, unlike a bit, can take on an **<font color=\"red\">infinite</font>** number of values. Physicists call these the **<font color=\"red\">states</font>** of the qubit.\n",
    "\n",
    "\n",
    "> The Qubit (aka \"Quantum Bit\") has binary **\"On\" (1)** and **\"Off\" (0)** just like a digital bit, but it also has carries aspects of state zero and state one simultaneously (a quantum \"thing\") when it is in **\"superposition\"**.\n",
    "\n",
    "<BR>\n",
    "\n",
    "![Quantum_Bit_Diagram](img/Quantum_Bit_Diagram.png \"Quantum_Bit_Diagram\")\n",
    "\n",
    "<BR>\n",
    "    \n",
    "> Superposition is represented by any position of the Bloch Sphere that isn't definitively (0 or 1), aka **any point on the surface** of the sphere.\n",
    "    \n",
    "![Quantum_SuperpositionDiagram](img/Quantum_SuperpositionDiagram.png \"Quantum_SuperpositionDiagram\")\n",
    "\n",
    "\n",
    "<BR>\n",
    "    \n",
    "> Superposition results in a **perfectly random** bit after **\"measurement\"**.\n",
    "    \n",
    "![Quantum_Superposition_50-50](img/Quantum_Superposition_50-50.png \"Quantum_Superposition_50-50\")\n",
    "\n",
    "\n",
    "<BR>\n",
    "\n",
    "\n",
    ">  A <font color=\"red\">Single</font> Qubit can represent <font color=\"red\"> 2<sup>N</sup> </font> components in <font color=\"red\">one</font> state.\n",
    "    \n",
    "    \n",
    "**Q: How can a Qubit be in two states at once?**\n",
    "\n",
    "https://www.quora.com/How-can-a-qubit-hold-0-and-1-at-same-time\n",
    "\n",
    "**A:** Because it's underlying mathematical circuitry is vectors, and in superposition, any point on the curve is a function of the **|0>** and the **|1>** ket vectors. The Qubit stores **Zero** and **One** state information <font color=\"red\">at the same time </font> and quantum gates (matricies) executed against that qubit manipulate those underlying vectors. \n",
    "\n",
    "    \n",
    "<BR>\n",
    "    \n",
    "    \n",
    "![Quantum-2NStates](img/Quantum-2NStates.png \"Quantum-2NStates\")\n",
    "\n",
    "\n",
    "<BR>\n",
    "\n",
    "> Three Qubits can represent **<font color=\"red\"> 2<sup>3</sup> </font>** components in parrell and can also leverage **\"Quantum Interference\"** for massive computational power.\n",
    "\n",
    "<BR>\n",
    "    \n",
    "![Quantum_Parrallellisn-Interference](img/Quantum_Parrallellisn-Interference.png \"Quantum_Parrallellisn-Interference\")\n",
    "    \n",
    "\n",
    "<BR>"
   ]
  },
  {
   "cell_type": "markdown",
   "metadata": {},
   "source": [
    "## <font color=\"red\">Exercise:</font> Creating a Perfectly Random Quantum Bit : Qubit\n",
    "- Quantum Randomness is TRULY random, whereas random number generators, while funtionally random, theoretically are not.\n",
    "\n",
    "![One Random Bit](img/random_bit.png \"One Random Bit\")\n",
    "\n"
   ]
  },
  {
   "cell_type": "markdown",
   "metadata": {},
   "source": [
    "## <font color=\"red\">Exercise:</font> Using the **<font color=\"blue\">QCEngine</font>** to Explore a \"Perfectly Random Quantum Bit\".\n",
    "- Execute the code and interrogate the circuit while inspecting it's behavior via the circle plots.\n",
    "- Try running the code multiple times, what happens?\n"
   ]
  },
  {
   "cell_type": "code",
   "execution_count": 4,
   "metadata": {
    "scrolled": false
   },
   "outputs": [
    {
     "data": {
      "text/html": [
       "\n",
       "        <iframe\n",
       "            width=\"900\"\n",
       "            height=\"900\"\n",
       "            src=\"https://oreilly-qc.github.io?p=2-1\"\n",
       "            frameborder=\"0\"\n",
       "            allowfullscreen\n",
       "        ></iframe>\n",
       "        "
      ],
      "text/plain": [
       "<IPython.lib.display.IFrame at 0x1972cd2b400>"
      ]
     },
     "execution_count": 4,
     "metadata": {},
     "output_type": "execute_result"
    }
   ],
   "source": [
    "from IPython.display import IFrame\n",
    "IFrame(src='https://oreilly-qc.github.io?p=2-1', width=900, height=900)"
   ]
  },
  {
   "cell_type": "markdown",
   "metadata": {},
   "source": [
    "## <font color=\"red\">Exercise:</font> Using **<font color=\"blue\">QUIRK</font>** to Explore a \"Perfectly Random Quantum Bit\".\n",
    "- Visually inspect the behavior of the Bloch Sphere.\n",
    "- Notice the behavior of the Amplitudes (Magnitudes and Phases) changes."
   ]
  },
  {
   "cell_type": "code",
   "execution_count": 5,
   "metadata": {},
   "outputs": [
    {
     "data": {
      "text/html": [
       "\n",
       "        <iframe\n",
       "            width=\"900\"\n",
       "            height=\"600\"\n",
       "            src=\"https://algassert.com/quirk#circuit={%22cols%22:[[%22H%22],[%22%E2%80%A6%22],[%22~87lj%22],[%22Bloch%22],[%22Density%22],[%22%E2%80%A6%22]],%22gates%22:[{%22id%22:%22~87lj%22,%22name%22:%22message%22,%22circuit%22:{%22cols%22:[[%22e^-iYt%22],[%22X^t%22]]}},{%22id%22:%22~f7c0%22,%22name%22:%22received%22,%22matrix%22:%22{{1,0},{0,1}}%22}]}\"\n",
       "            frameborder=\"0\"\n",
       "            allowfullscreen\n",
       "        ></iframe>\n",
       "        "
      ],
      "text/plain": [
       "<IPython.lib.display.IFrame at 0x1972cd2b390>"
      ]
     },
     "execution_count": 5,
     "metadata": {},
     "output_type": "execute_result"
    }
   ],
   "source": [
    "# QUIRK (Quantum Curcuit Simulator) \n",
    "from IPython.display import IFrame\n",
    "IFrame(src='https://algassert.com/quirk#circuit={%22cols%22:[[%22H%22],[%22%E2%80%A6%22],[%22~87lj%22],[%22Bloch%22],[%22Density%22],[%22%E2%80%A6%22]],%22gates%22:[{%22id%22:%22~87lj%22,%22name%22:%22message%22,%22circuit%22:{%22cols%22:[[%22e^-iYt%22],[%22X^t%22]]}},{%22id%22:%22~f7c0%22,%22name%22:%22received%22,%22matrix%22:%22{{1,0},{0,1}}%22}]}', width=900, height=600)"
   ]
  },
  {
   "cell_type": "markdown",
   "metadata": {},
   "source": [
    "## <font color=\"red\">Exercise:</font> Using **<font color=\"blue\">Qiskit</font>** to Explore a \"Perfectly Random Quantum Bit\".\n",
    "- Run this program multiple times to develop intuition as to the behavior of the circuit using the Circle Plots.\n",
    "\n",
    "### Setup the Program"
   ]
  },
  {
   "cell_type": "code",
   "execution_count": 6,
   "metadata": {},
   "outputs": [
    {
     "name": "stdout",
     "output_type": "stream",
     "text": [
      "counts: {'0': 1}\n",
      "Output State:  [1.+0.j 0.+0.j]\n",
      "Display State 1.0  |1>   \n"
     ]
    },
    {
     "data": {
      "image/png": "[encoded data removed]",
      "text/plain": [
       "<Figure size 288x144 with 2 Axes>"
      ]
     },
     "metadata": {
      "needs_background": "light"
     },
     "output_type": "display_data"
    }
   ],
   "source": [
    "from qiskit import QuantumCircuit, QuantumRegister, ClassicalRegister, execute, Aer, IBMQ, BasicAer\n",
    "import math\n",
    "import matplotlib.pyplot as P\n",
    "import matplotlib.pyplot as plt\n",
    "from Our_Qiskit_Functions import *\n",
    "import cmath\n",
    "\n",
    "\n",
    "## Uncomment the next line to see diagrams when running in a notebook\n",
    "%matplotlib inline\n",
    "\n",
    "\n",
    "# Helper Funtion for Normalizing State Vectors\n",
    "#\n",
    "def normalize_state_Vector(state_vector):\n",
    "    for result in state_vector:\n",
    "        print(\"Normalized Result: \" , round( np.abs(result)**2, 1) )\n",
    "        \n",
    "        \n",
    "# Helper Funtion for print Polar Phase(s)\n",
    "#      \n",
    "def plot_polar(state_vector):\n",
    "    pi_radians = 180;\n",
    "    for x in state_vector:\n",
    "        plt.polar([0,cmath.phase(x)],[0,abs(x)],marker='o')\n",
    "        print(\"The original complex number Re{%d}, Im{%d}, and Length : %f\" % (x.real, x.imag, abs(x)))\n",
    "        print(\"Phase: \",cmath.phase(x))\n",
    "        if cmath.phase(x) != 0:\n",
    "            print(\"Angle: \", pi_radians/(np.pi/cmath.phase(x)))\n",
    "\n",
    "\n",
    "## Example 2-1: Random bit\n",
    "# Set up the program\n",
    "reg = QuantumRegister(1, name='reg')\n",
    "reg_c = ClassicalRegister(1, name='regc')\n",
    "qc = QuantumCircuit(reg, reg_c)\n",
    "\n",
    "qc.reset(reg)          # write the value 0\n",
    "qc.h(reg)              # put it into a superposition of 0 and 1\n",
    "qc.measure(reg, reg_c) # read the result as a digital bit\n",
    "\n",
    "backend = BasicAer.get_backend('statevector_simulator')\n",
    "job = execute(qc, backend)\n",
    "result = job.result()\n",
    "\n",
    "counts = result.get_counts(qc)\n",
    "print('counts:',counts)\n",
    "\n",
    "outputstate = result.get_statevector(qc, decimals=3)\n",
    "print(\"Output State: \", outputstate)\n",
    "print(\"Display State\", Wavefunction(qc))\n",
    "\n",
    "\n",
    "qc.draw(output='mpl')        # draw the circuit\n",
    "\n",
    "# Print out Circle Notation\n",
    "\n",
    "from circle_plot import *\n",
    "plot_circles(outputstate)\n"
   ]
  },
  {
   "cell_type": "markdown",
   "metadata": {},
   "source": [
    "### Polar Plots\n",
    "- How does this plot change if the Qubit is ZERO or ONE?"
   ]
  },
  {
   "cell_type": "code",
   "execution_count": 7,
   "metadata": {},
   "outputs": [
    {
     "name": "stdout",
     "output_type": "stream",
     "text": [
      "The original complex number Re{1}, Im{0}, and Length : 1.000000\n",
      "Phase:  0.0\n",
      "The original complex number Re{0}, Im{0}, and Length : 0.000000\n",
      "Phase:  0.0\n"
     ]
    },
    {
     "data": {
      "image/png": "[encoded data removed]",
      "text/plain": [
       "<Figure size 432x288 with 1 Axes>"
      ]
     },
     "metadata": {
      "needs_background": "light"
     },
     "output_type": "display_data"
    }
   ],
   "source": [
    "# Plot Polar Coordinates for intuitions sake - provides an idea of the angle of the plot on the curve  \n",
    "# Plot both vectors and phase / angle (if non-zero)\n",
    "\n",
    "P.clf()\n",
    "sp = P.subplot(1, 1, 1, projection='polar')\n",
    "sp.set_theta_zero_location('N')\n",
    "sp.set_theta_direction(1)\n",
    "\n",
    "plot_polar(outputstate)"
   ]
  },
  {
   "cell_type": "code",
   "execution_count": null,
   "metadata": {},
   "outputs": [],
   "source": []
  },
  {
   "cell_type": "markdown",
   "metadata": {},
   "source": [
    "## <font color=\"red\">Exercise:</font> Creating a Perfectly Random Quantum Byte : QuByte\n",
    "- Explore the power of Exponential Growth of states when an additional Qubit is added.\n",
    "\n",
    "<BR>\n",
    "\n",
    "![One Random Byte](img/random_byte.png \"One Random Byte\")\n"
   ]
  },
  {
   "cell_type": "markdown",
   "metadata": {},
   "source": [
    "## <font color=\"blue\">Discussion</font>:\n",
    "\n",
    "> *The true power of quantum computing only becomes evident* as we **increase the number of qubits**. This power arises, in part, because the **dimension** of the vector space of quantum state vectors **grows exponentially** with the number of qubits.\n",
    "\n",
    "> **<font color=\"red\">Every time we add a qubit to a quantum system the state space</font> <font color=\"blue\">doubles</font> in dimension** - this is because we *multiply the dimension of the original system’s state space by 2 when the new qubit is added*. \n",
    "- A **3-qubit** quantum system has a state space of **dimension of eight (8) : 2<sup>3</sup>**. \n",
    "- An **n-qubit** system’s state space has **<font color=\"red\"> 2<sup>N</sup> </font>** dimensions.\n",
    "\n"
   ]
  },
  {
   "cell_type": "markdown",
   "metadata": {},
   "source": [
    "## <font color=\"red\">Exercise:</font> Using **<font color=\"blue\">QCEngine</font>** to Explore a \"Perfectly Random Quantum Byte\".\n",
    "\n",
    "> - Run the code multiple times and inspect the circuit diagram and the output panes.\n",
    "\n",
    "- **QCEngine:** https://oreilly-qc.github.io\n",
    "- **Docs:** https://oreilly-qc.github.io/docs/build/\n",
    "- **Book:** https://www.amazon.com/Programming-Quantum-Computers-Essential-Algorithms/dp/1492039683"
   ]
  },
  {
   "cell_type": "code",
   "execution_count": 6,
   "metadata": {
    "scrolled": false
   },
   "outputs": [
    {
     "data": {
      "text/html": [
       "\n",
       "        <iframe\n",
       "            width=\"900\"\n",
       "            height=\"900\"\n",
       "            src=\"https://oreilly-qc.github.io?p=2-2\"\n",
       "            frameborder=\"0\"\n",
       "            allowfullscreen\n",
       "        ></iframe>\n",
       "        "
      ],
      "text/plain": [
       "<IPython.lib.display.IFrame at 0x1972cd2b470>"
      ]
     },
     "execution_count": 6,
     "metadata": {},
     "output_type": "execute_result"
    }
   ],
   "source": [
    "from IPython.display import IFrame\n",
    "IFrame(src='https://oreilly-qc.github.io?p=2-2', width=900, height=900)"
   ]
  },
  {
   "cell_type": "markdown",
   "metadata": {},
   "source": [
    "> **<font color=\"red\">Reminder:</font>** \n",
    "- **One **<font color=\"blue\">Qubit</font>****, unlike a bit, can take on an **<font color=\"red\">infinite</font>** number of values. Physicists call these the **<font color=\"red\">states</font>** of the qubit.\n",
    "\n",
    "\n",
    "- These Qubits of the below circuit are **<font color=\"red\">not</font>** entangled."
   ]
  },
  {
   "cell_type": "markdown",
   "metadata": {},
   "source": [
    "## <font color=\"red\">Exercise:</font> Using **<font color=\"blue\">QUIRK</font>** to Explore a \"Perfectly Random Quantum Byte\".\n"
   ]
  },
  {
   "cell_type": "markdown",
   "metadata": {},
   "source": [
    "### Review of Quantum Parallelism (Multiple Qubits): The Qu<font color=\"red\">Byte</font> (aka - 8 Qu<font color=\"red\">Bits</font>)\n",
    "- **Visual Representation of the Exponetial Number of States** qubits can hold.\n",
    "- Pay attention to the **number of states that get represented** just by the process of **adding one more qubit**.\n",
    "- **Note:** These are **non-entangled** Qubits\n",
    "\n",
    "> **Observe**: - **<font color=\"red\"> 2<sup>8</sup> </font>** is **<font color=\"blue\">256</font>** States - which are all represented below - with just **<font color=\"red\">eight</font>** qubits."
   ]
  },
  {
   "cell_type": "code",
   "execution_count": 7,
   "metadata": {},
   "outputs": [
    {
     "data": {
      "text/html": [
       "\n",
       "        <iframe\n",
       "            width=\"900\"\n",
       "            height=\"900\"\n",
       "            src=\"https://algassert.com/quirk#circuit={%22cols%22:[[%22H%22,%22H%22,%22H%22,%22H%22,%22H%22,%22H%22,%22H%22,%22H%22],[%22%E2%80%A6%22,%22%E2%80%A6%22,%22%E2%80%A6%22,%22%E2%80%A6%22,%22%E2%80%A6%22,%22%E2%80%A6%22,%22%E2%80%A6%22,%22%E2%80%A6%22],[%22~87lj%22,%22~87lj%22,%22~87lj%22,%22~87lj%22,%22~87lj%22,%22~87lj%22,%22~87lj%22,%22~87lj%22],[%22Bloch%22,%22Bloch%22,%22Bloch%22,%22Bloch%22,%22Bloch%22,%22Bloch%22,%22Bloch%22,%22Bloch%22],[%22Density%22,%22Density%22,%22Density%22,%22Density%22,%22Density%22,%22Density%22,%22Density%22,%22Density%22],[%22%E2%80%A6%22,%22%E2%80%A6%22,%22%E2%80%A6%22,%22%E2%80%A6%22,%22%E2%80%A6%22,%22%E2%80%A6%22,%22%E2%80%A6%22,%22%E2%80%A6%22]],%22gates%22:[{%22id%22:%22~87lj%22,%22name%22:%22message%22,%22circuit%22:{%22cols%22:[[%22e^-iYt%22],[%22X^t%22]]}},{%22id%22:%22~f7c0%22,%22name%22:%22received%22,%22matrix%22:%22{{1,0},{0,1}}%22}]}\"\n",
       "            frameborder=\"0\"\n",
       "            allowfullscreen\n",
       "        ></iframe>\n",
       "        "
      ],
      "text/plain": [
       "<IPython.lib.display.IFrame at 0x1972cd2b438>"
      ]
     },
     "execution_count": 7,
     "metadata": {},
     "output_type": "execute_result"
    }
   ],
   "source": [
    "# QUIRK (Quantum Curcuit Simulator) of the Random QuByte\n",
    "from IPython.display import IFrame\n",
    "IFrame(src='https://algassert.com/quirk#circuit={%22cols%22:[[%22H%22,%22H%22,%22H%22,%22H%22,%22H%22,%22H%22,%22H%22,%22H%22],[%22%E2%80%A6%22,%22%E2%80%A6%22,%22%E2%80%A6%22,%22%E2%80%A6%22,%22%E2%80%A6%22,%22%E2%80%A6%22,%22%E2%80%A6%22,%22%E2%80%A6%22],[%22~87lj%22,%22~87lj%22,%22~87lj%22,%22~87lj%22,%22~87lj%22,%22~87lj%22,%22~87lj%22,%22~87lj%22],[%22Bloch%22,%22Bloch%22,%22Bloch%22,%22Bloch%22,%22Bloch%22,%22Bloch%22,%22Bloch%22,%22Bloch%22],[%22Density%22,%22Density%22,%22Density%22,%22Density%22,%22Density%22,%22Density%22,%22Density%22,%22Density%22],[%22%E2%80%A6%22,%22%E2%80%A6%22,%22%E2%80%A6%22,%22%E2%80%A6%22,%22%E2%80%A6%22,%22%E2%80%A6%22,%22%E2%80%A6%22,%22%E2%80%A6%22]],%22gates%22:[{%22id%22:%22~87lj%22,%22name%22:%22message%22,%22circuit%22:{%22cols%22:[[%22e^-iYt%22],[%22X^t%22]]}},{%22id%22:%22~f7c0%22,%22name%22:%22received%22,%22matrix%22:%22{{1,0},{0,1}}%22}]}', width=900, height=900)"
   ]
  },
  {
   "cell_type": "markdown",
   "metadata": {},
   "source": [
    "## <font color=\"red\">Exercise:</font> Using **<font color=\"blue\">Qiskit</font>** to Explore a \"Perfectly Random Quantum Byte\".\n",
    "\n",
    "### Setup and run the program\n",
    "- Run the code multiple times."
   ]
  },
  {
   "cell_type": "code",
   "execution_count": 10,
   "metadata": {},
   "outputs": [
    {
     "name": "stdout",
     "output_type": "stream",
     "text": [
      "Binary Number:  01111110\n",
      "Random number: 126\n"
     ]
    },
    {
     "data": {
      "image/png": "[encoded data removed]",
      "text/plain": [
       "<Figure size 862.064x565.88 with 1 Axes>"
      ]
     },
     "execution_count": 10,
     "metadata": {},
     "output_type": "execute_result"
    }
   ],
   "source": [
    "from qiskit import QuantumCircuit, QuantumRegister, ClassicalRegister, execute, Aer, IBMQ, BasicAer\n",
    "import math\n",
    "import matplotlib.pyplot as P\n",
    "import matplotlib.pyplot as plt\n",
    "from Our_Qiskit_Functions import *\n",
    "import cmath\n",
    "\n",
    "\n",
    "## Uncomment the next line to see diagrams when running in a notebook\n",
    "%matplotlib inline\n",
    "\n",
    "\n",
    "# Helper Funtion for Normalizing State Vectors\n",
    "#\n",
    "def normalize_state_Vector(state_vector):\n",
    "    for result in state_vector:\n",
    "        print(\"Normalized Result: \" , round( np.abs(result)**2, 1) )\n",
    "        \n",
    "        \n",
    "# Helper Funtion for print Polar Phase(s)\n",
    "#      \n",
    "def plot_polar(state_vector):\n",
    "    pi_radians = 180;\n",
    "    for x in state_vector:\n",
    "        plt.polar([0,cmath.phase(x)],[0,abs(x)],marker='o')\n",
    "        print(\"The original complex number Re{%d}, Im{%d}, and Length : %f\" % (x.real, x.imag, abs(x)))\n",
    "        print(\"Phase: \",cmath.phase(x))\n",
    "        if cmath.phase(x) != 0:\n",
    "            print(\"Angle: \", pi_radians/(np.pi/cmath.phase(x)))\n",
    "            \n",
    "            \n",
    "\n",
    "## Example 2-2: Random byte\n",
    "# Set up the program\n",
    "reg = QuantumRegister(8, name='reg')\n",
    "reg_c = ClassicalRegister(8, name='regc')\n",
    "qc = QuantumCircuit(reg, reg_c)\n",
    "\n",
    "qc.reset(reg)          # write the value 0\n",
    "qc.h(reg)              # put it into a superposition of 0 and 1\n",
    "qc.measure(reg, reg_c) # read the result as a digital bit\n",
    "\n",
    "backend = BasicAer.get_backend('statevector_simulator')\n",
    "job = execute(qc, backend)\n",
    "result = job.result()\n",
    "outputstate = result.get_statevector(qc, decimals=3)\n",
    "\n",
    "\n",
    "# Convert the result into a random number\n",
    "counts = result.get_counts(qc)\n",
    "# print('Binary Number and count:',counts)\n",
    "\n",
    "for k in counts:\n",
    "    binary_number = ''.join(reversed(k))\n",
    "    print(\"Binary Number: \", binary_number)\n",
    "    \n",
    "for key,val in counts.items():\n",
    "    n = sum([(int(x) << i) for i,x in enumerate(key)])\n",
    "    print('Random number:', n)\n",
    "\n",
    "qc.draw(output='mpl')        # draw the circuit\n"
   ]
  },
  {
   "cell_type": "markdown",
   "metadata": {},
   "source": [
    "### Verify the Binary to Decimal conversions here:\n",
    "- https://www.rapidtables.com/convert/number/binary-to-decimal.html"
   ]
  },
  {
   "cell_type": "code",
   "execution_count": null,
   "metadata": {},
   "outputs": [],
   "source": []
  },
  {
   "cell_type": "markdown",
   "metadata": {},
   "source": [
    "# Developmental Detour : -  <font color=\"blue\">Quantum Entanglement</font>\n",
    "\n",
    "- **<font color=\"red\">Definition:</font>** *Quantum entanglement is a quantum mechanical phenomenon* in which **the quantum states of two or more objects have to be described with reference to each other (aka - a <font color=\"red\">shared</font> state amoung them)**, even though the individual objects may be spatially separated.\n",
    "\n",
    "\n",
    "- Reasonable Metaphor: **Marriage**. What affects one qubit, affects the other in the **opposite manner** after \"measurement\".\n",
    "\n",
    "\n",
    "- The entangled quantum (shared) states **grow exponentially with the number of qubits added** to the system.\n",
    "\n",
    "- **Gaining access** to these entangled quantum states is the **key to exploiting** the exponential large computational power of quantum systems.\n",
    "\n",
    "\n",
    "- Quantum entanglement has applications in the emerging technologies of quantum computing and quantum cryptography, and has been used to realize quantum teleportation experimentally.\n",
    "\n",
    "<BR>\n",
    "    \n",
    "    \n",
    "#### Definition:    \n",
    "- https://www.sciencedaily.com/terms/quantum_entanglement.htm\n",
    "\n",
    "<BR>\n",
    "\n",
    "![Quantum Entanglement](img/entanglement.png \"Quantum Entanglement\")\n",
    "\n",
    "<BR>\n",
    "    \n",
    "    \n",
    "### Background Videos:\n",
    "\n",
    "#### UNSW: Quantum Computing Concepts – Entanglement Video:\n",
    "- https://www.youtube.com/watch?v=EjdIMBOWCWo&list=PLHSIfioizVW2uC27IFkHlSc-NgvZjBliZ&index=6\n",
    "\n",
    "#### Quantum Entanglement & Spooky Action at a Distance - Video:\n",
    "- https://www.youtube.com/watch?v=ZuvK-od647c\n",
    "\n",
    "\n"
   ]
  },
  {
   "cell_type": "markdown",
   "metadata": {},
   "source": [
    "> **<font color=\"red\">Note:</font>** Entanglement gives Qunatum Computing the ability to scale **exponentially** - and along with *superposition* and *interference*, is a **key differentiator** in quantum computing.\n",
    "\n",
    "- If one qubit simultaneously represents two states, two qubits represents four states when coupled together (entangled). **They can no longer be treated independently**, they now form a coupled (or entangled) super state.\n",
    "\n",
    "\n",
    "- As more qubits link together, the number of states **exponentially increases** - which leads to *astronomically large computing power*.\n"
   ]
  },
  {
   "cell_type": "markdown",
   "metadata": {},
   "source": [
    "## <font color=\"red\">Exercise:</font> Using **<font color=\"blue\">QUIRK</font>** to explore **<font color=\"red\">two</font>** entangled qubits\n"
   ]
  },
  {
   "cell_type": "markdown",
   "metadata": {},
   "source": [
    "### Move the \"message gate\" up and down each qubit wire \n",
    "- **<font color=\"red\">Observe</font>** how the activity propagates through out the entirety of the entangled circuit\n",
    "- **<font color=\"red\">Notice</font>** the Bloch spheres have **\"given up\"** because the qubits are entangled and can no longer **describe their states independently** - *Instead look at the amplitude display to see the state of the full system*. \n",
    "- **Move** the message gate to both qubits and **observe** that changes to one affect the other (*as they are entangled*).\n",
    "- **Move** the message gate to the LHS of both qubits and **observe** that changes to one affect the other (*as they are entangled*)."
   ]
  },
  {
   "cell_type": "code",
   "execution_count": 1,
   "metadata": {
    "scrolled": false
   },
   "outputs": [
    {
     "data": {
      "text/html": [
       "\n",
       "        <iframe\n",
       "            width=\"900\"\n",
       "            height=\"600\"\n",
       "            src=\"https://algassert.com/quirk#circuit={%22cols%22:[[%22H%22],[%22%E2%80%A2%22,%22X%22],[%22~87lj%22],[%22Bloch%22,%22Bloch%22],[%22Chance2%22],[%22Density2%22],[],[%22Measure%22,%22Measure%22]],%22gates%22:[{%22id%22:%22~87lj%22,%22name%22:%22message%22,%22circuit%22:{%22cols%22:[[%22e^-iYt%22],[%22X^t%22]]}},{%22id%22:%22~f7c0%22,%22name%22:%22received%22,%22matrix%22:%22{{1,0},{0,1}}%22}]}\"\n",
       "            frameborder=\"0\"\n",
       "            allowfullscreen\n",
       "        ></iframe>\n",
       "        "
      ],
      "text/plain": [
       "<IPython.lib.display.IFrame at 0x15b4ea22ac8>"
      ]
     },
     "execution_count": 1,
     "metadata": {},
     "output_type": "execute_result"
    }
   ],
   "source": [
    "# QUIRK (Quantum Curcuit Simulator) \n",
    "from IPython.display import IFrame\n",
    "IFrame(src='https://algassert.com/quirk#circuit={%22cols%22:[[%22H%22],[%22%E2%80%A2%22,%22X%22],[%22~87lj%22],[%22Bloch%22,%22Bloch%22],[%22Chance2%22],[%22Density2%22],[],[%22Measure%22,%22Measure%22]],%22gates%22:[{%22id%22:%22~87lj%22,%22name%22:%22message%22,%22circuit%22:{%22cols%22:[[%22e^-iYt%22],[%22X^t%22]]}},{%22id%22:%22~f7c0%22,%22name%22:%22received%22,%22matrix%22:%22{{1,0},{0,1}}%22}]}', width=900, height=600)"
   ]
  },
  {
   "cell_type": "markdown",
   "metadata": {},
   "source": [
    "## <font color=\"red\">Exercise:</font> Using **<font color=\"blue\">QUIRK</font>** to explore **<font color=\"red\">multiple</font>** entangled qubits\n",
    "- **<font color=\"red\">Observe</font>** how the activity propagates through out the entirety of the entangled circuit\n",
    "- **<font color=\"red\">Notice</font>** the Bloch spheres have \"given up\" because the qubits are entangled and can no longer **describe their states independently** - Instead look at the amplitude display to see the state of the full system. "
   ]
  },
  {
   "cell_type": "code",
   "execution_count": 2,
   "metadata": {
    "scrolled": false
   },
   "outputs": [
    {
     "data": {
      "text/html": [
       "\n",
       "        <iframe\n",
       "            width=\"900\"\n",
       "            height=\"700\"\n",
       "            src=\"https://algassert.com/quirk#circuit={%22cols%22:[[%22H%22],[%22%E2%80%A2%22,%22X%22],[1,%22%E2%80%A2%22,%22X%22],[1,1,%22%E2%80%A2%22,%22X%22],[%22~87lj%22],[%22Bloch%22,%22Bloch%22,%22Bloch%22,%22Bloch%22],[%22Chance4%22],[%22Density4%22],[],[],[],[%22Measure%22,%22Measure%22,%22Measure%22,%22Measure%22]],%22gates%22:[{%22id%22:%22~87lj%22,%22name%22:%22message%22,%22circuit%22:{%22cols%22:[[%22e^-iYt%22],[%22X^t%22]]}},{%22id%22:%22~f7c0%22,%22name%22:%22received%22,%22matrix%22:%22{{1,0},{0,1}}%22}]}\"\n",
       "            frameborder=\"0\"\n",
       "            allowfullscreen\n",
       "        ></iframe>\n",
       "        "
      ],
      "text/plain": [
       "<IPython.lib.display.IFrame at 0x15b4ea42048>"
      ]
     },
     "execution_count": 2,
     "metadata": {},
     "output_type": "execute_result"
    }
   ],
   "source": [
    "# QUIRK (Quantum Curcuit Simulator) \n",
    "from IPython.display import IFrame\n",
    "IFrame(src='https://algassert.com/quirk#circuit={%22cols%22:[[%22H%22],[%22%E2%80%A2%22,%22X%22],[1,%22%E2%80%A2%22,%22X%22],[1,1,%22%E2%80%A2%22,%22X%22],[%22~87lj%22],[%22Bloch%22,%22Bloch%22,%22Bloch%22,%22Bloch%22],[%22Chance4%22],[%22Density4%22],[],[],[],[%22Measure%22,%22Measure%22,%22Measure%22,%22Measure%22]],%22gates%22:[{%22id%22:%22~87lj%22,%22name%22:%22message%22,%22circuit%22:{%22cols%22:[[%22e^-iYt%22],[%22X^t%22]]}},{%22id%22:%22~f7c0%22,%22name%22:%22received%22,%22matrix%22:%22{{1,0},{0,1}}%22}]}', width=900, height=700)"
   ]
  },
  {
   "cell_type": "markdown",
   "metadata": {},
   "source": [
    "## <font color=\"red\">Exercise:</font>  Using **<font color=\"blue\">QCEngine</font>** to explore **<font color=\"red\">two</font>** Entangled Qubits\n",
    "\n",
    "> **<font color=\"red\">NOTICE</font>** - what happens to one qubit also happens to the \"entangled\" qubit(s) as well.\n",
    "- Run and re-run the program and observe the different results. **What happens when one qubit changes?**\n",
    "\n",
    "<BR><BR>\n",
    "\n",
    "![Quantum Entanglement Circuit](img/bells_pair.png \"Quantum Entanglement Circuit\")"
   ]
  },
  {
   "cell_type": "code",
   "execution_count": 3,
   "metadata": {
    "scrolled": false
   },
   "outputs": [
    {
     "data": {
      "text/html": [
       "\n",
       "        <iframe\n",
       "            width=\"900\"\n",
       "            height=\"600\"\n",
       "            src=\"https://oreilly-qc.github.io?p=3-2\"\n",
       "            frameborder=\"0\"\n",
       "            allowfullscreen\n",
       "        ></iframe>\n",
       "        "
      ],
      "text/plain": [
       "<IPython.lib.display.IFrame at 0x15b4ea42438>"
      ]
     },
     "execution_count": 3,
     "metadata": {},
     "output_type": "execute_result"
    }
   ],
   "source": [
    "# QUIRK (Quantum Curcuit Simulator) \n",
    "from IPython.display import IFrame\n",
    "IFrame(src='https://oreilly-qc.github.io?p=3-2', width=900, height=600)"
   ]
  },
  {
   "cell_type": "markdown",
   "metadata": {},
   "source": [
    "## <font color=\"red\">Exercise:</font> Using **<font color=\"blue\">Qiskit</font>** to explore **<font color=\"red\">two</font>** Entangled Qubits\n",
    "\n",
    "> **NOTICE** - what happens to one qubit also happens to the \"entangled\" qubit(s) as well - the outputs counts are either (0:0) or (1:1).\n",
    "- Run and re-run the program and observe the different results. **Why are they different?**\n",
    "\n",
    "### Setup the program\n",
    "- Run this multiple times.\n",
    "- What ever the measurement is for Qubit #1, Qubit #2 also takes on that measured value."
   ]
  },
  {
   "cell_type": "code",
   "execution_count": 28,
   "metadata": {},
   "outputs": [
    {
     "name": "stdout",
     "output_type": "stream",
     "text": [
      "counts: {'1 1': 1}\n"
     ]
    }
   ],
   "source": [
    "from qiskit import QuantumCircuit, QuantumRegister, ClassicalRegister, execute, Aer, IBMQ, BasicAer\n",
    "import math\n",
    "import matplotlib.pyplot as P\n",
    "import matplotlib.pyplot as plt\n",
    "from Our_Qiskit_Functions import *\n",
    "import cmath\n",
    "\n",
    "\n",
    "## Uncomment the next line to see diagrams when running in a notebook\n",
    "%matplotlib inline\n",
    "\n",
    "\n",
    "# Helper Funtion for Normalizing State Vectors\n",
    "#\n",
    "def normalize_state_Vector(state_vector):\n",
    "    print(\"Normalized Result: \")\n",
    "    for result in state_vector:\n",
    "        print(round( np.abs(result)**2, 1) )\n",
    "                    \n",
    "            \n",
    "## Example 3-2: Entangled Qubits\n",
    "\n",
    "# Set up the quantum registers\n",
    "a = QuantumRegister(1, name='a')\n",
    "b = QuantumRegister(1, name='b')\n",
    "\n",
    "# Set up the classical registers\n",
    "a_c = ClassicalRegister(1, name='ac')\n",
    "b_c = ClassicalRegister(1, name='bc')\n",
    "\n",
    "# Create the Quantum Circuit\n",
    "qc = QuantumCircuit(a, b, a_c, b_c)\n",
    "\n",
    "\n",
    "qc.h(a)            # put a into a superposition of 0 and 1\n",
    "qc.cx(a, b)        # entangle a and b\n",
    "\n",
    "# Measure the qubits\n",
    "qc.measure(a, a_c)\n",
    "qc.measure(b, b_c)\n",
    "\n",
    "# Submit the job to the backend & get results\n",
    "backend = BasicAer.get_backend('statevector_simulator')\n",
    "job = execute(qc, backend)\n",
    "result = job.result()\n",
    "\n",
    "\n",
    "# Interrogate the results.\n",
    "counts = result.get_counts(qc)\n",
    "print('counts:',counts)\n"
   ]
  },
  {
   "cell_type": "markdown",
   "metadata": {},
   "source": [
    "### Print output state and circuit diagram for sake of intuition"
   ]
  },
  {
   "cell_type": "code",
   "execution_count": 29,
   "metadata": {
    "scrolled": true
   },
   "outputs": [
    {
     "name": "stdout",
     "output_type": "stream",
     "text": [
      "Output State:  [0.+0.j 0.+0.j 0.+0.j 1.+0.j] \n",
      "\n",
      "Normalized Result: \n",
      "0.0\n",
      "0.0\n",
      "0.0\n",
      "1.0\n"
     ]
    },
    {
     "data": {
      "image/png": "[encoded data removed]",
      "text/plain": [
       "<Figure size 418.992x264.88 with 1 Axes>"
      ]
     },
     "execution_count": 29,
     "metadata": {},
     "output_type": "execute_result"
    }
   ],
   "source": [
    "outputstate = result.get_statevector(qc, decimals=3)\n",
    "print(\"Output State: \", outputstate, \"\\n\")\n",
    "normalize_state_Vector(outputstate)\n",
    "qc.draw(output='mpl')        # draw the circuit"
   ]
  },
  {
   "cell_type": "markdown",
   "metadata": {},
   "source": [
    "### Print the circle plots for sake of intuition\n",
    "- Remember: they are binary numbers\n",
    "- It's either ONE ot THREE."
   ]
  },
  {
   "cell_type": "code",
   "execution_count": 30,
   "metadata": {},
   "outputs": [
    {
     "data": {
      "image/png": "[encoded data removed]",
      "text/plain": [
       "<Figure size 576x144 with 4 Axes>"
      ]
     },
     "metadata": {
      "needs_background": "light"
     },
     "output_type": "display_data"
    }
   ],
   "source": [
    "# Print out Circle Notation for intuitions sake\n",
    "\n",
    "from circle_plot import *\n",
    "plot_circles(outputstate)"
   ]
  },
  {
   "cell_type": "code",
   "execution_count": null,
   "metadata": {},
   "outputs": [],
   "source": []
  },
  {
   "cell_type": "markdown",
   "metadata": {},
   "source": [
    "# Developmental Detour : -  <font color=\"blue\">Quantum Teleportation</font>\n",
    "> **<font color=\"red\">Definition:</font>**  Quantum teleportation is a process in which **quantum information** (e.g. the exact state of an atom or photon) can be transmitted (exactly, in principle) from one location to another, with the help of classical communication and previously shared **quantum entanglement** between the sending and receiving location.\n",
    "- https://en.wikipedia.org/wiki/Quantum_teleportation\n",
    "\n",
    "    \n",
    "![teleportation-bell-jars](img/teleportation-bell-jars.png \"teleportation-bell-jars\")\n",
    "\n",
    "> **<font color=\"red\">Notice</font>** Quantum Teleportation is a **fundamental primitive** in **quantum networking and cryptography**, and other types of quantum computing.\n",
    "\n",
    "    \n",
    "    \n",
    "### Background Videos:\n",
    "\n",
    "#### Quantum entanglement and quantum teleportation? (2 Minutes)\n",
    "-https://www.youtube.com/watch?v=FwcZk4-tJ4s\n",
    "\n",
    "#### Teleportation: The Quantum Around You (8+ Minutes)\n",
    "- https://www.youtube.com/watch?v=A12TT2Jxf8k\n",
    "\n",
    "#### Explanatory Video (14+ Minutes)\n",
    "- https://www.youtube.com/watch?v=DxQK1WDYI_k"
   ]
  },
  {
   "cell_type": "markdown",
   "metadata": {},
   "source": [
    "## Quantum Teleportation Basics\n",
    "\n",
    "<BR>\n",
    "    \n",
    "![Quantum_Teleportation-MITx](img/Quantum_Teleportation-MITx.png \"\")\n",
    "\n",
    "<BR><BR>\n",
    "    \n",
    "![QC_Advantage-Teleportation](img/QC_Advantage-Teleportation.png \"\")\n",
    "\n",
    "<BR><BR>\n",
    "    \n",
    "    \n",
    "![QuantumTeleportationPPTDgm](img/QuantumTeleportationPPTDgm.png \"\")\n",
    "\n",
    "<BR>"
   ]
  },
  {
   "cell_type": "markdown",
   "metadata": {},
   "source": [
    "## <font color=\"blue\">Developmental Detour</font>:- <font color=\"red\">QCEngine</font> Teleportation Program WalkThrough\n",
    "\n",
    "- It's instructive to experience a Quantum Program / Circuit walkthrough end to end to get the full picture of the process.\n",
    "- It's detailed and dense, but worth the investment in time."
   ]
  },
  {
   "cell_type": "markdown",
   "metadata": {},
   "source": [
    "> ### Complete Teleportation Circuit\n",
    "\n",
    "![QT_CompleteCircuit](img/QT_CompleteCircuit.png \"\")"
   ]
  },
  {
   "cell_type": "markdown",
   "metadata": {},
   "source": [
    "> ### Create an Entangled Pair\n",
    "\n",
    "\n",
    "![QT-1_EntangledPair](img/QT-1_EntangledPair.png \"\")\n",
    "\n",
    "\n",
    "\n",
    "> Since we use three qubits in our teleportation example, their full description needs 2^3 = 8 circles (one for each possible combination of the 3 bits). We’ll arrange these eight circles in two rows, which helps us to visualize how operations affect the three constituent qubits.\n",
    "\n",
    "> You can check that these labels are correct by considering the **binary value of the register that each circle corresponds to**.\n",
    "\n",
    "> The first task for teleportation is **establishing an entangled link**. The **HAD** and **CNOT** combination achieving to create the specially named Bell pair entangled state of two qubits. One can see from the circle notation that if we read bob and ep, the values are **50/50 random**, but are **guaranteed to match each other** - **à la entanglement.**"
   ]
  },
  {
   "cell_type": "markdown",
   "metadata": {},
   "source": [
    "> ### Prepare the Payload\n",
    "\n",
    "![QT-2_PrepPayload](img/QT-2_PrepPayload.png \"\")\n",
    "\n",
    "\n",
    "> Having established an entanglement link, Alice can prepare the payload to be sent. How she prepares it depends, of course, on the nature of the (quantum) information that she wants to send to Bob.\n",
    "\n",
    "> In this example a **simple payload qubit** is prepared, using only **HAD** and **PHASE** operations. This has the benefit of producing a payload with a readily decipherable circle-notation pattern.\n",
    "\n",
    "> We can see that **the bob and ep qubits are still dependent on one another** (only the circles corresponding to the bob and ep qubits possessing equal values have nonzero magnitudes). We can also see that **the value of alice is not dependent on either of the other two qubits**, and furthermore that her payload preparation produced a qubit that is 85.4% ∣0⟩ and 14.6% ∣1⟩, with a relative phase of –90° (the circles corresponding to alice=1 are at 90° clockwise of the alice=0 circles, which is negative in our convention)."
   ]
  },
  {
   "cell_type": "markdown",
   "metadata": {},
   "source": [
    "> ### Link the Payload\n",
    "\n",
    "![QT-3_LinkPayload](img/QT-3_LinkPayload.png \"\")\n",
    "\n",
    "> The conditional nature of the CNOT operation can entangle the states of two qubits. **Alice now uses this fact to entangle her payload qubit with her half of the entangled pair she already shares with Bob**. In terms of circle notation, this action swaps circles around as shown.\n",
    "\n",
    "> Now that there exist multiple entangled states, there’s the potential for confusion — to be clear: Alice and Bob already each held one of two entangled qubits (produced in step 1). Now **Alice has entangled another (payload) qubit onto her half of this (already entangled) pair**. Intuitively notice that in some sense Alice has, by proxy, **now linked her payload to Bob’s half of the entangled pair** — although her payload qubit is still unchanged. **<font color=\"red\">Any READ operation results on her payload will now be logically linked with those of the other two qubits.</font>**\n",
    "\n",
    "- **Stretch**: This link can been seen in the circle notation since the QPU register state only contains entries where the XOR of all three qubits is 0. Formerly this was true of ep and bob, but now it is true for all three qubits forming a three-qubit entangled group.\n"
   ]
  },
  {
   "cell_type": "markdown",
   "metadata": {},
   "source": [
    "> ### Put the Payload into Superposition\n",
    "\n",
    "![QT-4_PayloadSuperposition](img/QT-4_PayloadSuperposition.png \"\")\n",
    "\n",
    "> To make the link that Alice has created for her payload actually useful, **she needs to finish by performing a <font color=\"red\">HAD operation</font> on her payload**. \n",
    "- *If Alice hadn’t applied HAD, she would have **destroyed magnitude and phase information** when applying her READ operations that she will shortly use*. \n",
    "\n",
    "- By applying the HAD operation, Alice was able to **maneuver** the state of Bob’s qubit closer to that of her payload.\n",
    "\n",
    "\n",
    "> Interestingly, the **four potential states** Bob could receive are **all different variations on Alice’s original payload**: \n",
    "\n",
    "0. In the first column (where alice=0 and ep=0), we have Alice’s payload, **exactly as she prepared it**.  \n",
    "0. In the second column, we have the same thing, **except with a PHASE(180) applied**.  \n",
    "0. In the third column, we see the correct payload, but with a **NOT** having been applied to it **(∣0⟩ and ∣1⟩ are flipped)**.  \n",
    "0. Finally, the last column is **both phase-shifted and flipped** (i.e., a PHASE(180) followed by a NOT)."
   ]
  },
  {
   "cell_type": "markdown",
   "metadata": {},
   "source": [
    "> ### Read Both of Alices Qubits\n",
    "\n",
    "![QT-5_ReadBothAliceQBs](img/QT-5_ReadBothAliceQBs.png \"\")\n",
    "\n",
    "\n",
    "> Next, **Alice performs a READ operation on her two qubits** (the payload and her half of the entangled pair she shares with Bob). \n",
    "- This READ irrevocably destroys both these qubits. You may wonder why Alice bothers to do this. \n",
    "- As it turns out that **the results of this unavoidably destructive READ operation are crucial for the teleportation protocol to work**. <font color=\"red\">Copying quantum states is not possible, even when using entanglement</font>. \n",
    "- *The only option to communicate quantum states is to teleport them, and when teleporting, we must destroy the original*.\n",
    "\n",
    "> Alice performs the *prescribed READ operations on her payload and her half of the entangled pair*. This operation returns **two bits**."
   ]
  },
  {
   "cell_type": "markdown",
   "metadata": {},
   "source": [
    "> ### Receive and Transform\n",
    "\n",
    "![QT-6_ReceiveTransform](img/QT-6_ReceiveTransform.png \"\")\n",
    "\n",
    "\n",
    "#### The Two bits of Classical Information\n",
    "- *State Spin Directions*\n",
    "\n",
    "> **Bob’s qubit could end up in one of <font color=\"red\">four</font> states** — each of which is simply related to Alice’s payload by HAD and/or PHASE(180) operations. If Bob could learn which of these <font color=\"red\">four</font> **states** he possessed, he could apply the necessary **inverse operations** to convert it back to Alice’s original payload. \n",
    "\n",
    "*And the **two bits** Alice has from her **READ** operations are precisely the information that Bob needs!* \n",
    "\n",
    "- <font color=\"red\">Note</font>: So at this stage, Alice picks up the <font color=\"red\">phone</font> and transmits two bits of conventional information to Bob.\n",
    "\n",
    "\n",
    "> Based on which two bits he receives, Bob knows which column from our circle-notation view represents his qubit. \n",
    "- If the first bit he receives from Alice is 1, he performs a **NOT** operation on the qubit. \n",
    "- Then, if the second bit is 1 he also performs a **PHASE(180)**.\n",
    "\n",
    "\n",
    "#### This completes the teleportation protocol — Bob now holds a qubit indistinguishable from Alice’s initial payload."
   ]
  },
  {
   "cell_type": "markdown",
   "metadata": {},
   "source": [
    "> ### Verify the Result\n",
    "\n",
    "![QT-7_VerifyResult](img/QT-7_VerifyResult.png \"\")\n",
    "\n",
    "<br>\n",
    "\n",
    "> If Alice and Bob were using this teleportation in serious work, they’d be finished. *Bob would take the teleported qubit from Alice and continue to use it in whatever larger quantum application they were working on.* So long as they trust their QPU hardware, they can rest assured that Bob has the qubit Alice intended.\n",
    "\n",
    "\n",
    "> **In the cases where we’d like to verify that the hardware has teleported a qubit correctly** - Our only option is to READ Bob’s final qubit. Of course, we can never expect to learn (and therefore verify) the state of his qubit from a **single READ**, but **by repeating the whole teleportation process and doing multiple READ's we can start to build up a picture of Bob’s state**. \n",
    "\n",
    "- In fact, the easiest way for us to verify the teleportation protocol’s success on a physical device would be for Bob to run the “prep the payload” steps that Alice performs on a |0> state to create her payload, on his final qubit, only in reverse. \n",
    "\n",
    "- If the qubit Bob has truly matches the one Alice sent, this should leave Bob with a |0> state, and if Bob then performs a final verification READ, it should only ever return a 0. \n",
    "\n",
    "- *If Bob ever READs this test qubit as nonzero, the teleportation has failed.*"
   ]
  },
  {
   "cell_type": "markdown",
   "metadata": {},
   "source": [
    "## <font color=\"red\">Exercise:</font> Using **<font color=\"blue\">QCEngine</font>** to Explore Quantum Teleportation\n",
    "\n",
    "> **NOTICE** - After understanding the basics of Quantum Teleportation, observe how that gets implemented in the circuit.\n",
    "\n",
    "- Run the program and follow the narrative listed above in the behavior of the circle plots. Observe the different results and step through the circuit to inspect the different stages of the teleportation operation."
   ]
  },
  {
   "cell_type": "code",
   "execution_count": 17,
   "metadata": {
    "scrolled": false
   },
   "outputs": [
    {
     "data": {
      "text/html": [
       "\n",
       "        <iframe\n",
       "            width=\"1200\"\n",
       "            height=\"600\"\n",
       "            src=\"https://oreilly-qc.github.io?p=4-1\"\n",
       "            frameborder=\"0\"\n",
       "            allowfullscreen\n",
       "        ></iframe>\n",
       "        "
      ],
      "text/plain": [
       "<IPython.lib.display.IFrame at 0x1972cd2be10>"
      ]
     },
     "execution_count": 17,
     "metadata": {},
     "output_type": "execute_result"
    }
   ],
   "source": [
    "# QUIRK (Quantum Curcuit Simulator) \n",
    "from IPython.display import IFrame\n",
    "IFrame(src='https://oreilly-qc.github.io?p=4-1', width=1200, height=600)"
   ]
  },
  {
   "cell_type": "markdown",
   "metadata": {},
   "source": [
    "## <font color=\"red\">Exercise:</font> Using **<font color=\"blue\">QUIRK</font>** to Explore Quantum Teleportation\n",
    "- #### Visual Inspection\n",
    "\n",
    "> **NOTICE** - The \"message\" gate provides insight into how the teleporting of the state of the qubit occures - follow it through the circuit.\n",
    "\n",
    "- Match the similar components from the QCEngine's implementation of Teleportation to the QUIRK's implementation.\n",
    "\n",
    "- Observe how the QUIRK implementation is different and how the teleportation still works.\n"
   ]
  },
  {
   "cell_type": "code",
   "execution_count": 4,
   "metadata": {
    "scrolled": false
   },
   "outputs": [
    {
     "data": {
      "text/html": [
       "\n",
       "        <iframe\n",
       "            width=\"1100\"\n",
       "            height=\"700\"\n",
       "            src=\"https://algassert.com/quirk#circuit={%22cols%22:[[1,%22H%22],[1,%22%E2%80%A2%22,1,1,%22X%22],[%22%E2%80%A6%22,%22%E2%80%A6%22],[%22~87lj%22],[%22Bloch%22],[%22%E2%80%A2%22,%22X%22],[%22H%22],[%22Measure%22,%22Measure%22],[%22Bloch%22,%22Bloch%22],[1,%22%E2%80%A2%22,1,1,%22X%22],[%22%E2%80%A2%22,1,1,1,%22Z%22]],%22gates%22:[{%22id%22:%22~87lj%22,%22name%22:%22message%22,%22circuit%22:{%22cols%22:[[%22e^-iYt%22],[%22X^t%22]]}},{%22id%22:%22~f7c0%22,%22name%22:%22received%22,%22matrix%22:%22{{1,0},{0,1}}%22}]}\"\n",
       "            frameborder=\"0\"\n",
       "            allowfullscreen\n",
       "        ></iframe>\n",
       "        "
      ],
      "text/plain": [
       "<IPython.lib.display.IFrame at 0x15b4ea422b0>"
      ]
     },
     "execution_count": 4,
     "metadata": {},
     "output_type": "execute_result"
    }
   ],
   "source": [
    "# QUIRK (Quantum Curcuit Simulator) \n",
    "from IPython.display import IFrame\n",
    "IFrame(src='https://algassert.com/quirk#circuit={%22cols%22:[[1,%22H%22],[1,%22%E2%80%A2%22,1,1,%22X%22],[%22%E2%80%A6%22,%22%E2%80%A6%22],[%22~87lj%22],[%22Bloch%22],[%22%E2%80%A2%22,%22X%22],[%22H%22],[%22Measure%22,%22Measure%22],[%22Bloch%22,%22Bloch%22],[1,%22%E2%80%A2%22,1,1,%22X%22],[%22%E2%80%A2%22,1,1,1,%22Z%22]],%22gates%22:[{%22id%22:%22~87lj%22,%22name%22:%22message%22,%22circuit%22:{%22cols%22:[[%22e^-iYt%22],[%22X^t%22]]}},{%22id%22:%22~f7c0%22,%22name%22:%22received%22,%22matrix%22:%22{{1,0},{0,1}}%22}]}', width=1100, height=700)"
   ]
  },
  {
   "cell_type": "markdown",
   "metadata": {},
   "source": [
    "## <font color=\"red\">Exercise:</font> Using **<font color=\"blue\">QISKIT</font>** to Explore Quantum Teleportation\n",
    "\n",
    "> **NOTICE** - Compare this circuit to the corresponding QCEngine circuit and follow the architecture, execution, and resulting curcuit.\n",
    "\n",
    "- Note the differences in implementation and inspection capabilities.\n",
    "\n",
    "### Setup the program\n",
    "- There is randomness inherent in this program, so run it a few times and observe it's behavior."
   ]
  },
  {
   "cell_type": "code",
   "execution_count": 49,
   "metadata": {},
   "outputs": [
    {
     "name": "stdout",
     "output_type": "stream",
     "text": [
      "counts: {'0 1 1': 1}\n"
     ]
    }
   ],
   "source": [
    "from qiskit import QuantumCircuit, QuantumRegister, ClassicalRegister, execute, Aer, IBMQ, BasicAer\n",
    "import math\n",
    "import numpy as np\n",
    "\n",
    "## Uncomment the next line to see diagrams when running in a notebook\n",
    "%matplotlib inline\n",
    "\n",
    "# Helper Funtion for Normalizing State Vectors\n",
    "#\n",
    "def normalize_state_Vector(state_vector):\n",
    "    print(\"Normalized Result: \")\n",
    "    for result in state_vector:\n",
    "        print(round( np.abs(result)**2, 1) )\n",
    "           \n",
    "            \n",
    "## Example 4-1: Basic Teleportation\n",
    "\n",
    "# Set up the program\n",
    "\n",
    "# Quantum Registers\n",
    "alice = QuantumRegister(1, name='alice')\n",
    "ep    = QuantumRegister(1, name='ep')\n",
    "bob   = QuantumRegister(1, name='bob')\n",
    "\n",
    "# Classical Registers\n",
    "alice_c = ClassicalRegister(1, name='alicec')\n",
    "ep_c    = ClassicalRegister(1, name='epc')\n",
    "bob_c   = ClassicalRegister(1, name='bobc')\n",
    "\n",
    "# Quantum Circuit\n",
    "qc = QuantumCircuit(alice, ep, bob, alice_c, ep_c, bob_c)\n",
    "\n",
    "\n",
    "# entangle the key qubits in the circuit\n",
    "#\n",
    "qc.h(ep)\n",
    "qc.cx(ep, bob)\n",
    "qc.barrier()\n",
    "\n",
    "\n",
    "# prep payload\n",
    "qc.reset(alice)\n",
    "qc.h(alice)\n",
    "qc.rz(math.radians(45), alice)\n",
    "qc.h(alice)\n",
    "qc.barrier()\n",
    "\n",
    "\n",
    "# send the state of Allices Qubit\n",
    "# \n",
    "qc.cx(alice, ep)\n",
    "qc.h(alice)\n",
    "qc.measure(alice, alice_c)\n",
    "qc.measure(ep, ep_c)\n",
    "qc.barrier()\n",
    "\n",
    "\n",
    "# Bob receives Alices Qubits State\n",
    "#\n",
    "qc.x(bob).c_if(ep_c, 1)\n",
    "qc.z(bob).c_if(alice_c, 1)\n",
    "\n",
    "\n",
    "# verify the receipt of the state\n",
    "#\n",
    "qc.h(bob)\n",
    "qc.rz(math.radians(-45), bob)\n",
    "qc.h(bob)\n",
    "qc.measure(bob, bob_c)\n",
    "\n",
    "\n",
    "## That's the program. Everything below runs and draws it.\n",
    "\n",
    "backend = BasicAer.get_backend('statevector_simulator')\n",
    "job = execute(qc, backend)\n",
    "result = job.result()\n",
    "\n",
    "\n",
    "counts = result.get_counts(qc)\n",
    "print('counts:',counts)"
   ]
  },
  {
   "cell_type": "markdown",
   "metadata": {},
   "source": [
    "### Print out StateVector and Circuit Diagram for intuition sake"
   ]
  },
  {
   "cell_type": "code",
   "execution_count": 50,
   "metadata": {
    "scrolled": false
   },
   "outputs": [
    {
     "name": "stdout",
     "output_type": "stream",
     "text": [
      "Output State:  [0.+0.j 0.+0.j 0.+0.j 1.-0.j 0.+0.j 0.+0.j 0.+0.j 0.+0.j] \n",
      "\n",
      "Normalized Result: \n",
      "0.0\n",
      "0.0\n",
      "0.0\n",
      "1.0\n",
      "0.0\n",
      "0.0\n",
      "0.0\n",
      "0.0\n"
     ]
    },
    {
     "data": {
      "image/png": "[encoded data removed]",
      "text/plain": [
       "<Figure size 1365.34x385.28 with 1 Axes>"
      ]
     },
     "execution_count": 50,
     "metadata": {},
     "output_type": "execute_result"
    }
   ],
   "source": [
    "outputstate = result.get_statevector(qc, decimals=3)\n",
    "print(\"Output State: \", outputstate, \"\\n\")\n",
    "normalize_state_Vector(outputstate)\n",
    "qc.draw(output='mpl')        # draw the circuit"
   ]
  },
  {
   "cell_type": "markdown",
   "metadata": {},
   "source": [
    "### Print out Circle Plots for intuition sake"
   ]
  },
  {
   "cell_type": "code",
   "execution_count": 51,
   "metadata": {
    "scrolled": true
   },
   "outputs": [
    {
     "data": {
      "image/png": "[encoded data removed]",
      "text/plain": [
       "<Figure size 1152x144 with 8 Axes>"
      ]
     },
     "metadata": {
      "needs_background": "light"
     },
     "output_type": "display_data"
    }
   ],
   "source": [
    "# Print out Circle Notation for intuitions sake\n",
    "\n",
    "from circle_plot import *\n",
    "plot_circles(outputstate)"
   ]
  },
  {
   "cell_type": "code",
   "execution_count": null,
   "metadata": {},
   "outputs": [],
   "source": []
  },
  {
   "cell_type": "markdown",
   "metadata": {},
   "source": [
    "# <font color=\"red\">Graded Exercises</font>  for use <font color=\"blue\">with structured courses.</font>\n",
    "\n",
    "## QC Concepts \n",
    "\n",
    "- Go through the **entire** JNB and complete each of the exercises, including any supplementary Video's - hand in completed <font color=\"red\">**PDF**</font> from this JNB once finished.\n",
    "\n",
    "\n",
    "- Step through the code for **each** of the above exercises, make sure you can (1) execute it, and (2) know what it does.\n",
    "\n",
    "\n",
    "- <font color=\"blue\">Complete Challenge Exercises below.</font> **(turn in the JNB)**\n",
    "\n",
    "\n",
    "\n",
    "> 0. **Level 3 Quirky Puzzles**:  https://uncertain-systems.com/puzzles.html (Interference)\n",
    "> 0. **Level 4 Quirky (type) Puzzles**:  https://uncertain-systems.com/puzzles.html (Entanglement)\n",
    "\n",
    "\n"
   ]
  },
  {
   "cell_type": "markdown",
   "metadata": {},
   "source": [
    "## QUIRKY <font color=\"red\">Interference and Entanglement Problems</font>\n",
    "- To help build intuition about Interference and Entanglement, solve the following puzzles. \n",
    "\n",
    "**<font color=\"red\"> IMPORTANT</font>** - Copy the URL String into a new tab and do you work there, then when finished, copy the completed URL string to the proper cell below for evaluation and grading.\n",
    "\n",
    "\n",
    "- **Each puzzle starts with a hidden gate** that induces interference or entanglement  - your job is to do the following:\n"
   ]
  },
  {
   "cell_type": "markdown",
   "metadata": {},
   "source": [
    "### Interference - Turn the Qubits <font color=\"red\">OFF</font>"
   ]
  },
  {
   "cell_type": "code",
   "execution_count": 12,
   "metadata": {},
   "outputs": [
    {
     "data": {
      "text/html": [
       "\n",
       "        <iframe\n",
       "            width=\"900\"\n",
       "            height=\"600\"\n",
       "            src=\"https://uncertain-systems.com/puzzles/quirk_lvl3.html#circuit={%22cols%22:[[%22H%22,%22H%22],[%22~605h%22],[%22Amps1%22,%22Amps1%22]],%22gates%22:[{%22id%22:%22~4ish%22,%22name%22:%22%F0%9F%A7%9D%F0%9F%8F%BB%22,%22circuit%22:{%22cols%22:[[%22H%22,%22H%22,%22H%22],[%22Z%22,%22Z^%C2%BD%22,%22Z^%C2%BC%22]]}},{%22id%22:%22~er8q%22,%22name%22:%22%F0%9F%91%A9%F0%9F%8F%BE%E2%80%8D%F0%9F%A4%9D%E2%80%8D%F0%9F%91%A9%F0%9F%8F%BB%22,%22circuit%22:{%22cols%22:[[%22H%22,%22H%22,%22H%22],[%22Z^t%22,{%22id%22:%22Z^ft%22,%22arg%22:%222*t%22},{%22id%22:%22Rzft%22,%22arg%22:%22(pi/2)*t%22}]]}},{%22id%22:%22~c9t9%22,%22name%22:%22%F0%9F%A7%96%F0%9F%8F%BB%22,%22circuit%22:{%22cols%22:[[%22Y^t%22,%22X^t%22,%22Y^-t%22]]}},{%22id%22:%22~jgrm%22,%22name%22:%22%F0%9F%91%A9%F0%9F%8F%BE%E2%80%8D%F0%9F%8D%BC%22,%22circuit%22:{%22cols%22:[[{%22id%22:%22Y^ft%22,%22arg%22:%22t/2%22},{%22id%22:%22X^ft%22,%22arg%22:%224*t%22},{%22id%22:%22Ryft%22,%22arg%22:%22pi%20t%22},%22Rxft%22]]}},{%22id%22:%22~da9m%22,%22name%22:%22Gates%20here%22,%22matrix%22:%22{{1,0},{0,1}}%22},{%22id%22:%22~vjrd%22,%22name%22:%22Gates%20Here%22,%22matrix%22:%22{{1,0,0,0},{0,1,0,0},{0,0,1,0},{0,0,0,1}}%22},{%22id%22:%22~605h%22,%22name%22:%22%F0%9F%91%A8%F0%9F%8F%BE%E2%80%8D%F0%9F%94%A7%22,%22circuit%22:{%22cols%22:[[%22Z^%C2%BD%22,%22Z^%C2%BC%22]]}}]}\"\n",
       "            frameborder=\"0\"\n",
       "            allowfullscreen\n",
       "        ></iframe>\n",
       "        "
      ],
      "text/plain": [
       "<IPython.lib.display.IFrame at 0x1972cd2b748>"
      ]
     },
     "execution_count": 12,
     "metadata": {},
     "output_type": "execute_result"
    }
   ],
   "source": [
    "# QUIRKey (Quantum Circuit Simulator)\n",
    "from IPython.display import IFrame\n",
    "IFrame(src='https://uncertain-systems.com/puzzles/quirk_lvl3.html#circuit={%22cols%22:[[%22H%22,%22H%22],[%22~605h%22],[%22Amps1%22,%22Amps1%22]],%22gates%22:[{%22id%22:%22~4ish%22,%22name%22:%22%F0%9F%A7%9D%F0%9F%8F%BB%22,%22circuit%22:{%22cols%22:[[%22H%22,%22H%22,%22H%22],[%22Z%22,%22Z^%C2%BD%22,%22Z^%C2%BC%22]]}},{%22id%22:%22~er8q%22,%22name%22:%22%F0%9F%91%A9%F0%9F%8F%BE%E2%80%8D%F0%9F%A4%9D%E2%80%8D%F0%9F%91%A9%F0%9F%8F%BB%22,%22circuit%22:{%22cols%22:[[%22H%22,%22H%22,%22H%22],[%22Z^t%22,{%22id%22:%22Z^ft%22,%22arg%22:%222*t%22},{%22id%22:%22Rzft%22,%22arg%22:%22(pi/2)*t%22}]]}},{%22id%22:%22~c9t9%22,%22name%22:%22%F0%9F%A7%96%F0%9F%8F%BB%22,%22circuit%22:{%22cols%22:[[%22Y^t%22,%22X^t%22,%22Y^-t%22]]}},{%22id%22:%22~jgrm%22,%22name%22:%22%F0%9F%91%A9%F0%9F%8F%BE%E2%80%8D%F0%9F%8D%BC%22,%22circuit%22:{%22cols%22:[[{%22id%22:%22Y^ft%22,%22arg%22:%22t/2%22},{%22id%22:%22X^ft%22,%22arg%22:%224*t%22},{%22id%22:%22Ryft%22,%22arg%22:%22pi%20t%22},%22Rxft%22]]}},{%22id%22:%22~da9m%22,%22name%22:%22Gates%20here%22,%22matrix%22:%22{{1,0},{0,1}}%22},{%22id%22:%22~vjrd%22,%22name%22:%22Gates%20Here%22,%22matrix%22:%22{{1,0,0,0},{0,1,0,0},{0,0,1,0},{0,0,0,1}}%22},{%22id%22:%22~605h%22,%22name%22:%22%F0%9F%91%A8%F0%9F%8F%BE%E2%80%8D%F0%9F%94%A7%22,%22circuit%22:{%22cols%22:[[%22Z^%C2%BD%22,%22Z^%C2%BC%22]]}}]}', width=900, height=600)"
   ]
  },
  {
   "cell_type": "markdown",
   "metadata": {},
   "source": [
    "### Copy your completed QUIRK URL string in the cell below.\n",
    "\n",
    "It'll be of the following form: \n",
    "\n",
    "https://algassert.com/quirk#circuit={%22cols%22:[[%22~bhpb%22]],%22gates%22:[{%22id%22:%22~bhpb%22,%22name%22:%22Problem-#2%22,%22circuit%22:{%22cols%22:[[%22H%22,%22H%22,%22H%22],[%22%E2%80%A2%22,%22%E2%80%A2%22,%22X%22]]}}]}\n",
    "\n",
    "\n",
    "\n",
    "#### Your COMPLETED QUIRK URL String Goes under here:\n",
    "\n",
    "\n",
    "<BR><BR><BR>\n",
    "."
   ]
  },
  {
   "cell_type": "code",
   "execution_count": 13,
   "metadata": {},
   "outputs": [
    {
     "data": {
      "text/html": [
       "\n",
       "        <iframe\n",
       "            width=\"900\"\n",
       "            height=\"600\"\n",
       "            src=\"https://uncertain-systems.com/puzzles/quirk_lvl3.html#circuit={%22cols%22:[[%22~2atg%22],[%22Amps1%22]],%22gates%22:[{%22id%22:%22~4ish%22,%22name%22:%22%F0%9F%A7%9D%F0%9F%8F%BB%22,%22circuit%22:{%22cols%22:[[%22H%22,%22H%22,%22H%22],[%22Z%22,%22Z^%C2%BD%22,%22Z^%C2%BC%22]]}},{%22id%22:%22~er8q%22,%22name%22:%22%F0%9F%91%A9%F0%9F%8F%BE%E2%80%8D%F0%9F%A4%9D%E2%80%8D%F0%9F%91%A9%F0%9F%8F%BB%22,%22circuit%22:{%22cols%22:[[%22H%22,%22H%22,%22H%22],[%22Z^t%22,{%22id%22:%22Z^ft%22,%22arg%22:%222*t%22},{%22id%22:%22Rzft%22,%22arg%22:%22(pi/2)*t%22}]]}},{%22id%22:%22~c9t9%22,%22name%22:%22%F0%9F%A7%96%F0%9F%8F%BB%22,%22circuit%22:{%22cols%22:[[%22Y^t%22,%22X^t%22,%22Y^-t%22]]}},{%22id%22:%22~jgrm%22,%22name%22:%22%F0%9F%91%A9%F0%9F%8F%BE%E2%80%8D%F0%9F%8D%BC%22,%22circuit%22:{%22cols%22:[[{%22id%22:%22Y^ft%22,%22arg%22:%22t/2%22},{%22id%22:%22X^ft%22,%22arg%22:%224*t%22},{%22id%22:%22Ryft%22,%22arg%22:%22pi%20t%22},%22Rxft%22]]}},{%22id%22:%22~da9m%22,%22name%22:%22Gates%20here%22,%22matrix%22:%22{{1,0},{0,1}}%22},{%22id%22:%22~vjrd%22,%22name%22:%22Gates%20Here%22,%22matrix%22:%22{{1,0,0,0},{0,1,0,0},{0,0,1,0},{0,0,0,1}}%22},{%22id%22:%22~605h%22,%22name%22:%22%F0%9F%91%A8%F0%9F%8F%BE%E2%80%8D%F0%9F%94%A7%22,%22circuit%22:{%22cols%22:[[%22Z^%C2%BD%22,%22Z^%C2%BC%22]]}},{%22id%22:%22~lgtk%22,%22name%22:%22%F0%9F%91%8B%F0%9F%8F%BC%22,%22circuit%22:{%22cols%22:[[%22Y^%C2%BC%22,%22Y^%C2%BC%22,{%22id%22:%22X^ft%22,%22arg%22:%221/8%22},{%22id%22:%22X^ft%22,%22arg%22:%221/3%22}],[1,%22Z^%C2%BD%22,%22Z^-%C2%BD%22,%22Z^%C2%BC%22]]}},{%22id%22:%22~2atg%22,%22name%22:%22%E2%9D%95%22,%22circuit%22:{%22cols%22:[[{%22id%22:%22X^ft%22,%22arg%22:%221/8%22}],[%22Z^-%C2%BD%22]]}}]}\"\n",
       "            frameborder=\"0\"\n",
       "            allowfullscreen\n",
       "        ></iframe>\n",
       "        "
      ],
      "text/plain": [
       "<IPython.lib.display.IFrame at 0x1972cd2b908>"
      ]
     },
     "execution_count": 13,
     "metadata": {},
     "output_type": "execute_result"
    }
   ],
   "source": [
    "# QUIRKey (Quantum Circuit Simulator)\n",
    "from IPython.display import IFrame\n",
    "IFrame(src='https://uncertain-systems.com/puzzles/quirk_lvl3.html#circuit={%22cols%22:[[%22~2atg%22],[%22Amps1%22]],%22gates%22:[{%22id%22:%22~4ish%22,%22name%22:%22%F0%9F%A7%9D%F0%9F%8F%BB%22,%22circuit%22:{%22cols%22:[[%22H%22,%22H%22,%22H%22],[%22Z%22,%22Z^%C2%BD%22,%22Z^%C2%BC%22]]}},{%22id%22:%22~er8q%22,%22name%22:%22%F0%9F%91%A9%F0%9F%8F%BE%E2%80%8D%F0%9F%A4%9D%E2%80%8D%F0%9F%91%A9%F0%9F%8F%BB%22,%22circuit%22:{%22cols%22:[[%22H%22,%22H%22,%22H%22],[%22Z^t%22,{%22id%22:%22Z^ft%22,%22arg%22:%222*t%22},{%22id%22:%22Rzft%22,%22arg%22:%22(pi/2)*t%22}]]}},{%22id%22:%22~c9t9%22,%22name%22:%22%F0%9F%A7%96%F0%9F%8F%BB%22,%22circuit%22:{%22cols%22:[[%22Y^t%22,%22X^t%22,%22Y^-t%22]]}},{%22id%22:%22~jgrm%22,%22name%22:%22%F0%9F%91%A9%F0%9F%8F%BE%E2%80%8D%F0%9F%8D%BC%22,%22circuit%22:{%22cols%22:[[{%22id%22:%22Y^ft%22,%22arg%22:%22t/2%22},{%22id%22:%22X^ft%22,%22arg%22:%224*t%22},{%22id%22:%22Ryft%22,%22arg%22:%22pi%20t%22},%22Rxft%22]]}},{%22id%22:%22~da9m%22,%22name%22:%22Gates%20here%22,%22matrix%22:%22{{1,0},{0,1}}%22},{%22id%22:%22~vjrd%22,%22name%22:%22Gates%20Here%22,%22matrix%22:%22{{1,0,0,0},{0,1,0,0},{0,0,1,0},{0,0,0,1}}%22},{%22id%22:%22~605h%22,%22name%22:%22%F0%9F%91%A8%F0%9F%8F%BE%E2%80%8D%F0%9F%94%A7%22,%22circuit%22:{%22cols%22:[[%22Z^%C2%BD%22,%22Z^%C2%BC%22]]}},{%22id%22:%22~lgtk%22,%22name%22:%22%F0%9F%91%8B%F0%9F%8F%BC%22,%22circuit%22:{%22cols%22:[[%22Y^%C2%BC%22,%22Y^%C2%BC%22,{%22id%22:%22X^ft%22,%22arg%22:%221/8%22},{%22id%22:%22X^ft%22,%22arg%22:%221/3%22}],[1,%22Z^%C2%BD%22,%22Z^-%C2%BD%22,%22Z^%C2%BC%22]]}},{%22id%22:%22~2atg%22,%22name%22:%22%E2%9D%95%22,%22circuit%22:{%22cols%22:[[{%22id%22:%22X^ft%22,%22arg%22:%221/8%22}],[%22Z^-%C2%BD%22]]}}]}', width=900, height=600)"
   ]
  },
  {
   "cell_type": "markdown",
   "metadata": {},
   "source": [
    "### Copy your completed QUIRK URL string in the cell below.\n",
    "\n",
    "It'll be of the following form: \n",
    "\n",
    "https://algassert.com/quirk#circuit={%22cols%22:[[%22~bhpb%22]],%22gates%22:[{%22id%22:%22~bhpb%22,%22name%22:%22Problem-#2%22,%22circuit%22:{%22cols%22:[[%22H%22,%22H%22,%22H%22],[%22%E2%80%A2%22,%22%E2%80%A2%22,%22X%22]]}}]}\n",
    "\n",
    "\n",
    "\n",
    "#### Your COMPLETED QUIRK URL String Goes under here:\n",
    "\n",
    "\n",
    "<BR><BR><BR>\n",
    "."
   ]
  },
  {
   "cell_type": "markdown",
   "metadata": {},
   "source": [
    "### Entanglement - Turn the Qubits <font color=\"red\">OFF</font>"
   ]
  },
  {
   "cell_type": "code",
   "execution_count": 14,
   "metadata": {},
   "outputs": [
    {
     "data": {
      "text/html": [
       "\n",
       "        <iframe\n",
       "            width=\"900\"\n",
       "            height=\"600\"\n",
       "            src=\"https://algassert.com/quirk#circuit={%22cols%22:[[%22~f0hg%22]],%22gates%22:[{%22id%22:%22~f0hg%22,%22name%22:%22Puzzle-#1%22,%22circuit%22:{%22cols%22:[[%22H%22],[%22%E2%80%A2%22,%22X%22]]}}]}\"\n",
       "            frameborder=\"0\"\n",
       "            allowfullscreen\n",
       "        ></iframe>\n",
       "        "
      ],
      "text/plain": [
       "<IPython.lib.display.IFrame at 0x1972cd2ba20>"
      ]
     },
     "execution_count": 14,
     "metadata": {},
     "output_type": "execute_result"
    }
   ],
   "source": [
    "# QUIRK (Quantum Circuit Simulator)\n",
    "from IPython.display import IFrame\n",
    "IFrame(src='https://algassert.com/quirk#circuit={%22cols%22:[[%22~f0hg%22]],%22gates%22:[{%22id%22:%22~f0hg%22,%22name%22:%22Puzzle-#1%22,%22circuit%22:{%22cols%22:[[%22H%22],[%22%E2%80%A2%22,%22X%22]]}}]}', width=900, height=600)"
   ]
  },
  {
   "cell_type": "markdown",
   "metadata": {},
   "source": [
    "### Copy your completed QUIRK URL string in the cell below.\n",
    "\n",
    "It'll be of the following form: \n",
    "\n",
    "https://algassert.com/quirk#circuit={%22cols%22:[[%22~bhpb%22]],%22gates%22:[{%22id%22:%22~bhpb%22,%22name%22:%22Problem-#2%22,%22circuit%22:{%22cols%22:[[%22H%22,%22H%22,%22H%22],[%22%E2%80%A2%22,%22%E2%80%A2%22,%22X%22]]}}]}\n",
    "\n",
    "\n",
    "\n",
    "#### Your COMPLETED QUIRK URL String Goes under here:\n",
    "\n",
    "\n",
    "<BR><BR><BR>\n",
    "."
   ]
  },
  {
   "cell_type": "code",
   "execution_count": 15,
   "metadata": {},
   "outputs": [
    {
     "data": {
      "text/html": [
       "\n",
       "        <iframe\n",
       "            width=\"900\"\n",
       "            height=\"600\"\n",
       "            src=\"https://algassert.com/quirk#circuit={%22cols%22:[[%22~vpbl%22]],%22gates%22:[{%22id%22:%22~vpbl%22,%22name%22:%22Puzzle-#2%22,%22circuit%22:{%22cols%22:[[%22H%22],[%22%E2%80%A2%22,1,%22X%22]]}}]}\"\n",
       "            frameborder=\"0\"\n",
       "            allowfullscreen\n",
       "        ></iframe>\n",
       "        "
      ],
      "text/plain": [
       "<IPython.lib.display.IFrame at 0x1972cd2b860>"
      ]
     },
     "execution_count": 15,
     "metadata": {},
     "output_type": "execute_result"
    }
   ],
   "source": [
    "# QUIRK (Quantum Circuit Simulator)\n",
    "from IPython.display import IFrame\n",
    "IFrame(src='https://algassert.com/quirk#circuit={%22cols%22:[[%22~vpbl%22]],%22gates%22:[{%22id%22:%22~vpbl%22,%22name%22:%22Puzzle-#2%22,%22circuit%22:{%22cols%22:[[%22H%22],[%22%E2%80%A2%22,1,%22X%22]]}}]}', width=900, height=600)"
   ]
  },
  {
   "cell_type": "markdown",
   "metadata": {},
   "source": [
    "### Copy your completed QUIRK URL string in the cell below.\n",
    "\n",
    "It'll be of the following form: \n",
    "\n",
    "https://algassert.com/quirk#circuit={%22cols%22:[[%22~bhpb%22]],%22gates%22:[{%22id%22:%22~bhpb%22,%22name%22:%22Problem-#2%22,%22circuit%22:{%22cols%22:[[%22H%22,%22H%22,%22H%22],[%22%E2%80%A2%22,%22%E2%80%A2%22,%22X%22]]}}]}\n",
    "\n",
    "\n",
    "\n",
    "#### Your COMPLETED QUIRK URL String Goes under here:\n",
    "\n",
    "\n",
    "<BR><BR><BR>\n",
    "."
   ]
  },
  {
   "cell_type": "markdown",
   "metadata": {},
   "source": [
    "![the-end](img/the-end.png \"the-end\")"
   ]
  }
 ],
 "metadata": {
  "kernelspec": {
   "display_name": "qcousins",
   "language": "python",
   "name": "qcousins"
  },
  "language_info": {
   "codemirror_mode": {
    "name": "ipython",
    "version": 3
   },
   "file_extension": ".py",
   "mimetype": "text/x-python",
   "name": "python",
   "nbconvert_exporter": "python",
   "pygments_lexer": "ipython3",
   "version": "3.7.1"
  }
 },
 "nbformat": 4,
 "nbformat_minor": 2
}
