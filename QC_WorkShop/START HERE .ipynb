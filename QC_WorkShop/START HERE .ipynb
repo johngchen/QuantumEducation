{
 "cells": [
  {
   "cell_type": "markdown",
   "metadata": {},
   "source": [
    "# Quantum Computing Workshop Series\n",
    "- #### Hands-on Experiential Learning <font color=\"red\">for the Software Engineer</font>"
   ]
  },
  {
   "cell_type": "markdown",
   "metadata": {},
   "source": [
    "![QC_Workshop-Banner](img/QC_Workshop-Banner1.png \"QC_Workshop-Banner\")\n"
   ]
  },
  {
   "cell_type": "markdown",
   "metadata": {},
   "source": [
    "## Description\n",
    "\n",
    "> This workshop is designed to be a <font color=\"red\">hand-on experiential learning engagement</font> where participants are **exposed** to and **learn** the implementation aspects of quantum comuting by **\"doing\"** - that is by: <font color=\"blue\">executing</font> code, <font color=\"blue\">manipulating</font> simulators, and <font color=\"blue\">visualizing</font> the quantum computational process through a variety of vehicles designed to foster **\"intuition\"** about the concepts. \n",
    "\n"
   ]
  },
  {
   "cell_type": "markdown",
   "metadata": {},
   "source": [
    "## Who is this Workshop for?\n",
    "\n",
    "> This workshop is for software engineers (computer scientists) who want a solid (**experienced based**) <font color=\"red\">introduction</font> to quantum computing *without having to learn opaque mathematics or dense quantum physics first*.\n",
    "- It's also useful for those who have a solid conceptial understanding of the subject, but are *lacking in the implementation aspects of the space*.\n",
    "\n",
    "\n",
    "\n",
    "## Who is this Workshop <font color=\"red\">not</font>  for?\n",
    "\n",
    "> The experienced quantum engineer, or PhD already in this space."
   ]
  },
  {
   "cell_type": "markdown",
   "metadata": {},
   "source": [
    "## GOAL: \n",
    "- ### Develpoing a strong intuition of concepts is <font color=\"red\">primary</font> - implementation frameworks and simulators is <font color=\"blue\">secondary</font>!"
   ]
  },
  {
   "cell_type": "markdown",
   "metadata": {},
   "source": [
    "## Pedagogical Approach: \n",
    "\n",
    "This material is intended to educate **software engineers** in certain aspects of Quantum Computing, therefore its focus will be on conveying the conceptual ideas in a form digestible to them, and supporting it with exercises to reinforce those concepts. \n",
    "\n",
    "Because of that pedagogical approach, **this material won't lead with or heavily leverage the concepts and language indigenous to physics and math**, but only in those terms most easily digestible to the modern software engineer.\n",
    "\n",
    "This Jupyter Notebook is <font color=\"red\">**not intended as a stand alone educational vehicle**</font>  - it's meant to be accompanied by a decicated power point deck that contains the main concepts to be presented by an instructor -  **it is intended as a vehicle for a hands on workshop environment to facilitate learning through a guided experience.**\n",
    "\n",
    "> **Note:-** Because of the above educational approach:\n",
    "1. There is a certain amount of basic Quantum Computing knowledge that is assumed.\n",
    "2. An active internet connection is **always** assumed.\n",
    "3. Online references/links will be provided where appropriate\n",
    "4. References to books will be made where appropriate\n",
    "5. Much of this material is **dense and detailed**, the reader is <font color=\"red\">**cautioned**</font> to be careful and slow to digest the *nuances* of the material."
   ]
  },
  {
   "cell_type": "markdown",
   "metadata": {},
   "source": [
    "# Agenda\n",
    "\n",
    "> The workshop is meant to be executed in the prescribed module order below (1-7) - each section builds upon the previous section and the concepts accumulate as the modules progress."
   ]
  },
  {
   "cell_type": "markdown",
   "metadata": {},
   "source": [
    "\n",
    "\n",
    "### (1) Quantum Computing - Preparation and Primer\n",
    "<a href=\"Quantum Computing Preparation and Primer.ipynb\" target=\"_blank\"><img src=\"img/Agenda_QCPP-Banner.png\" width=\"300\" align=left></a>\n",
    "\n",
    "<BR><BR><BR>\n",
    "<BR><BR><BR>\n",
    "<BR><BR>\n",
    "    \n",
    "### (2) The Qubit and the Bloch Sphere\n",
    "<a href=\"Qubit - Bloch Sphere.ipynb\" target=\"_blank\"><img src=\"img/Agenda_qubit-banner-modern.png\" width=\"300\" align=left></a>\n",
    "\n",
    "<BR><BR><BR>\n",
    "<BR><BR><BR>\n",
    "<BR><BR><BR>\n",
    "    \n",
    "### (3) Quantum Gates to Quantum Circuits\n",
    "<a href=\"Quantum Circuits.ipynb\" target=\"_blank\"><img src=\"img/Agenda_quirk-simulator1.png\" width=\"300\" align=left></a>\n",
    "\n",
    "<BR><BR><BR>\n",
    "<BR><BR><BR>\n",
    "<BR><BR><BR>\n",
    "<BR><BR>\n",
    "    \n",
    "### (4) Quantum Computing Key Concepts \n",
    "<a href=\"QC Concepts .ipynb\" target=\"_blank\"><img src=\"img/Agenda_qc-banner1.png\" width=\"300\" align=left></a>\n",
    "\n",
    "<BR><BR><BR>\n",
    "<BR><BR><BR>\n",
    "<BR><BR>\n",
    "    \n",
    "### (5) Simple Quantum Algorithms\n",
    "<a href=\"Simple Quantum Algorithms.ipynb\" target=\"_blank\"><img src=\"img/Agenda_simple-quantum-algorithms.png\" width=\"300\" align=left></a>\n",
    "\n",
    "<BR><BR><BR>\n",
    "<BR><BR><BR>\n",
    "<BR><BR>\n",
    "    \n",
    "### (6) Quantum Problems (and Practicals) \n",
    "<a href=\"Quantum Problems and Practicals.ipynb\" target=\"_blank\"><img src=\"img/Agenda_QProbPracts.png\" width=\"300\" align=left></a>\n",
    "\n",
    "<BR><BR><BR>\n",
    "<BR><BR><BR>\n",
    "<BR><BR>    \n",
    "    \n",
    "### (7) Quantum Machine Learning (QML) \n",
    "<a href=\"Quantum Machine Learning.ipynb\" target=\"_blank\"><img src=\"img/Agenda_QML-Banner3.png\" width=\"300\" align=left></a>\n",
    "\n",
    "\n",
    "\n",
    "<BR><BR><BR>\n",
    "<BR><BR><BR>\n",
    "<BR><BR>   \n",
    "\n",
    "\n",
    "\n",
    "\n",
    "\n",
    "    "
   ]
  },
  {
   "cell_type": "markdown",
   "metadata": {},
   "source": [
    "<img src=\"img/the-end.png\" height=\"100\" align=left>\n"
   ]
  },
  {
   "cell_type": "code",
   "execution_count": null,
   "metadata": {},
   "outputs": [],
   "source": []
  }
 ],
 "metadata": {
  "kernelspec": {
   "display_name": "base_ext",
   "language": "python",
   "name": "base_ext"
  },
  "language_info": {
   "codemirror_mode": {
    "name": "ipython",
    "version": 3
   },
   "file_extension": ".py",
   "mimetype": "text/x-python",
   "name": "python",
   "nbconvert_exporter": "python",
   "pygments_lexer": "ipython3",
   "version": "3.7.7"
  },
  "toc": {
   "base_numbering": 1,
   "nav_menu": {},
   "number_sections": true,
   "sideBar": true,
   "skip_h1_title": false,
   "title_cell": "Table of Contents",
   "title_sidebar": "Contents",
   "toc_cell": false,
   "toc_position": {},
   "toc_section_display": true,
   "toc_window_display": true
  }
 },
 "nbformat": 4,
 "nbformat_minor": 2
}
